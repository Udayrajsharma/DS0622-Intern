{
 "cells": [
  {
   "cell_type": "code",
   "execution_count": 37,
   "id": "bb75e4b4-2e13-44f2-be25-bbba2bfe92a1",
   "metadata": {},
   "outputs": [
    {
     "name": "stdout",
     "output_type": "stream",
     "text": [
      "Requirement already satisfied: selenium in d:\\anaconda\\lib\\site-packages (4.2.0)\n",
      "Requirement already satisfied: trio-websocket~=0.9 in d:\\anaconda\\lib\\site-packages (from selenium) (0.9.2)\n",
      "Requirement already satisfied: trio~=0.17 in d:\\anaconda\\lib\\site-packages (from selenium) (0.20.0)\n",
      "Requirement already satisfied: urllib3[secure,socks]~=1.26 in d:\\anaconda\\lib\\site-packages (from selenium) (1.26.7)\n",
      "Requirement already satisfied: outcome in d:\\anaconda\\lib\\site-packages (from trio~=0.17->selenium) (1.1.0)\n",
      "Requirement already satisfied: idna in d:\\anaconda\\lib\\site-packages (from trio~=0.17->selenium) (3.2)\n",
      "Requirement already satisfied: sniffio in d:\\anaconda\\lib\\site-packages (from trio~=0.17->selenium) (1.2.0)\n",
      "Requirement already satisfied: attrs>=19.2.0 in d:\\anaconda\\lib\\site-packages (from trio~=0.17->selenium) (21.2.0)\n",
      "Requirement already satisfied: sortedcontainers in d:\\anaconda\\lib\\site-packages (from trio~=0.17->selenium) (2.4.0)\n",
      "Requirement already satisfied: cffi>=1.14 in d:\\anaconda\\lib\\site-packages (from trio~=0.17->selenium) (1.14.6)\n",
      "Requirement already satisfied: async-generator>=1.9 in d:\\anaconda\\lib\\site-packages (from trio~=0.17->selenium) (1.10)\n",
      "Requirement already satisfied: pycparser in d:\\anaconda\\lib\\site-packages (from cffi>=1.14->trio~=0.17->selenium) (2.20)\n",
      "Requirement already satisfied: wsproto>=0.14 in d:\\anaconda\\lib\\site-packages (from trio-websocket~=0.9->selenium) (1.1.0)\n",
      "Requirement already satisfied: pyOpenSSL>=0.14 in d:\\anaconda\\lib\\site-packages (from urllib3[secure,socks]~=1.26->selenium) (21.0.0)\n",
      "Requirement already satisfied: cryptography>=1.3.4 in d:\\anaconda\\lib\\site-packages (from urllib3[secure,socks]~=1.26->selenium) (3.4.8)\n",
      "Requirement already satisfied: certifi in d:\\anaconda\\lib\\site-packages (from urllib3[secure,socks]~=1.26->selenium) (2021.10.8)\n",
      "Requirement already satisfied: PySocks!=1.5.7,<2.0,>=1.5.6 in d:\\anaconda\\lib\\site-packages (from urllib3[secure,socks]~=1.26->selenium) (1.7.1)\n",
      "Requirement already satisfied: six>=1.5.2 in d:\\anaconda\\lib\\site-packages (from pyOpenSSL>=0.14->urllib3[secure,socks]~=1.26->selenium) (1.16.0)\n",
      "Requirement already satisfied: h11<1,>=0.9.0 in d:\\anaconda\\lib\\site-packages (from wsproto>=0.14->trio-websocket~=0.9->selenium) (0.13.0)\n"
     ]
    }
   ],
   "source": [
    "!pip install selenium"
   ]
  },
  {
   "cell_type": "code",
   "execution_count": 38,
   "id": "305b3c5d-8b44-4afe-b879-dde199f11df4",
   "metadata": {},
   "outputs": [],
   "source": [
    "import selenium\n",
    "from selenium import webdriver\n",
    "\n",
    "from selenium.webdriver.common.by import By\n",
    "import time\n",
    "import warnings\n",
    "warnings.filterwarnings('ignore')\n",
    "from selenium.common.exceptions import NoSuchElementException"
   ]
  },
  {
   "cell_type": "code",
   "execution_count": 39,
   "id": "f307d999-e801-46d9-8979-4ef50b191efa",
   "metadata": {},
   "outputs": [],
   "source": [
    "driver=webdriver.Chrome(r\"D:\\OneDrive\\Documents\\Downloads\\chromedriver_win32\\chromedriver.exe\")"
   ]
  },
  {
   "cell_type": "code",
   "execution_count": 40,
   "id": "864d575f-ad13-45bf-9dd4-56eff000c5b4",
   "metadata": {},
   "outputs": [],
   "source": [
    "driver.get(\"https://www.amazon.in/\")"
   ]
  },
  {
   "cell_type": "code",
   "execution_count": 43,
   "id": "7e5a0ed9-98b7-439c-a83d-7f5e9a7b5480",
   "metadata": {},
   "outputs": [],
   "source": [
    "#provide the input to site\n",
    "guitar=driver.find_element(By.XPATH,'/html/body/div[1]/header/div/div[1]/div[2]/div/form/div[2]/div[1]/input') #ElementNotInteractableException\n",
    "#guitar=driver.find_element(By.XPATH,'//div[@class=\"nav-fill\"]')\n",
    "driver.maximize_window()\n",
    "guitar.send_keys(\"guitar\")"
   ]
  },
  {
   "cell_type": "code",
   "execution_count": 44,
   "id": "fb74f5c5",
   "metadata": {},
   "outputs": [],
   "source": [
    "click=driver.find_element(By.XPATH,'/html/body/div[1]/header/div/div[1]/div[2]/div/form/div[3]/div/span/input')\n",
    "click.click()"
   ]
  },
  {
   "cell_type": "code",
   "execution_count": 7,
   "id": "ee468489-c607-4796-b155-8e16a5229237",
   "metadata": {},
   "outputs": [],
   "source": [
    "# try:\n",
    "#     element=driver.find_elements(By.XPATH,'//div[@class=\"nav-search-field\"]')\n",
    "#     print(element.text)\n",
    "# except NoSuchElementException as e:\n",
    "#     print(\"Exception Raised:\",e)\n",
    "#     element=driver.find_elements(By.XPATH,'//div[@class=\"nav-fill\"]')\n",
    "#     print(element.text)"
   ]
  },
  {
   "cell_type": "markdown",
   "id": "3084dd16",
   "metadata": {},
   "source": [
    "# QUIZ-2"
   ]
  },
  {
   "cell_type": "code",
   "execution_count": 8,
   "id": "51546ca3",
   "metadata": {},
   "outputs": [
    {
     "data": {
      "text/plain": [
       "['Kadence Slowhand Premium Jumbo Semi Acoustic Guitar with Heavy Padded Bag, guitar cable, Pro Capo (Black Spruce Wood)',\n",
       " 'Kadence Frontier guitar with Online Guitar learning course , Wine Red Acoustic Guitar with Die Cast Keys, Set of Strings, Strap, Picks and Bag (Wine Red, Acoustic)',\n",
       " 'VD ENTERPRISE String Acoustic Guitar | Adjustable Tunning Knob | Classical Guitar Toy | Musical Instrument Learning Toy for Kids',\n",
       " \"Hontral S4 String Decor Guitar Children's Musical Instrument Educational Toy Small Guitar for Beginners Kids Child - 23Inch\",\n",
       " 'Juârez Acoustic Guitar, 38 Inch Cutaway, 038C with Bag, Strings, Pick and Strap, Black',\n",
       " 'Intern INT-38C Right hand Acoustic Guitar Kit, With Bag, Strings, Pick And Strap, Black, small',\n",
       " 'Intern INT-38C Acoustic Guitar Kit (Blue)',\n",
       " 'Intern INT-38C Lindenwood Acoustic Guitar Kit (Sunburst) With Carry Bag, Picks, Strings Set And Guitar Strap (Small)',\n",
       " 'Hovner 215 Black F-Cut Rosewood Fretboard Acoustic Guitar With Bag,Strap,1 Set of Extra Strings and 2 Picks By K-Retail',\n",
       " 'Intern Int-38c Sunburst Linden Wood Acoustic Guitar Kit with Carry Bag and Picks',\n",
       " 'Yamaha F280 Acoustic Rosewood Guitar (Natural, Beige)',\n",
       " 'Kadence 40 Incheses Frontier Series, wood Acoustic Guitar With/Wihtout EQ Die Cast Keys Combo (Bag,strap,strings And 3 picks) (Black, Acoustic)',\n",
       " 'Kadence rosewood Guitar Frontier Series, Electric Acoustic Black Guitar With EQ, Die Cast Keys, Set Of Strings, Strap, Picks And Bag (Black EQ, Electric Acoustic)',\n",
       " 'Intern INT-38C-BK-G Cutaway Right Handed Acoustic Guitar Kit, with Bag, Nickel Strings, Pick And Strap (Black) -6 Strings',\n",
       " 'Fender CD 60 Dread V3 DS 6 String Acoustic Guitar - Walnut Fretboard-Black Right-Handed One of The Most reputed Guitar Brands in the World. 0970110506',\n",
       " 'Yamaha FS100C Acoustic Guitar, Natural',\n",
       " 'Hovner 215 Black F-Cut Rosewood Fretboard Acoustic Guitar With Bag,Strap,1 Set of Extra Strings and 2 Picks By K-Retail',\n",
       " '',\n",
       " 'JUAREZ JRZ38C 38 Inches Lindenwood Right Handed Acoustic Guitar With Bag, Strings, Pick And Strap (Natural, Brown, 6 Strings)',\n",
       " 'Intern 38C Wooden Acoustic Steel-String Guitar Premium White Cutaway Design With Carry Bag, Strings, Guitar Strap And Plectrums (Int-38C-Wh)',\n",
       " 'Juarez Lindenwood Acoustic Guitar, 38 Inches Curved Body Cutaway, 38CUR With Bag, Strings, Pick And Strap (Black)',\n",
       " 'Medellin M38 carbon fiber body 38 Incheses Acoustic Guitar (Black) Durable Matt finish With hAndrest, strings, strap, bag, 3 Picks, capo, stAnd',\n",
       " 'Juarez Acoustic Guitar, 38 Inch Cutaway with Pick Guard, 38CPG with Bag, Strings, Pick and Strap, Black',\n",
       " 'Juârez JRZ38C/ZEB 6 Strings Acoustic Guitar 38 Inch Cutaway, Right Handed, Zebrawood with Bag, Strings, Picks and Strap',\n",
       " \"RK Shop String Acoustic Guitar , Learning Toys for Girl & Boys,Musical Instrument Educational Guitar Toy for Beginners Kids 17'' - ( Pack of 1 )\",\n",
       " 'Blueberry B-D38 38 Incheses wood Acoustic Guitar Kit Inbuilt Truss Rod With Bag, Strap, One Pack Strings And Picks (Blue)',\n",
       " 'NM Signature Blue Rosewood Fretboard Acoustic Guitar With Bag,Strap,1 Set of Extra Strings and 2 Picks',\n",
       " 'DIKUJI ENTERPRISE Plastic Medium Acoustic Guitar Learning Toy for Kids (Brown)',\n",
       " 'Juarez Lindenwood Acoustic Guitar Kit, 38 Inches Cutaway, 38C With Bag, Strings, Pick And Strap, TBS Transparent (Blue Sunburst)',\n",
       " 'Medellin M38 carbon fiber body 38 Incheses Acoustic Guitar (Blue Burst) Durable Matt finish With hAndrest, strings, strap, bag, 3 Picks, capo, stAnd',\n",
       " 'Kadence Frontier Jumbo Semi Acoustic Guitar With Die Cast Keys, Super Combo (Bag, 1 pack Strings, Strap, Picks, Capo (Black)',\n",
       " 'Intern INT-38C-NT-G 38 Incheses lindenwood Right HAnded Acoustic Guitar Kit With Bag, Strings, Pick And Strap (Natural, 6-Strings)',\n",
       " 'Juarez Lindenwood Acoustic Guitar Kit, 38 Inches Cutaway, 38C With Bag, Strings, Pick And Strap, 3TS Sunburst',\n",
       " 'Yamaha FS100C Acoustic Guitar, Black',\n",
       " 'Intern INT-38C Acoustic Guitar Kit (Red)',\n",
       " 'JUAREZ JRZ-ST01, 6 Strings Linden Wood Electric Guitar, Right Handed with Bag/Case, 2 x Picks (3TS Sunburst)',\n",
       " 'Juarez Acoustic Guitar, [ LEFT HANDED] 38 Inch Cutaway, 38CL/BK with Bag, Strings, Pick and Strap, Black',\n",
       " 'Kadence Slowhand Premium Jumbo Semi Acoustic Guitar with Heavy Padded Bag, guitar cable, Pro Capo (Black Spruce Wood)',\n",
       " 'Juârez JRZ38C/MAH 6 Strings Acoustic Guitar 38 Inch Cutaway, Right Handed, Mahogany with Bag, Strings, Picks and Strap',\n",
       " 'Yamaha FS100C Acoustic Guitar, Natural',\n",
       " 'Juarez Acoustic Guitar, [LEFT HANDED] 96.52 cm (38 Inch) Cutaway, 38CL/TBLS with Bag, Strings, Pick and Strap, Blue Sunburst',\n",
       " 'INTERN Cutaway Design Acoustic Guitar Pack -Humidity Proof body, Bend resistance, Durable Action, Natural tone & bright resonance. Blue Carbon Fibre/Fiber Guitar with Bag, Strap, Strings set, Picks…',\n",
       " 'Juarez JRZ-ST01 6-String Electric Guitar, Right Handed, Black, with Case/Bag and Picks',\n",
       " 'Schecter SGR C1 BK Electric Guitar Satin Black',\n",
       " 'Yamaha F280 Acoustic Guitar, Tobacco Brown Sunburst',\n",
       " 'Juarez Acoustic Guitar, 38 Inch Cutaway, 38CMB with Bag, Strings, Pick and Strap, Matte Black',\n",
       " 'Fender 0930307021 SA-105CE Dreadnought Cutaway Electric Guitar - Natural',\n",
       " 'Medellin 38\" Acoustic Guitar premium wood with adjustable Truss-rod, free online learning course, Set Of Strings, Strap, Bag and 3 Picks (Sunburst Truss Rod)…… (white)',\n",
       " 'Vault EA40 41 inch Premium Solid Spruce-Top Cutaway Acoustic Guitar',\n",
       " 'YAMAHA FS80C BLACK CONCERT CUTAWAY GUITAR',\n",
       " 'Intern INT-38C Acoustic Guitar Kit (Natural)',\n",
       " 'INTERN 41 inches Acoustic Guitar with truss rod. Includes carry bag, strings pack, strap & plectrums. Premium Wooden durable built, tonal stability & for all age-groups (Jamming Black).…',\n",
       " 'Hovner Carlton Special Quality Rosewood Fretboard Blue Semi Acoustic Guitar With Bag,Strap,1 Set of Extra Strings and 2 Picks By K-Retail (Blue)',\n",
       " 'Medellin 38\" Acoustic Guitar Purple Burst Carbon Fiber body+(Free Online Learning Course) - Durable Matt finish with handrest, strings, strap, bag, 3 Picks, capo, stand.',\n",
       " 'Revel 38 Inches Cutaway Design Acoustic Guitar with Carry bag and Plectrums. Great tone and Beginner/Learners standard size configuration for all age groups (Black)',\n",
       " 'Kadence 40 Incheses Frontier Series, rosewood Semi Acoustic Guitar With Die Cast Keys (Bag,Strap,Strings And 3 Picks) (Natural)',\n",
       " 'YAMAHA F310, 6-Strings Rose Wood Acoustic Guitar, Natural',\n",
       " 'Medellin MDCF38BK 38\" Carbon Fiber Acoustic Guitar With HAndrest, Set Of Strings, Strap, Bag, 3 Picks, Capo, Guitar Wall Hanging StAnd (Matt Pink)',\n",
       " 'Medellin 38\" Acoustic Guitar Carbon Fiber body+(Free Online Learning Course) - Durable Matt finish with handrest, strings, strap, bag, 3 Picks, capo, stand. (natural)',\n",
       " 'Vault CL-20 4/4 size Classical Guitar With Bag',\n",
       " 'Festra R-40-Natural Acoustic Guitar Kit with Bag, Strap, One Pack Strings And 2 Picks',\n",
       " 'Blueberry 38C, 38\" Acoustic Guitar Kit with Bag, Strap, One Pack Strings And Picks (Redburst)',\n",
       " 'GUITAR BRO - COMBO (Black Acoustic Guitar for Beginner, Guitar Learning Kit, Song Book, Video Lectures, Accessories like Pick, Bag)',\n",
       " 'Epiphone Pro - 1 Acoustic Guitar, Vintage Sunbusrt']"
      ]
     },
     "execution_count": 8,
     "metadata": {},
     "output_type": "execute_result"
    }
   ],
   "source": [
    "Brand=[]\n",
    "start=0\n",
    "end=3\n",
    "for page in range(start,end):\n",
    "#Brand_name=driver.find_elements(By.CLASS_NAME,'//span[@class=\"a-size-base-plus a-color-base a-text-normal\"]')\n",
    "    Brand_name=driver.find_elements(By.XPATH,'//span[@class=\"a-size-base-plus a-color-base a-text-normal\"]')\n",
    "    for i in Brand_name:\n",
    "        Brand_name=i.text\n",
    "        Brand.append(Brand_name)\n",
    "    Next_button=driver.find_element(By.XPATH,'/html/body')\n",
    "    Next_button.click()\n",
    "    time.sleep(5)    \n",
    "Brand"
   ]
  },
  {
   "cell_type": "code",
   "execution_count": 45,
   "id": "9fe99175",
   "metadata": {
    "scrolled": false
   },
   "outputs": [
    {
     "data": {
      "text/plain": [
       "['6,299',\n",
       " '9,900',\n",
       " '4,949',\n",
       " '4,949',\n",
       " '9,900',\n",
       " '2,398',\n",
       " '799',\n",
       " '2,149',\n",
       " '2,299',\n",
       " '2,399',\n",
       " '6,998',\n",
       " '2,099',\n",
       " '2,399',\n",
       " '2,099',\n",
       " '4,480',\n",
       " '7,290',\n",
       " '7,490',\n",
       " '2,099',\n",
       " '5,498',\n",
       " '12,499',\n",
       " '9,990',\n",
       " '',\n",
       " '',\n",
       " '4,998',\n",
       " '2,299',\n",
       " '2,499',\n",
       " '2,399',\n",
       " '2,440',\n",
       " '2,759',\n",
       " '999',\n",
       " '899',\n",
       " '3,990',\n",
       " '2,655',\n",
       " '2,749',\n",
       " '2,428',\n",
       " '2,479',\n",
       " '2,600',\n",
       " '3,339',\n",
       " '6,329',\n",
       " '9,990',\n",
       " '9,990',\n",
       " '2,399',\n",
       " '2,428',\n",
       " '2,499',\n",
       " '3,522',\n",
       " '9,900',\n",
       " '3,590',\n",
       " '2,390',\n",
       " '25,499',\n",
       " '11,800',\n",
       " '2,109',\n",
       " '6,990',\n",
       " '7,590',\n",
       " '7,849',\n",
       " '2,132',\n",
       " '5,397',\n",
       " '6,698',\n",
       " '2,739',\n",
       " '2,755',\n",
       " '6,890',\n",
       " '7,370',\n",
       " '2,398',\n",
       " '7,290',\n",
       " '4,799',\n",
       " '4,750',\n",
       " '2,428',\n",
       " '3,599',\n",
       " '999',\n",
       " '2,695',\n",
       " '8,999',\n",
       " '14,490',\n",
       " '2,398',\n",
       " '549',\n",
       " '2,515',\n",
       " '8,999',\n",
       " '9,298',\n",
       " '2,428',\n",
       " '1,511',\n",
       " '2,428',\n",
       " '2,849',\n",
       " '21,039',\n",
       " '6,998',\n",
       " '8,599',\n",
       " '8,699',\n",
       " '7,999',\n",
       " '2,755',\n",
       " '2,247',\n",
       " '2,507',\n",
       " '9,760',\n",
       " '7,998',\n",
       " '13,085',\n",
       " '4,990',\n",
       " '4,495',\n",
       " '13,400',\n",
       " '4,465',\n",
       " '2,695',\n",
       " '6,698',\n",
       " '4,480',\n",
       " '7,999',\n",
       " '2,247',\n",
       " '10,999',\n",
       " '10,299',\n",
       " '15,741',\n",
       " '4,669',\n",
       " '2,570',\n",
       " '5,798',\n",
       " '4,998',\n",
       " '15,990',\n",
       " '10,800',\n",
       " '5,999',\n",
       " '4,465',\n",
       " '15,500',\n",
       " '13,085',\n",
       " '2,399',\n",
       " '6,499',\n",
       " '7,677',\n",
       " '9,950',\n",
       " '10,151',\n",
       " '10,863',\n",
       " '16,099',\n",
       " '8,998',\n",
       " '10,611',\n",
       " '11,990',\n",
       " '14,490',\n",
       " '3,690',\n",
       " '15,980',\n",
       " '2,695',\n",
       " '10,580',\n",
       " '10,800',\n",
       " '2,695',\n",
       " '299',\n",
       " '2,395',\n",
       " '4,495',\n",
       " '4,795',\n",
       " '2,999',\n",
       " '6,500',\n",
       " '8,799',\n",
       " '12,450',\n",
       " '12,570',\n",
       " '12,531',\n",
       " '37,262',\n",
       " '10,990',\n",
       " '6,298',\n",
       " '9,449',\n",
       " '19,999',\n",
       " '8,498',\n",
       " '6,900',\n",
       " '4,336',\n",
       " '8,990',\n",
       " '1,21,999',\n",
       " '3,260',\n",
       " '13,930',\n",
       " '6,930',\n",
       " '2,895',\n",
       " '769',\n",
       " '7,499',\n",
       " '9,990',\n",
       " '5,189',\n",
       " '1,10,999',\n",
       " '12,799',\n",
       " '886',\n",
       " '4,100',\n",
       " '16,799',\n",
       " '10,490',\n",
       " '3,317',\n",
       " '9,490',\n",
       " '42,555',\n",
       " '2,399',\n",
       " '3,598',\n",
       " '19,999',\n",
       " '9,898',\n",
       " '6,250',\n",
       " '2,699',\n",
       " '12,499',\n",
       " '8,500',\n",
       " '885',\n",
       " '1,00,769',\n",
       " '15,200',\n",
       " '4,299',\n",
       " '43,462',\n",
       " '88,636',\n",
       " '10,250',\n",
       " '13,640',\n",
       " '8,390',\n",
       " '9,490',\n",
       " '999',\n",
       " '42,900',\n",
       " '2,895',\n",
       " '4,990',\n",
       " '899',\n",
       " '4,498']"
      ]
     },
     "execution_count": 45,
     "metadata": {},
     "output_type": "execute_result"
    }
   ],
   "source": [
    "Price=[]\n",
    "start=0\n",
    "end=3\n",
    "for i in range(start,end):\n",
    "    Price_item=driver.find_elements(By.XPATH,'//span[@class=\"a-price-whole\"]')\n",
    "    for i in Price_item:\n",
    "        Price_item=i.text\n",
    "        Price.append(Price_item)\n",
    "    next_button=driver.find_element(By.XPATH,'//a[@class=\"s-pagination-item s-pagination-next s-pagination-button s-pagination-separator\"]')\n",
    "    next_button.click()\n",
    "    time.sleep(5) \n",
    "Price    "
   ]
  },
  {
   "cell_type": "code",
   "execution_count": 47,
   "id": "d7c7a0e5",
   "metadata": {},
   "outputs": [],
   "source": [
    "click=[]\n",
    "clic=driver.find_element(By.XPATH,'/html/body/div[1]/div[2]/div[1]/div[1]/div/span[1]/div[1]/div[3]/div/div/div/div/div/div/div[3]/div[1]/h2/a/span')\n",
    "clic.click()"
   ]
  },
  {
   "cell_type": "code",
   "execution_count": 53,
   "id": "bc9e84d3",
   "metadata": {},
   "outputs": [
    {
     "data": {
      "text/plain": [
       "[]"
      ]
     },
     "execution_count": 53,
     "metadata": {},
     "output_type": "execute_result"
    }
   ],
   "source": [
    "Return_exchange=[]\n",
    "# start=0\n",
    "# end=3\n",
    "# for i in range(start,end):\n",
    "Return =driver.find_elements(By.XPATH,'/html/body/div[2]/div[2]/div[5]/div[4]/div[4]/div[23]/div[2]/div/div/div/div[3]/span/div[2]/a')\n",
    "for i in Return:\n",
    "    Return=i.text\n",
    "    Return_exchange.append(Return)\n",
    "#     Next_button=driver.find_element(By.XPATH,'')\n",
    "Return_exchange"
   ]
  },
  {
   "cell_type": "code",
   "execution_count": null,
   "id": "036d05d8",
   "metadata": {},
   "outputs": [],
   "source": []
  },
  {
   "cell_type": "code",
   "execution_count": null,
   "id": "b7bf4505",
   "metadata": {},
   "outputs": [],
   "source": []
  },
  {
   "cell_type": "code",
   "execution_count": null,
   "id": "8da3d982",
   "metadata": {},
   "outputs": [],
   "source": []
  },
  {
   "cell_type": "markdown",
   "id": "840d65c6",
   "metadata": {},
   "source": [
    "# Quiz-3"
   ]
  },
  {
   "cell_type": "code",
   "execution_count": 13,
   "id": "8da7445f-2201-49bf-96f6-22bfbf220793",
   "metadata": {},
   "outputs": [],
   "source": [
    "import selenium\n",
    "from selenium import webdriver\n",
    "from selenium.webdriver.common.by import By\n",
    "import time\n",
    "import warnings\n",
    "warnings.filterwarnings('ignore')\n"
   ]
  },
  {
   "cell_type": "code",
   "execution_count": 14,
   "id": "dcc51239",
   "metadata": {},
   "outputs": [],
   "source": [
    "driver=webdriver.Chrome(r\"D:\\OneDrive\\Documents\\Downloads\\chromedriver_win32\\chromedriver.exe\")"
   ]
  },
  {
   "cell_type": "code",
   "execution_count": 15,
   "id": "b28647ec",
   "metadata": {},
   "outputs": [],
   "source": [
    "driver.get(\"https://www.google.com/\")\n",
    "driver.maximize_window()"
   ]
  },
  {
   "cell_type": "code",
   "execution_count": 16,
   "id": "f2329ed5",
   "metadata": {},
   "outputs": [],
   "source": [
    "enter_name=driver.find_element(By.XPATH,'/html/body/div[1]/div[3]/form/div[1]/div[1]/div[1]/div/div[2]/input')\n",
    "enter_name.send_keys(\"fruits\")"
   ]
  },
  {
   "cell_type": "code",
   "execution_count": 17,
   "id": "51e5e1d5",
   "metadata": {},
   "outputs": [],
   "source": [
    "#check the Video for this...\n",
    "Search= driver.find_element(By.XPATH,'/html/body/div[1]/div[3]/form/div[1]/div[1]/div[4]/center/input[1]')\n",
    "Search.click()"
   ]
  },
  {
   "cell_type": "code",
   "execution_count": 60,
   "id": "0697e6f5",
   "metadata": {},
   "outputs": [],
   "source": [
    "img_urls=[]\n",
    "fruit_pic=driver.find_elements(By.XPATH,'//div[@class=\"XOEbc\"]')\n",
    "for i in fruit_pic:\n",
    "    source=i.get_attribute('src')\n",
    "    if source is not None:\n",
    "            if(source[0:4] == 'http'):\n",
    "                img_urls.append(source)\n",
    "        \n",
    "\n",
    "            \n",
    "len(img_urls)\n",
    "\n",
    "for i in range(len(img_urls)):\n",
    "\n",
    "    if i >= 100:\n",
    "\n",
    "        break\n",
    "\n",
    "    print(\"Downloading {0} of {1} images\" .format(i, 100))\n",
    "\n",
    "    response= requests.get(img_urls[i])\n",
    "\n",
    "    file = open(r\"C:\\Users\\user\\images\\fruits\"+str(i)+\".jpg\", \"wb\")  # change path according to your system\n",
    "\n",
    "    file.write(response.content)"
   ]
  },
  {
   "cell_type": "code",
   "execution_count": 92,
   "id": "6d90399d",
   "metadata": {},
   "outputs": [],
   "source": [
    "\n",
    " \n",
    "\n",
    "#scrolling down the page using pixel\n",
    "\n",
    "for _ in range(1000):\n",
    "\n",
    "    driver.execute_script(\"window.scrollBy(0,1000000)\")\n",
    "\n",
    "images = driver.find_elements(By.XPATH,'//img[@class=\"rg_i Q4LuWd\"]')\n",
    "\n",
    "img_urls = []\n",
    "\n",
    "img_data = []\n",
    "\n",
    "for image in images:\n",
    "\n",
    "    source= image.get_attribute('src')\n",
    "\n",
    "    if source is not None:\n",
    "\n",
    "        if(source[0:4] == 'http'):\n",
    "\n",
    "            img_urls.append(source)\n",
    "\n",
    "len(img_urls)\n",
    "\n",
    "for i in range(len(img_urls)):\n",
    "\n",
    "    if i >= 100:\n",
    "\n",
    "        break\n",
    "\n",
    "    print(\"Downloading {0} of {1} images\" .format(i, 100))\n",
    "\n",
    "    response= requests.get(img_urls[i])\n",
    "\n",
    "    file = open(r\"C:\\Users\\user\\images\\fruits\"+str(i)+\".jpg\", \"wb\")  # change path according to your system\n",
    "\n",
    "    file.write(response.content)"
   ]
  },
  {
   "cell_type": "code",
   "execution_count": null,
   "id": "8a7d84fc",
   "metadata": {},
   "outputs": [],
   "source": []
  },
  {
   "cell_type": "code",
   "execution_count": null,
   "id": "c1cc65e7",
   "metadata": {},
   "outputs": [],
   "source": []
  },
  {
   "cell_type": "code",
   "execution_count": null,
   "id": "2972b396",
   "metadata": {},
   "outputs": [],
   "source": []
  },
  {
   "cell_type": "markdown",
   "id": "fa6f8a64",
   "metadata": {},
   "source": [
    "# Quiz-4"
   ]
  },
  {
   "cell_type": "code",
   "execution_count": 73,
   "id": "532f6c46",
   "metadata": {},
   "outputs": [],
   "source": [
    "driver=webdriver.Chrome(r\"D:\\OneDrive\\Documents\\Downloads\\chromedriver_win32\\chromedriver.exe\")"
   ]
  },
  {
   "cell_type": "code",
   "execution_count": 74,
   "id": "d1d57a5e",
   "metadata": {},
   "outputs": [],
   "source": [
    "driver.get(\"https://www.flipkart.com/\")\n",
    "driver.maximize_window()"
   ]
  },
  {
   "cell_type": "code",
   "execution_count": 75,
   "id": "f968dc8c",
   "metadata": {},
   "outputs": [],
   "source": [
    "Brand=driver.find_element(By.XPATH,'/html/body/div/div/div[1]/div[1]/div[2]/div[2]/form/div/div/input')\n",
    "Brand.send_keys(\"smartphone\")"
   ]
  },
  {
   "cell_type": "code",
   "execution_count": 77,
   "id": "b6b44f9c",
   "metadata": {},
   "outputs": [],
   "source": [
    "Search=driver.find_element(By.XPATH,'/html/body/div/div/div[1]/div[1]/div[2]/div[2]/form/div/button')\n",
    "Search.click()"
   ]
  },
  {
   "cell_type": "code",
   "execution_count": 78,
   "id": "6ffbfc7d",
   "metadata": {
    "scrolled": true
   },
   "outputs": [
    {
     "data": {
      "text/plain": [
       "['REDMI 9i Sport (Metallic Blue, 64 GB)',\n",
       " 'REDMI 9i Sport (Coral Green, 64 GB)',\n",
       " 'POCO C31 (Royal Blue, 64 GB)',\n",
       " 'MOTOROLA e40 (Carbon Gray, 64 GB)',\n",
       " 'POCO C31 (Shadow Gray, 64 GB)',\n",
       " 'MOTOROLA e40 (Pink Clay, 64 GB)',\n",
       " 'REDMI 10 (Caribbean Green, 64 GB)',\n",
       " 'REDMI 9i Sport (Carbon Black, 64 GB)',\n",
       " 'MOTOROLA G32 (Mineral Gray, 64 GB)',\n",
       " 'realme 9 (Meteor Black, 128 GB)',\n",
       " 'realme 9 (Sunburst Gold, 128 GB)',\n",
       " 'REDMI 10 (Midnight Black, 64 GB)',\n",
       " 'realme 9i (Prism Blue, 128 GB)',\n",
       " 'realme 9i (Prism Black, 128 GB)',\n",
       " 'MOTOROLA g52 (Charcoal Grey, 128 GB)',\n",
       " 'REDMI 10 (Pacific Blue, 64 GB)',\n",
       " 'MOTOROLA g52 (Metallic White, 128 GB)',\n",
       " 'realme 10 Pro 5G (Dark Matter, 128 GB)',\n",
       " 'realme 10 Pro 5G (Nebula Blue, 128 GB)',\n",
       " 'realme 10 Pro 5G (Dark Matter, 128 GB)',\n",
       " 'realme 10 Pro 5G (Hyperspace, 128 GB)',\n",
       " 'realme 10 Pro 5G (Nebula Blue, 128 GB)',\n",
       " 'realme C30 (Lake Blue, 32 GB)',\n",
       " 'realme C30 (Bamboo Green, 32 GB)']"
      ]
     },
     "execution_count": 78,
     "metadata": {},
     "output_type": "execute_result"
    }
   ],
   "source": [
    "Brand_name=[]\n",
    "Brand=driver.find_elements(By.CLASS_NAME,\"_4rR01T\")\n",
    "for i in Brand:\n",
    "    Brand=i.text\n",
    "    Brand_name.append(Brand)\n",
    "Brand_name"
   ]
  },
  {
   "cell_type": "code",
   "execution_count": 79,
   "id": "06b5cbc2",
   "metadata": {},
   "outputs": [
    {
     "data": {
      "text/plain": [
       "['4 GB RAM | 64 GB ROM | Expandable Upto 512 GB',\n",
       " '16.59 cm (6.53 inch) HD+ Display',\n",
       " '13MP Rear Camera | 5MP Front Camera',\n",
       " '5000 mAh Li-Polymer Battery',\n",
       " 'MediaTek Helio G25 Processor',\n",
       " 'Brand Warranty of 1 Year Available for Mobile and 6 Months for Accessories',\n",
       " '4 GB RAM | 64 GB ROM | Expandable Upto 512 GB',\n",
       " '16.59 cm (6.53 inch) HD+ Display',\n",
       " '13MP Rear Camera | 5MP Front Camera',\n",
       " '5000 mAh Li-Polymer Battery',\n",
       " 'MediaTek Helio G25 Processor',\n",
       " 'Brand Warranty of 1 Year Available for Mobile and 6 Months for Accessories',\n",
       " '4 GB RAM | 64 GB ROM | Expandable Upto 512 GB',\n",
       " '16.59 cm (6.53 inch) HD+ Display',\n",
       " '13MP + 2MP + 2MP | 5MP Front Camera',\n",
       " '5000 mAh Lithium-ion Polymer Battery',\n",
       " 'MediaTek G35 Processor',\n",
       " '1 Year Warranty for Handset, 6 Months for Accessories',\n",
       " '4 GB RAM | 64 GB ROM | Expandable Upto 1 TB',\n",
       " '16.51 cm (6.5 inch) HD+ Display',\n",
       " '48MP + 2MP + 2MP | 8MP Front Camera',\n",
       " '5000 mAh Battery',\n",
       " 'UNISOC T700 Processor',\n",
       " '1 Year on Handset and 6 Months on Accessories']"
      ]
     },
     "execution_count": 79,
     "metadata": {},
     "output_type": "execute_result"
    }
   ],
   "source": [
    "Ram_Rom=[]\n",
    "Ram=driver.find_elements(By.CLASS_NAME,\"rgWa7D\")\n",
    "for i in Ram[0:24]:\n",
    "    Ram=i.text\n",
    "    Ram_Rom.append(Ram)\n",
    "Ram_Rom"
   ]
  },
  {
   "cell_type": "code",
   "execution_count": 82,
   "id": "0e039f11",
   "metadata": {},
   "outputs": [
    {
     "data": {
      "text/plain": [
       "['4 GB RAM | 64 GB ROM | Expandable Upto 512 GB',\n",
       " '16.59 cm (6.53 inch) HD+ Display',\n",
       " '13MP Rear Camera | 5MP Front Camera',\n",
       " '5000 mAh Li-Polymer Battery',\n",
       " 'MediaTek Helio G25 Processor',\n",
       " 'Brand Warranty of 1 Year Available for Mobile and 6 Months for Accessories',\n",
       " '4 GB RAM | 64 GB ROM | Expandable Upto 512 GB',\n",
       " '16.59 cm (6.53 inch) HD+ Display',\n",
       " '13MP Rear Camera | 5MP Front Camera',\n",
       " '5000 mAh Li-Polymer Battery',\n",
       " 'MediaTek Helio G25 Processor',\n",
       " 'Brand Warranty of 1 Year Available for Mobile and 6 Months for Accessories',\n",
       " '4 GB RAM | 64 GB ROM | Expandable Upto 512 GB',\n",
       " '16.59 cm (6.53 inch) HD+ Display',\n",
       " '13MP + 2MP + 2MP | 5MP Front Camera',\n",
       " '5000 mAh Lithium-ion Polymer Battery',\n",
       " 'MediaTek G35 Processor',\n",
       " '1 Year Warranty for Handset, 6 Months for Accessories',\n",
       " '4 GB RAM | 64 GB ROM | Expandable Upto 1 TB',\n",
       " '16.51 cm (6.5 inch) HD+ Display',\n",
       " '48MP + 2MP + 2MP | 8MP Front Camera',\n",
       " '5000 mAh Battery',\n",
       " 'UNISOC T700 Processor',\n",
       " '1 Year on Handset and 6 Months on Accessories']"
      ]
     },
     "execution_count": 82,
     "metadata": {},
     "output_type": "execute_result"
    }
   ],
   "source": [
    "#"
   ]
  },
  {
   "cell_type": "code",
   "execution_count": 84,
   "id": "25c9c016",
   "metadata": {},
   "outputs": [
    {
     "name": "stdout",
     "output_type": "stream",
     "text": [
      "24 24\n"
     ]
    }
   ],
   "source": [
    "print(len(Brand_name),len(Ram_Rom))"
   ]
  },
  {
   "cell_type": "code",
   "execution_count": 89,
   "id": "9452e782",
   "metadata": {},
   "outputs": [
    {
     "data": {
      "text/html": [
       "<div>\n",
       "<style scoped>\n",
       "    .dataframe tbody tr th:only-of-type {\n",
       "        vertical-align: middle;\n",
       "    }\n",
       "\n",
       "    .dataframe tbody tr th {\n",
       "        vertical-align: top;\n",
       "    }\n",
       "\n",
       "    .dataframe thead th {\n",
       "        text-align: right;\n",
       "    }\n",
       "</style>\n",
       "<table border=\"1\" class=\"dataframe\">\n",
       "  <thead>\n",
       "    <tr style=\"text-align: right;\">\n",
       "      <th></th>\n",
       "      <th>Brand</th>\n",
       "      <th>Ram_Rom</th>\n",
       "    </tr>\n",
       "  </thead>\n",
       "  <tbody>\n",
       "    <tr>\n",
       "      <th>0</th>\n",
       "      <td>REDMI 9i Sport (Metallic Blue, 64 GB)</td>\n",
       "      <td>4 GB RAM | 64 GB ROM | Expandable Upto 512 GB</td>\n",
       "    </tr>\n",
       "    <tr>\n",
       "      <th>1</th>\n",
       "      <td>REDMI 9i Sport (Coral Green, 64 GB)</td>\n",
       "      <td>16.59 cm (6.53 inch) HD+ Display</td>\n",
       "    </tr>\n",
       "    <tr>\n",
       "      <th>2</th>\n",
       "      <td>POCO C31 (Royal Blue, 64 GB)</td>\n",
       "      <td>13MP Rear Camera | 5MP Front Camera</td>\n",
       "    </tr>\n",
       "    <tr>\n",
       "      <th>3</th>\n",
       "      <td>MOTOROLA e40 (Carbon Gray, 64 GB)</td>\n",
       "      <td>5000 mAh Li-Polymer Battery</td>\n",
       "    </tr>\n",
       "    <tr>\n",
       "      <th>4</th>\n",
       "      <td>POCO C31 (Shadow Gray, 64 GB)</td>\n",
       "      <td>MediaTek Helio G25 Processor</td>\n",
       "    </tr>\n",
       "    <tr>\n",
       "      <th>5</th>\n",
       "      <td>MOTOROLA e40 (Pink Clay, 64 GB)</td>\n",
       "      <td>Brand Warranty of 1 Year Available for Mobile ...</td>\n",
       "    </tr>\n",
       "    <tr>\n",
       "      <th>6</th>\n",
       "      <td>REDMI 10 (Caribbean Green, 64 GB)</td>\n",
       "      <td>4 GB RAM | 64 GB ROM | Expandable Upto 512 GB</td>\n",
       "    </tr>\n",
       "    <tr>\n",
       "      <th>7</th>\n",
       "      <td>REDMI 9i Sport (Carbon Black, 64 GB)</td>\n",
       "      <td>16.59 cm (6.53 inch) HD+ Display</td>\n",
       "    </tr>\n",
       "    <tr>\n",
       "      <th>8</th>\n",
       "      <td>MOTOROLA G32 (Mineral Gray, 64 GB)</td>\n",
       "      <td>13MP Rear Camera | 5MP Front Camera</td>\n",
       "    </tr>\n",
       "    <tr>\n",
       "      <th>9</th>\n",
       "      <td>realme 9 (Meteor Black, 128 GB)</td>\n",
       "      <td>5000 mAh Li-Polymer Battery</td>\n",
       "    </tr>\n",
       "    <tr>\n",
       "      <th>10</th>\n",
       "      <td>realme 9 (Sunburst Gold, 128 GB)</td>\n",
       "      <td>MediaTek Helio G25 Processor</td>\n",
       "    </tr>\n",
       "    <tr>\n",
       "      <th>11</th>\n",
       "      <td>REDMI 10 (Midnight Black, 64 GB)</td>\n",
       "      <td>Brand Warranty of 1 Year Available for Mobile ...</td>\n",
       "    </tr>\n",
       "    <tr>\n",
       "      <th>12</th>\n",
       "      <td>realme 9i (Prism Blue, 128 GB)</td>\n",
       "      <td>4 GB RAM | 64 GB ROM | Expandable Upto 512 GB</td>\n",
       "    </tr>\n",
       "    <tr>\n",
       "      <th>13</th>\n",
       "      <td>realme 9i (Prism Black, 128 GB)</td>\n",
       "      <td>16.59 cm (6.53 inch) HD+ Display</td>\n",
       "    </tr>\n",
       "    <tr>\n",
       "      <th>14</th>\n",
       "      <td>MOTOROLA g52 (Charcoal Grey, 128 GB)</td>\n",
       "      <td>13MP + 2MP + 2MP | 5MP Front Camera</td>\n",
       "    </tr>\n",
       "    <tr>\n",
       "      <th>15</th>\n",
       "      <td>REDMI 10 (Pacific Blue, 64 GB)</td>\n",
       "      <td>5000 mAh Lithium-ion Polymer Battery</td>\n",
       "    </tr>\n",
       "    <tr>\n",
       "      <th>16</th>\n",
       "      <td>MOTOROLA g52 (Metallic White, 128 GB)</td>\n",
       "      <td>MediaTek G35 Processor</td>\n",
       "    </tr>\n",
       "    <tr>\n",
       "      <th>17</th>\n",
       "      <td>realme 10 Pro 5G (Dark Matter, 128 GB)</td>\n",
       "      <td>1 Year Warranty for Handset, 6 Months for Acce...</td>\n",
       "    </tr>\n",
       "    <tr>\n",
       "      <th>18</th>\n",
       "      <td>realme 10 Pro 5G (Nebula Blue, 128 GB)</td>\n",
       "      <td>4 GB RAM | 64 GB ROM | Expandable Upto 1 TB</td>\n",
       "    </tr>\n",
       "    <tr>\n",
       "      <th>19</th>\n",
       "      <td>realme 10 Pro 5G (Dark Matter, 128 GB)</td>\n",
       "      <td>16.51 cm (6.5 inch) HD+ Display</td>\n",
       "    </tr>\n",
       "    <tr>\n",
       "      <th>20</th>\n",
       "      <td>realme 10 Pro 5G (Hyperspace, 128 GB)</td>\n",
       "      <td>48MP + 2MP + 2MP | 8MP Front Camera</td>\n",
       "    </tr>\n",
       "    <tr>\n",
       "      <th>21</th>\n",
       "      <td>realme 10 Pro 5G (Nebula Blue, 128 GB)</td>\n",
       "      <td>5000 mAh Battery</td>\n",
       "    </tr>\n",
       "    <tr>\n",
       "      <th>22</th>\n",
       "      <td>realme C30 (Lake Blue, 32 GB)</td>\n",
       "      <td>UNISOC T700 Processor</td>\n",
       "    </tr>\n",
       "    <tr>\n",
       "      <th>23</th>\n",
       "      <td>realme C30 (Bamboo Green, 32 GB)</td>\n",
       "      <td>1 Year on Handset and 6 Months on Accessories</td>\n",
       "    </tr>\n",
       "  </tbody>\n",
       "</table>\n",
       "</div>"
      ],
      "text/plain": [
       "                                     Brand  \\\n",
       "0    REDMI 9i Sport (Metallic Blue, 64 GB)   \n",
       "1      REDMI 9i Sport (Coral Green, 64 GB)   \n",
       "2             POCO C31 (Royal Blue, 64 GB)   \n",
       "3        MOTOROLA e40 (Carbon Gray, 64 GB)   \n",
       "4            POCO C31 (Shadow Gray, 64 GB)   \n",
       "5          MOTOROLA e40 (Pink Clay, 64 GB)   \n",
       "6        REDMI 10 (Caribbean Green, 64 GB)   \n",
       "7     REDMI 9i Sport (Carbon Black, 64 GB)   \n",
       "8       MOTOROLA G32 (Mineral Gray, 64 GB)   \n",
       "9          realme 9 (Meteor Black, 128 GB)   \n",
       "10        realme 9 (Sunburst Gold, 128 GB)   \n",
       "11        REDMI 10 (Midnight Black, 64 GB)   \n",
       "12          realme 9i (Prism Blue, 128 GB)   \n",
       "13         realme 9i (Prism Black, 128 GB)   \n",
       "14    MOTOROLA g52 (Charcoal Grey, 128 GB)   \n",
       "15          REDMI 10 (Pacific Blue, 64 GB)   \n",
       "16   MOTOROLA g52 (Metallic White, 128 GB)   \n",
       "17  realme 10 Pro 5G (Dark Matter, 128 GB)   \n",
       "18  realme 10 Pro 5G (Nebula Blue, 128 GB)   \n",
       "19  realme 10 Pro 5G (Dark Matter, 128 GB)   \n",
       "20   realme 10 Pro 5G (Hyperspace, 128 GB)   \n",
       "21  realme 10 Pro 5G (Nebula Blue, 128 GB)   \n",
       "22           realme C30 (Lake Blue, 32 GB)   \n",
       "23        realme C30 (Bamboo Green, 32 GB)   \n",
       "\n",
       "                                              Ram_Rom  \n",
       "0       4 GB RAM | 64 GB ROM | Expandable Upto 512 GB  \n",
       "1                    16.59 cm (6.53 inch) HD+ Display  \n",
       "2                 13MP Rear Camera | 5MP Front Camera  \n",
       "3                         5000 mAh Li-Polymer Battery  \n",
       "4                        MediaTek Helio G25 Processor  \n",
       "5   Brand Warranty of 1 Year Available for Mobile ...  \n",
       "6       4 GB RAM | 64 GB ROM | Expandable Upto 512 GB  \n",
       "7                    16.59 cm (6.53 inch) HD+ Display  \n",
       "8                 13MP Rear Camera | 5MP Front Camera  \n",
       "9                         5000 mAh Li-Polymer Battery  \n",
       "10                       MediaTek Helio G25 Processor  \n",
       "11  Brand Warranty of 1 Year Available for Mobile ...  \n",
       "12      4 GB RAM | 64 GB ROM | Expandable Upto 512 GB  \n",
       "13                   16.59 cm (6.53 inch) HD+ Display  \n",
       "14                13MP + 2MP + 2MP | 5MP Front Camera  \n",
       "15               5000 mAh Lithium-ion Polymer Battery  \n",
       "16                             MediaTek G35 Processor  \n",
       "17  1 Year Warranty for Handset, 6 Months for Acce...  \n",
       "18        4 GB RAM | 64 GB ROM | Expandable Upto 1 TB  \n",
       "19                    16.51 cm (6.5 inch) HD+ Display  \n",
       "20                48MP + 2MP + 2MP | 8MP Front Camera  \n",
       "21                                   5000 mAh Battery  \n",
       "22                              UNISOC T700 Processor  \n",
       "23      1 Year on Handset and 6 Months on Accessories  "
      ]
     },
     "execution_count": 89,
     "metadata": {},
     "output_type": "execute_result"
    }
   ],
   "source": [
    "import pandas as pd\n",
    "Df=pd.DataFrame({\"Brand\":Brand_name,\"Ram_Rom\":Ram_Rom})\n",
    "Df"
   ]
  },
  {
   "cell_type": "markdown",
   "id": "ab8a553d",
   "metadata": {},
   "source": [
    "# Quiz-5"
   ]
  },
  {
   "cell_type": "code",
   "execution_count": null,
   "id": "9cc78020",
   "metadata": {},
   "outputs": [],
   "source": []
  },
  {
   "cell_type": "code",
   "execution_count": 32,
   "id": "0acefef5",
   "metadata": {},
   "outputs": [],
   "source": [
    "driver=webdriver.Chrome(r\"D:\\OneDrive\\Documents\\Downloads\\chromedriver_win32\\chromedriver.exe\")"
   ]
  },
  {
   "cell_type": "code",
   "execution_count": 35,
   "id": "81a12102",
   "metadata": {},
   "outputs": [
    {
     "ename": "WebDriverException",
     "evalue": "Message: unknown error: net::ERR_INTERNET_DISCONNECTED\n  (Session info: chrome=108.0.5359.100)\nStacktrace:\nBacktrace:\n\t(No symbol) [0x00A2F243]\n\t(No symbol) [0x009B7FD1]\n\t(No symbol) [0x008AD04D]\n\t(No symbol) [0x008A9152]\n\t(No symbol) [0x008A044D]\n\t(No symbol) [0x008A12EF]\n\t(No symbol) [0x008A071D]\n\t(No symbol) [0x0089FB0B]\n\t(No symbol) [0x0089FA5C]\n\t(No symbol) [0x0089E7E8]\n\t(No symbol) [0x0089EDC2]\n\t(No symbol) [0x008AEA5B]\n\t(No symbol) [0x0090D187]\n\t(No symbol) [0x008F858C]\n\t(No symbol) [0x0090C9EB]\n\t(No symbol) [0x008F8386]\n\t(No symbol) [0x008D163C]\n\t(No symbol) [0x008D269D]\n\tGetHandleVerifier [0x00CC9A22+2655074]\n\tGetHandleVerifier [0x00CBCA24+2601828]\n\tGetHandleVerifier [0x00AD8C0A+619850]\n\tGetHandleVerifier [0x00AD7830+614768]\n\t(No symbol) [0x009C05FC]\n\t(No symbol) [0x009C5968]\n\t(No symbol) [0x009C5A55]\n\t(No symbol) [0x009D051B]\n\tBaseThreadInitThunk [0x76636BD9+25]\n\tRtlGetFullPathName_UEx [0x77C28FD2+1218]\n\tRtlGetFullPathName_UEx [0x77C28F9D+1165]\n",
     "output_type": "error",
     "traceback": [
      "\u001b[1;31m---------------------------------------------------------------------------\u001b[0m",
      "\u001b[1;31mWebDriverException\u001b[0m                        Traceback (most recent call last)",
      "\u001b[1;32m~\\AppData\\Local\\Temp/ipykernel_21580/3364871354.py\u001b[0m in \u001b[0;36m<module>\u001b[1;34m\u001b[0m\n\u001b[1;32m----> 1\u001b[1;33m \u001b[0mdriver\u001b[0m\u001b[1;33m.\u001b[0m\u001b[0mget\u001b[0m\u001b[1;33m(\u001b[0m\u001b[1;34m\"https://www.google.com\"\u001b[0m\u001b[1;33m)\u001b[0m\u001b[1;33m\u001b[0m\u001b[1;33m\u001b[0m\u001b[0m\n\u001b[0m",
      "\u001b[1;32mD:\\Anaconda\\lib\\site-packages\\selenium\\webdriver\\remote\\webdriver.py\u001b[0m in \u001b[0;36mget\u001b[1;34m(self, url)\u001b[0m\n\u001b[0;32m    440\u001b[0m         \u001b[0mLoads\u001b[0m \u001b[0ma\u001b[0m \u001b[0mweb\u001b[0m \u001b[0mpage\u001b[0m \u001b[1;32min\u001b[0m \u001b[0mthe\u001b[0m \u001b[0mcurrent\u001b[0m \u001b[0mbrowser\u001b[0m \u001b[0msession\u001b[0m\u001b[1;33m.\u001b[0m\u001b[1;33m\u001b[0m\u001b[1;33m\u001b[0m\u001b[0m\n\u001b[0;32m    441\u001b[0m         \"\"\"\n\u001b[1;32m--> 442\u001b[1;33m         \u001b[0mself\u001b[0m\u001b[1;33m.\u001b[0m\u001b[0mexecute\u001b[0m\u001b[1;33m(\u001b[0m\u001b[0mCommand\u001b[0m\u001b[1;33m.\u001b[0m\u001b[0mGET\u001b[0m\u001b[1;33m,\u001b[0m \u001b[1;33m{\u001b[0m\u001b[1;34m'url'\u001b[0m\u001b[1;33m:\u001b[0m \u001b[0murl\u001b[0m\u001b[1;33m}\u001b[0m\u001b[1;33m)\u001b[0m\u001b[1;33m\u001b[0m\u001b[1;33m\u001b[0m\u001b[0m\n\u001b[0m\u001b[0;32m    443\u001b[0m \u001b[1;33m\u001b[0m\u001b[0m\n\u001b[0;32m    444\u001b[0m     \u001b[1;33m@\u001b[0m\u001b[0mproperty\u001b[0m\u001b[1;33m\u001b[0m\u001b[1;33m\u001b[0m\u001b[0m\n",
      "\u001b[1;32mD:\\Anaconda\\lib\\site-packages\\selenium\\webdriver\\remote\\webdriver.py\u001b[0m in \u001b[0;36mexecute\u001b[1;34m(self, driver_command, params)\u001b[0m\n\u001b[0;32m    428\u001b[0m         \u001b[0mresponse\u001b[0m \u001b[1;33m=\u001b[0m \u001b[0mself\u001b[0m\u001b[1;33m.\u001b[0m\u001b[0mcommand_executor\u001b[0m\u001b[1;33m.\u001b[0m\u001b[0mexecute\u001b[0m\u001b[1;33m(\u001b[0m\u001b[0mdriver_command\u001b[0m\u001b[1;33m,\u001b[0m \u001b[0mparams\u001b[0m\u001b[1;33m)\u001b[0m\u001b[1;33m\u001b[0m\u001b[1;33m\u001b[0m\u001b[0m\n\u001b[0;32m    429\u001b[0m         \u001b[1;32mif\u001b[0m \u001b[0mresponse\u001b[0m\u001b[1;33m:\u001b[0m\u001b[1;33m\u001b[0m\u001b[1;33m\u001b[0m\u001b[0m\n\u001b[1;32m--> 430\u001b[1;33m             \u001b[0mself\u001b[0m\u001b[1;33m.\u001b[0m\u001b[0merror_handler\u001b[0m\u001b[1;33m.\u001b[0m\u001b[0mcheck_response\u001b[0m\u001b[1;33m(\u001b[0m\u001b[0mresponse\u001b[0m\u001b[1;33m)\u001b[0m\u001b[1;33m\u001b[0m\u001b[1;33m\u001b[0m\u001b[0m\n\u001b[0m\u001b[0;32m    431\u001b[0m             response['value'] = self._unwrap_value(\n\u001b[0;32m    432\u001b[0m                 response.get('value', None))\n",
      "\u001b[1;32mD:\\Anaconda\\lib\\site-packages\\selenium\\webdriver\\remote\\errorhandler.py\u001b[0m in \u001b[0;36mcheck_response\u001b[1;34m(self, response)\u001b[0m\n\u001b[0;32m    245\u001b[0m                 \u001b[0malert_text\u001b[0m \u001b[1;33m=\u001b[0m \u001b[0mvalue\u001b[0m\u001b[1;33m[\u001b[0m\u001b[1;34m'alert'\u001b[0m\u001b[1;33m]\u001b[0m\u001b[1;33m.\u001b[0m\u001b[0mget\u001b[0m\u001b[1;33m(\u001b[0m\u001b[1;34m'text'\u001b[0m\u001b[1;33m)\u001b[0m\u001b[1;33m\u001b[0m\u001b[1;33m\u001b[0m\u001b[0m\n\u001b[0;32m    246\u001b[0m             \u001b[1;32mraise\u001b[0m \u001b[0mexception_class\u001b[0m\u001b[1;33m(\u001b[0m\u001b[0mmessage\u001b[0m\u001b[1;33m,\u001b[0m \u001b[0mscreen\u001b[0m\u001b[1;33m,\u001b[0m \u001b[0mstacktrace\u001b[0m\u001b[1;33m,\u001b[0m \u001b[0malert_text\u001b[0m\u001b[1;33m)\u001b[0m  \u001b[1;31m# type: ignore[call-arg]  # mypy is not smart enough here\u001b[0m\u001b[1;33m\u001b[0m\u001b[1;33m\u001b[0m\u001b[0m\n\u001b[1;32m--> 247\u001b[1;33m         \u001b[1;32mraise\u001b[0m \u001b[0mexception_class\u001b[0m\u001b[1;33m(\u001b[0m\u001b[0mmessage\u001b[0m\u001b[1;33m,\u001b[0m \u001b[0mscreen\u001b[0m\u001b[1;33m,\u001b[0m \u001b[0mstacktrace\u001b[0m\u001b[1;33m)\u001b[0m\u001b[1;33m\u001b[0m\u001b[1;33m\u001b[0m\u001b[0m\n\u001b[0m\u001b[0;32m    248\u001b[0m \u001b[1;33m\u001b[0m\u001b[0m\n\u001b[0;32m    249\u001b[0m     \u001b[1;32mdef\u001b[0m \u001b[0m_value_or_default\u001b[0m\u001b[1;33m(\u001b[0m\u001b[0mself\u001b[0m\u001b[1;33m,\u001b[0m \u001b[0mobj\u001b[0m\u001b[1;33m:\u001b[0m \u001b[0mMapping\u001b[0m\u001b[1;33m[\u001b[0m\u001b[0m_KT\u001b[0m\u001b[1;33m,\u001b[0m \u001b[0m_VT\u001b[0m\u001b[1;33m]\u001b[0m\u001b[1;33m,\u001b[0m \u001b[0mkey\u001b[0m\u001b[1;33m:\u001b[0m \u001b[0m_KT\u001b[0m\u001b[1;33m,\u001b[0m \u001b[0mdefault\u001b[0m\u001b[1;33m:\u001b[0m \u001b[0m_VT\u001b[0m\u001b[1;33m)\u001b[0m \u001b[1;33m->\u001b[0m \u001b[0m_VT\u001b[0m\u001b[1;33m:\u001b[0m\u001b[1;33m\u001b[0m\u001b[1;33m\u001b[0m\u001b[0m\n",
      "\u001b[1;31mWebDriverException\u001b[0m: Message: unknown error: net::ERR_INTERNET_DISCONNECTED\n  (Session info: chrome=108.0.5359.100)\nStacktrace:\nBacktrace:\n\t(No symbol) [0x00A2F243]\n\t(No symbol) [0x009B7FD1]\n\t(No symbol) [0x008AD04D]\n\t(No symbol) [0x008A9152]\n\t(No symbol) [0x008A044D]\n\t(No symbol) [0x008A12EF]\n\t(No symbol) [0x008A071D]\n\t(No symbol) [0x0089FB0B]\n\t(No symbol) [0x0089FA5C]\n\t(No symbol) [0x0089E7E8]\n\t(No symbol) [0x0089EDC2]\n\t(No symbol) [0x008AEA5B]\n\t(No symbol) [0x0090D187]\n\t(No symbol) [0x008F858C]\n\t(No symbol) [0x0090C9EB]\n\t(No symbol) [0x008F8386]\n\t(No symbol) [0x008D163C]\n\t(No symbol) [0x008D269D]\n\tGetHandleVerifier [0x00CC9A22+2655074]\n\tGetHandleVerifier [0x00CBCA24+2601828]\n\tGetHandleVerifier [0x00AD8C0A+619850]\n\tGetHandleVerifier [0x00AD7830+614768]\n\t(No symbol) [0x009C05FC]\n\t(No symbol) [0x009C5968]\n\t(No symbol) [0x009C5A55]\n\t(No symbol) [0x009D051B]\n\tBaseThreadInitThunk [0x76636BD9+25]\n\tRtlGetFullPathName_UEx [0x77C28FD2+1218]\n\tRtlGetFullPathName_UEx [0x77C28F9D+1165]\n"
     ]
    }
   ],
   "source": [
    "driver.get(\"https://www.google.co.in/\")\n"
   ]
  },
  {
   "cell_type": "markdown",
   "id": "dd89f930",
   "metadata": {},
   "source": [
    "# Quiz-6 "
   ]
  },
  {
   "cell_type": "code",
   "execution_count": 36,
   "id": "6315721f",
   "metadata": {},
   "outputs": [],
   "source": [
    "#in the discussion of indtructor told to leave 6th quiz."
   ]
  },
  {
   "cell_type": "markdown",
   "id": "7c09a38d",
   "metadata": {},
   "source": [
    "# Quiz-7"
   ]
  },
  {
   "cell_type": "code",
   "execution_count": null,
   "id": "47004872",
   "metadata": {},
   "outputs": [],
   "source": [
    "driver=webdriver.Chrome(r\"D:\\OneDrive\\Documents\\Downloads\\chromedriver_win32\\chromedriver.exe\")"
   ]
  },
  {
   "cell_type": "code",
   "execution_count": null,
   "id": "1489de59",
   "metadata": {},
   "outputs": [],
   "source": [
    "driver.get(\"https://www.digit.in./\")\n",
    "driver.maximize_window()"
   ]
  },
  {
   "cell_type": "code",
   "execution_count": 94,
   "id": "c923424b",
   "metadata": {},
   "outputs": [
    {
     "ename": "ElementNotInteractableException",
     "evalue": "Message: element not interactable\n  (Session info: chrome=108.0.5359.100)\nStacktrace:\nBacktrace:\n\t(No symbol) [0x00A2F243]\n\t(No symbol) [0x009B7FD1]\n\t(No symbol) [0x008ACF10]\n\t(No symbol) [0x008DD003]\n\t(No symbol) [0x008D32A6]\n\t(No symbol) [0x008F858C]\n\t(No symbol) [0x008D2BFF]\n\t(No symbol) [0x008F8804]\n\t(No symbol) [0x0090C9EB]\n\t(No symbol) [0x008F8386]\n\t(No symbol) [0x008D163C]\n\t(No symbol) [0x008D269D]\n\tGetHandleVerifier [0x00CC9A22+2655074]\n\tGetHandleVerifier [0x00CBCA24+2601828]\n\tGetHandleVerifier [0x00AD8C0A+619850]\n\tGetHandleVerifier [0x00AD7830+614768]\n\t(No symbol) [0x009C05FC]\n\t(No symbol) [0x009C5968]\n\t(No symbol) [0x009C5A55]\n\t(No symbol) [0x009D051B]\n\tBaseThreadInitThunk [0x76636BD9+25]\n\tRtlGetFullPathName_UEx [0x77C28FD2+1218]\n\tRtlGetFullPathName_UEx [0x77C28F9D+1165]\n",
     "output_type": "error",
     "traceback": [
      "\u001b[1;31m---------------------------------------------------------------------------\u001b[0m",
      "\u001b[1;31mElementNotInteractableException\u001b[0m           Traceback (most recent call last)",
      "\u001b[1;32m~\\AppData\\Local\\Temp/ipykernel_21580/2915880026.py\u001b[0m in \u001b[0;36m<module>\u001b[1;34m\u001b[0m\n\u001b[0;32m      1\u001b[0m \u001b[0mBest_gaming\u001b[0m\u001b[1;33m=\u001b[0m\u001b[1;33m[\u001b[0m\u001b[1;33m]\u001b[0m\u001b[1;33m\u001b[0m\u001b[1;33m\u001b[0m\u001b[0m\n\u001b[0;32m      2\u001b[0m \u001b[0mlaptop\u001b[0m\u001b[1;33m=\u001b[0m\u001b[0mdriver\u001b[0m\u001b[1;33m.\u001b[0m\u001b[0mfind_element\u001b[0m\u001b[1;33m(\u001b[0m\u001b[0mBy\u001b[0m\u001b[1;33m.\u001b[0m\u001b[0mXPATH\u001b[0m\u001b[1;33m,\u001b[0m\u001b[1;34m'/html/body/div[1]/div/div[1]/nav/div/ul/div/li[23]/ul/li[2]/a'\u001b[0m\u001b[1;33m)\u001b[0m\u001b[1;33m\u001b[0m\u001b[1;33m\u001b[0m\u001b[0m\n\u001b[1;32m----> 3\u001b[1;33m \u001b[0mlaptop\u001b[0m\u001b[1;33m.\u001b[0m\u001b[0mclick\u001b[0m\u001b[1;33m(\u001b[0m\u001b[1;33m)\u001b[0m\u001b[1;33m\u001b[0m\u001b[1;33m\u001b[0m\u001b[0m\n\u001b[0m",
      "\u001b[1;32mD:\\Anaconda\\lib\\site-packages\\selenium\\webdriver\\remote\\webelement.py\u001b[0m in \u001b[0;36mclick\u001b[1;34m(self)\u001b[0m\n\u001b[0;32m     87\u001b[0m     \u001b[1;32mdef\u001b[0m \u001b[0mclick\u001b[0m\u001b[1;33m(\u001b[0m\u001b[0mself\u001b[0m\u001b[1;33m)\u001b[0m \u001b[1;33m->\u001b[0m \u001b[1;32mNone\u001b[0m\u001b[1;33m:\u001b[0m\u001b[1;33m\u001b[0m\u001b[1;33m\u001b[0m\u001b[0m\n\u001b[0;32m     88\u001b[0m         \u001b[1;34m\"\"\"Clicks the element.\"\"\"\u001b[0m\u001b[1;33m\u001b[0m\u001b[1;33m\u001b[0m\u001b[0m\n\u001b[1;32m---> 89\u001b[1;33m         \u001b[0mself\u001b[0m\u001b[1;33m.\u001b[0m\u001b[0m_execute\u001b[0m\u001b[1;33m(\u001b[0m\u001b[0mCommand\u001b[0m\u001b[1;33m.\u001b[0m\u001b[0mCLICK_ELEMENT\u001b[0m\u001b[1;33m)\u001b[0m\u001b[1;33m\u001b[0m\u001b[1;33m\u001b[0m\u001b[0m\n\u001b[0m\u001b[0;32m     90\u001b[0m \u001b[1;33m\u001b[0m\u001b[0m\n\u001b[0;32m     91\u001b[0m     \u001b[1;32mdef\u001b[0m \u001b[0msubmit\u001b[0m\u001b[1;33m(\u001b[0m\u001b[0mself\u001b[0m\u001b[1;33m)\u001b[0m\u001b[1;33m:\u001b[0m\u001b[1;33m\u001b[0m\u001b[1;33m\u001b[0m\u001b[0m\n",
      "\u001b[1;32mD:\\Anaconda\\lib\\site-packages\\selenium\\webdriver\\remote\\webelement.py\u001b[0m in \u001b[0;36m_execute\u001b[1;34m(self, command, params)\u001b[0m\n\u001b[0;32m    771\u001b[0m             \u001b[0mparams\u001b[0m \u001b[1;33m=\u001b[0m \u001b[1;33m{\u001b[0m\u001b[1;33m}\u001b[0m\u001b[1;33m\u001b[0m\u001b[1;33m\u001b[0m\u001b[0m\n\u001b[0;32m    772\u001b[0m         \u001b[0mparams\u001b[0m\u001b[1;33m[\u001b[0m\u001b[1;34m'id'\u001b[0m\u001b[1;33m]\u001b[0m \u001b[1;33m=\u001b[0m \u001b[0mself\u001b[0m\u001b[1;33m.\u001b[0m\u001b[0m_id\u001b[0m\u001b[1;33m\u001b[0m\u001b[1;33m\u001b[0m\u001b[0m\n\u001b[1;32m--> 773\u001b[1;33m         \u001b[1;32mreturn\u001b[0m \u001b[0mself\u001b[0m\u001b[1;33m.\u001b[0m\u001b[0m_parent\u001b[0m\u001b[1;33m.\u001b[0m\u001b[0mexecute\u001b[0m\u001b[1;33m(\u001b[0m\u001b[0mcommand\u001b[0m\u001b[1;33m,\u001b[0m \u001b[0mparams\u001b[0m\u001b[1;33m)\u001b[0m\u001b[1;33m\u001b[0m\u001b[1;33m\u001b[0m\u001b[0m\n\u001b[0m\u001b[0;32m    774\u001b[0m \u001b[1;33m\u001b[0m\u001b[0m\n\u001b[0;32m    775\u001b[0m     \u001b[1;32mdef\u001b[0m \u001b[0mfind_element\u001b[0m\u001b[1;33m(\u001b[0m\u001b[0mself\u001b[0m\u001b[1;33m,\u001b[0m \u001b[0mby\u001b[0m\u001b[1;33m=\u001b[0m\u001b[0mBy\u001b[0m\u001b[1;33m.\u001b[0m\u001b[0mID\u001b[0m\u001b[1;33m,\u001b[0m \u001b[0mvalue\u001b[0m\u001b[1;33m=\u001b[0m\u001b[1;32mNone\u001b[0m\u001b[1;33m)\u001b[0m\u001b[1;33m:\u001b[0m\u001b[1;33m\u001b[0m\u001b[1;33m\u001b[0m\u001b[0m\n",
      "\u001b[1;32mD:\\Anaconda\\lib\\site-packages\\selenium\\webdriver\\remote\\webdriver.py\u001b[0m in \u001b[0;36mexecute\u001b[1;34m(self, driver_command, params)\u001b[0m\n\u001b[0;32m    428\u001b[0m         \u001b[0mresponse\u001b[0m \u001b[1;33m=\u001b[0m \u001b[0mself\u001b[0m\u001b[1;33m.\u001b[0m\u001b[0mcommand_executor\u001b[0m\u001b[1;33m.\u001b[0m\u001b[0mexecute\u001b[0m\u001b[1;33m(\u001b[0m\u001b[0mdriver_command\u001b[0m\u001b[1;33m,\u001b[0m \u001b[0mparams\u001b[0m\u001b[1;33m)\u001b[0m\u001b[1;33m\u001b[0m\u001b[1;33m\u001b[0m\u001b[0m\n\u001b[0;32m    429\u001b[0m         \u001b[1;32mif\u001b[0m \u001b[0mresponse\u001b[0m\u001b[1;33m:\u001b[0m\u001b[1;33m\u001b[0m\u001b[1;33m\u001b[0m\u001b[0m\n\u001b[1;32m--> 430\u001b[1;33m             \u001b[0mself\u001b[0m\u001b[1;33m.\u001b[0m\u001b[0merror_handler\u001b[0m\u001b[1;33m.\u001b[0m\u001b[0mcheck_response\u001b[0m\u001b[1;33m(\u001b[0m\u001b[0mresponse\u001b[0m\u001b[1;33m)\u001b[0m\u001b[1;33m\u001b[0m\u001b[1;33m\u001b[0m\u001b[0m\n\u001b[0m\u001b[0;32m    431\u001b[0m             response['value'] = self._unwrap_value(\n\u001b[0;32m    432\u001b[0m                 response.get('value', None))\n",
      "\u001b[1;32mD:\\Anaconda\\lib\\site-packages\\selenium\\webdriver\\remote\\errorhandler.py\u001b[0m in \u001b[0;36mcheck_response\u001b[1;34m(self, response)\u001b[0m\n\u001b[0;32m    245\u001b[0m                 \u001b[0malert_text\u001b[0m \u001b[1;33m=\u001b[0m \u001b[0mvalue\u001b[0m\u001b[1;33m[\u001b[0m\u001b[1;34m'alert'\u001b[0m\u001b[1;33m]\u001b[0m\u001b[1;33m.\u001b[0m\u001b[0mget\u001b[0m\u001b[1;33m(\u001b[0m\u001b[1;34m'text'\u001b[0m\u001b[1;33m)\u001b[0m\u001b[1;33m\u001b[0m\u001b[1;33m\u001b[0m\u001b[0m\n\u001b[0;32m    246\u001b[0m             \u001b[1;32mraise\u001b[0m \u001b[0mexception_class\u001b[0m\u001b[1;33m(\u001b[0m\u001b[0mmessage\u001b[0m\u001b[1;33m,\u001b[0m \u001b[0mscreen\u001b[0m\u001b[1;33m,\u001b[0m \u001b[0mstacktrace\u001b[0m\u001b[1;33m,\u001b[0m \u001b[0malert_text\u001b[0m\u001b[1;33m)\u001b[0m  \u001b[1;31m# type: ignore[call-arg]  # mypy is not smart enough here\u001b[0m\u001b[1;33m\u001b[0m\u001b[1;33m\u001b[0m\u001b[0m\n\u001b[1;32m--> 247\u001b[1;33m         \u001b[1;32mraise\u001b[0m \u001b[0mexception_class\u001b[0m\u001b[1;33m(\u001b[0m\u001b[0mmessage\u001b[0m\u001b[1;33m,\u001b[0m \u001b[0mscreen\u001b[0m\u001b[1;33m,\u001b[0m \u001b[0mstacktrace\u001b[0m\u001b[1;33m)\u001b[0m\u001b[1;33m\u001b[0m\u001b[1;33m\u001b[0m\u001b[0m\n\u001b[0m\u001b[0;32m    248\u001b[0m \u001b[1;33m\u001b[0m\u001b[0m\n\u001b[0;32m    249\u001b[0m     \u001b[1;32mdef\u001b[0m \u001b[0m_value_or_default\u001b[0m\u001b[1;33m(\u001b[0m\u001b[0mself\u001b[0m\u001b[1;33m,\u001b[0m \u001b[0mobj\u001b[0m\u001b[1;33m:\u001b[0m \u001b[0mMapping\u001b[0m\u001b[1;33m[\u001b[0m\u001b[0m_KT\u001b[0m\u001b[1;33m,\u001b[0m \u001b[0m_VT\u001b[0m\u001b[1;33m]\u001b[0m\u001b[1;33m,\u001b[0m \u001b[0mkey\u001b[0m\u001b[1;33m:\u001b[0m \u001b[0m_KT\u001b[0m\u001b[1;33m,\u001b[0m \u001b[0mdefault\u001b[0m\u001b[1;33m:\u001b[0m \u001b[0m_VT\u001b[0m\u001b[1;33m)\u001b[0m \u001b[1;33m->\u001b[0m \u001b[0m_VT\u001b[0m\u001b[1;33m:\u001b[0m\u001b[1;33m\u001b[0m\u001b[1;33m\u001b[0m\u001b[0m\n",
      "\u001b[1;31mElementNotInteractableException\u001b[0m: Message: element not interactable\n  (Session info: chrome=108.0.5359.100)\nStacktrace:\nBacktrace:\n\t(No symbol) [0x00A2F243]\n\t(No symbol) [0x009B7FD1]\n\t(No symbol) [0x008ACF10]\n\t(No symbol) [0x008DD003]\n\t(No symbol) [0x008D32A6]\n\t(No symbol) [0x008F858C]\n\t(No symbol) [0x008D2BFF]\n\t(No symbol) [0x008F8804]\n\t(No symbol) [0x0090C9EB]\n\t(No symbol) [0x008F8386]\n\t(No symbol) [0x008D163C]\n\t(No symbol) [0x008D269D]\n\tGetHandleVerifier [0x00CC9A22+2655074]\n\tGetHandleVerifier [0x00CBCA24+2601828]\n\tGetHandleVerifier [0x00AD8C0A+619850]\n\tGetHandleVerifier [0x00AD7830+614768]\n\t(No symbol) [0x009C05FC]\n\t(No symbol) [0x009C5968]\n\t(No symbol) [0x009C5A55]\n\t(No symbol) [0x009D051B]\n\tBaseThreadInitThunk [0x76636BD9+25]\n\tRtlGetFullPathName_UEx [0x77C28FD2+1218]\n\tRtlGetFullPathName_UEx [0x77C28F9D+1165]\n"
     ]
    }
   ],
   "source": [
    "Best_gaming=[]\n",
    "laptop=driver.find_element(By.XPATH,'/html/body/div[1]/div/div[1]/nav/div/ul/div/li[23]/ul/li[2]/a')\n",
    "laptop.click()"
   ]
  },
  {
   "cell_type": "code",
   "execution_count": 122,
   "id": "87f67e7f",
   "metadata": {},
   "outputs": [],
   "source": [
    "driver=webdriver.Chrome(r\"D:\\OneDrive\\Documents\\Downloads\\chromedriver_win32\\chromedriver.exe\")"
   ]
  },
  {
   "cell_type": "code",
   "execution_count": 101,
   "id": "4e7c986e",
   "metadata": {},
   "outputs": [],
   "source": [
    "driver.get(\"http://www.forbes.com/\")\n",
    "driver.maximize_window()"
   ]
  },
  {
   "cell_type": "code",
   "execution_count": null,
   "id": "78e846d3",
   "metadata": {},
   "outputs": [],
   "source": []
  },
  {
   "cell_type": "code",
   "execution_count": null,
   "id": "29e4537b",
   "metadata": {},
   "outputs": [],
   "source": []
  },
  {
   "cell_type": "code",
   "execution_count": 123,
   "id": "d9c81bf5",
   "metadata": {},
   "outputs": [],
   "source": [
    "driver.get(\"http://www.youtube.com/\")\n",
    "driver.maximize_window()"
   ]
  },
  {
   "cell_type": "code",
   "execution_count": 124,
   "id": "b5b2ef67",
   "metadata": {},
   "outputs": [],
   "source": [
    "youtube=[]\n",
    "news=driver.find_element(By.XPATH,'/html/body/ytd-app/div[1]/ytd-page-manager/ytd-browse/ytd-two-column-browse-results-renderer/div[1]/ytd-rich-grid-renderer/div[6]/ytd-rich-section-renderer[1]/div/ytd-rich-shelf-renderer/div[1]/div[2]/ytd-rich-item-renderer[1]/div/ytd-rich-grid-slim-media/div[1]/div/a/h3')\n",
    "news.click()"
   ]
  },
  {
   "cell_type": "code",
   "execution_count": 126,
   "id": "03a26c71",
   "metadata": {},
   "outputs": [],
   "source": [
    "youtube=[]\n",
    "news=driver.find_element(By.XPATH,'/html/body/ytd-app/div[1]/ytd-page-manager/ytd-shorts/div[2]/div[2]/ytd-reel-video-renderer[1]/div[2]/ytd-reel-player-overlay-renderer/div[2]/div[4]/ytd-button-renderer/yt-button-shape/label/button/yt-touch-feedback-shape/div')\n",
    "news.click()"
   ]
  },
  {
   "cell_type": "code",
   "execution_count": 131,
   "id": "cb755f63",
   "metadata": {},
   "outputs": [
    {
     "data": {
      "text/plain": [
       "['@saikiranlesnar7776\\n1 day ago\\nI Hate my mind \\n53\\nReply',\n",
       " '@nookarajup9609\\n3 days ago\\nBeautiful expression beauty \\n21\\nReply',\n",
       " '@xxxxxxlxdx2009\\n9 days ago\\nPooja Hegde is my crush \\n93\\nReply',\n",
       " '@prabhust4692\\n3 days ago\\nBeautiful ️\\n17\\nReply',\n",
       " '@triggergamerz77\\n1 day ago\\nWa sweet heart\\n2\\nReply',\n",
       " '@govindRajpurohit0\\n4 hours ago\\nHar har Mahadev \\n2\\nReply',\n",
       " '@neelagirisatish2143\\n2 days ago\\nHey Honey...you no what ....you are a good actor also\\n27\\nReply',\n",
       " '@maheshraj6554\\n1 day ago\\nYaar kitni ossum hai Yaar yeh\\n10\\nReply',\n",
       " '@muhammadshafeeque9264\\n1 day ago\\nLed cream pest meri jaan bahoot bahetrin badiyaa ek number dhullo Rani padhodi bhammo dddhhuurr mikran chikni golgoza\\n2\\nReply',\n",
       " '@jyotiprakashroutray5264\\n1 day ago\\nNice Expression honey......\\n1\\nReply',\n",
       " '@rafisarwary5506\\n19 hours ago\\nLove you \\n1\\nReply',\n",
       " '@adeshbandal7862\\n7 hours ago\\nShe is my dream girl ️\\nReply',\n",
       " '@akshaynagare786\\n1 day ago\\nMy crush all time ️\\n1\\nReply',\n",
       " '@anjali2395\\n1 day ago\\nshe is so beautiful \\n1\\nReply',\n",
       " '@maruthigr\\n25 minutes ago\\ncute baby \\nReply',\n",
       " '@user-lr5ty4ls7o\\n2 days ago\\n2\\nReply',\n",
       " '@dkmdipu736\\n10 hours ago\\nMy favorite heroin ️\\n1\\nReply',\n",
       " '@vinaymaheshwari9095\\n11 hours ago\\nHye Pooja ️\\nReply',\n",
       " '@mariabarbarajoseph2595\\n5 days ago\\nPooja Hegde is very cute n lovely person.\\n20\\nReply']"
      ]
     },
     "execution_count": 131,
     "metadata": {},
     "output_type": "execute_result"
    }
   ],
   "source": [
    "comment=[]\n",
    "com=driver.find_elements(By.CLASS_NAME,\"style-scope ytd-comment-renderer\")\n",
    "for i in com[0:500]:\n",
    "    com=i.text\n",
    "    comment.append(com)\n",
    "comment"
   ]
  },
  {
   "cell_type": "code",
   "execution_count": null,
   "id": "09fd6f13",
   "metadata": {},
   "outputs": [],
   "source": []
  },
  {
   "cell_type": "code",
   "execution_count": null,
   "id": "808acccb",
   "metadata": {},
   "outputs": [],
   "source": [
    "\n"
   ]
  }
 ],
 "metadata": {
  "kernelspec": {
   "display_name": "Python 3 (ipykernel)",
   "language": "python",
   "name": "python3"
  },
  "language_info": {
   "codemirror_mode": {
    "name": "ipython",
    "version": 3
   },
   "file_extension": ".py",
   "mimetype": "text/x-python",
   "name": "python",
   "nbconvert_exporter": "python",
   "pygments_lexer": "ipython3",
   "version": "3.9.7"
  }
 },
 "nbformat": 4,
 "nbformat_minor": 5
}
