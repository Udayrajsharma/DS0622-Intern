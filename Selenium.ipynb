{
 "cells": [
  {
   "cell_type": "code",
   "execution_count": 529,
   "id": "99a90205-f14b-4bee-934a-2ed656318ea2",
   "metadata": {},
   "outputs": [
    {
     "name": "stdout",
     "output_type": "stream",
     "text": [
      "Requirement already satisfied: selenium in d:\\anaconda\\lib\\site-packages (4.2.0)\n",
      "Requirement already satisfied: trio-websocket~=0.9 in d:\\anaconda\\lib\\site-packages (from selenium) (0.9.2)\n",
      "Requirement already satisfied: trio~=0.17 in d:\\anaconda\\lib\\site-packages (from selenium) (0.20.0)\n",
      "Requirement already satisfied: urllib3[secure,socks]~=1.26 in d:\\anaconda\\lib\\site-packages (from selenium) (1.26.7)\n",
      "Requirement already satisfied: outcome in d:\\anaconda\\lib\\site-packages (from trio~=0.17->selenium) (1.1.0)\n",
      "Requirement already satisfied: attrs>=19.2.0 in d:\\anaconda\\lib\\site-packages (from trio~=0.17->selenium) (21.2.0)\n",
      "Requirement already satisfied: async-generator>=1.9 in d:\\anaconda\\lib\\site-packages (from trio~=0.17->selenium) (1.10)\n",
      "Requirement already satisfied: cffi>=1.14 in d:\\anaconda\\lib\\site-packages (from trio~=0.17->selenium) (1.14.6)\n",
      "Requirement already satisfied: sniffio in d:\\anaconda\\lib\\site-packages (from trio~=0.17->selenium) (1.2.0)\n",
      "Requirement already satisfied: idna in d:\\anaconda\\lib\\site-packages (from trio~=0.17->selenium) (3.2)\n",
      "Requirement already satisfied: sortedcontainers in d:\\anaconda\\lib\\site-packages (from trio~=0.17->selenium) (2.4.0)\n",
      "Requirement already satisfied: pycparser in d:\\anaconda\\lib\\site-packages (from cffi>=1.14->trio~=0.17->selenium) (2.20)\n",
      "Requirement already satisfied: wsproto>=0.14 in d:\\anaconda\\lib\\site-packages (from trio-websocket~=0.9->selenium) (1.1.0)\n",
      "Requirement already satisfied: pyOpenSSL>=0.14 in d:\\anaconda\\lib\\site-packages (from urllib3[secure,socks]~=1.26->selenium) (21.0.0)\n",
      "Requirement already satisfied: cryptography>=1.3.4 in d:\\anaconda\\lib\\site-packages (from urllib3[secure,socks]~=1.26->selenium) (3.4.8)\n",
      "Requirement already satisfied: certifi in d:\\anaconda\\lib\\site-packages (from urllib3[secure,socks]~=1.26->selenium) (2021.10.8)\n",
      "Requirement already satisfied: PySocks!=1.5.7,<2.0,>=1.5.6 in d:\\anaconda\\lib\\site-packages (from urllib3[secure,socks]~=1.26->selenium) (1.7.1)\n",
      "Requirement already satisfied: six>=1.5.2 in d:\\anaconda\\lib\\site-packages (from pyOpenSSL>=0.14->urllib3[secure,socks]~=1.26->selenium) (1.16.0)\n",
      "Requirement already satisfied: h11<1,>=0.9.0 in d:\\anaconda\\lib\\site-packages (from wsproto>=0.14->trio-websocket~=0.9->selenium) (0.13.0)\n"
     ]
    }
   ],
   "source": [
    "!pip install selenium"
   ]
  },
  {
   "cell_type": "code",
   "execution_count": 530,
   "id": "66ec08e8-cf25-4351-92d6-2c6c87b828c8",
   "metadata": {},
   "outputs": [],
   "source": [
    "import selenium\n",
    "import pandas as pd \n",
    "from selenium import webdriver\n",
    "import warnings\n",
    "warnings.filterwarnings(\"ignore\")\n",
    "#from selenium.common.exceptions import StaleElementReferenceException, NoSuchElentException\n",
    "from selenium.webdriver.common.by import By\n",
    "import time"
   ]
  },
  {
   "cell_type": "code",
   "execution_count": null,
   "id": "9102ec08-91c5-48ff-acf3-7642b6f2606e",
   "metadata": {},
   "outputs": [],
   "source": [
    "#for driver installing \n",
    "driver=webdriver.Chrome(r\"D:\\OneDrive\\Documents\\Downloads\\chromedriver_win32\\chromedriver.exe\")"
   ]
  },
  {
   "cell_type": "code",
   "execution_count": 456,
   "id": "015f407a-8138-4fc2-9faa-83e3e1729e6a",
   "metadata": {},
   "outputs": [],
   "source": [
    "#fetch the data of Site\n",
    "driver.get(\"https://wwwchr.naukri.com/\")"
   ]
  },
  {
   "cell_type": "code",
   "execution_count": 457,
   "id": "2d9f4f4f-00c6-4608-9986-0cb52ca1c680",
   "metadata": {},
   "outputs": [],
   "source": [
    "#provide the input to site\n",
    "designation=driver.find_element(By.CLASS_NAME,\"suggestor-input \")\n",
    "designation.send_keys(\"Data Analyst\")"
   ]
  },
  {
   "cell_type": "code",
   "execution_count": 458,
   "id": "0b83a2cf-a787-4e7c-9e35-ccb2021a8e23",
   "metadata": {},
   "outputs": [],
   "source": [
    "#provide the location \n",
    "location=driver.find_element(By.XPATH,\"/html/body/div[1]/div[6]/div/div/div[5]/div/div/div/input\")\n",
    "location.send_keys(\"Bangalore\")"
   ]
  },
  {
   "cell_type": "code",
   "execution_count": 459,
   "id": "7fd49646-52fb-4ebb-8fa9-730518bcd7e4",
   "metadata": {},
   "outputs": [],
   "source": [
    "#for clicking on search\n",
    "search=driver.find_element(By.CLASS_NAME,\"qsbSubmit\")\n",
    "search.click()"
   ]
  },
  {
   "cell_type": "code",
   "execution_count": 460,
   "id": "5cd566d2-c214-480d-b789-8b34c34d0e90",
   "metadata": {},
   "outputs": [],
   "source": [
    "#create the empty list\n",
    "job_title=[]\n",
    "job_location=[]\n",
    "company_name=[]\n",
    "experience_required=[]"
   ]
  },
  {
   "cell_type": "code",
   "execution_count": 461,
   "id": "05566023-28e6-451e-b2f7-64fa95e3da62",
   "metadata": {},
   "outputs": [],
   "source": [
    "#scraping job title and all abvoe mentioned list from given page\n",
    "title=driver.find_elements(By.XPATH,'//a[@class= \"title fw500 ellipsis\"]')\n",
    "for i in title[0:10]:\n",
    "    title=i.text\n",
    "    job_title.append(title)\n",
    "\n",
    "location=driver.find_elements(By.XPATH,'//li[@class=\"fleft grey-text br2 placeHolderLi location\"]')\n",
    "for i in location[0:10]:\n",
    "    location=i.text\n",
    "    job_location.append(location)\n",
    "    \n",
    "company=driver.find_elements(By.XPATH,'//a[@class=\"subTitle ellipsis fleft\"]')\n",
    "for i in company[0:10]:\n",
    "    company=i.text\n",
    "    company_name.append(company)\n",
    "    \n",
    "\n",
    "exp= driver.find_elements(By.XPATH,\"//li[@class='fleft grey-text br2 placeHolderLi experience']//span\")\n",
    "for i in exp[0:10]:\n",
    "    exp=i.text\n",
    "    experience_required.append(exp)"
   ]
  },
  {
   "cell_type": "code",
   "execution_count": 462,
   "id": "79d3fd9d-d76d-4376-a869-4023402c18b4",
   "metadata": {},
   "outputs": [
    {
     "name": "stdout",
     "output_type": "stream",
     "text": [
      "10 10 10 10\n"
     ]
    }
   ],
   "source": [
    "#print for checking the length of data \n",
    "print(len(job_title),len(job_location),len(company_name),len(experience_required))\n"
   ]
  },
  {
   "cell_type": "code",
   "execution_count": 463,
   "id": "5931a346-735a-4b2c-8c26-77df07cff662",
   "metadata": {},
   "outputs": [
    {
     "data": {
      "text/html": [
       "<div>\n",
       "<style scoped>\n",
       "    .dataframe tbody tr th:only-of-type {\n",
       "        vertical-align: middle;\n",
       "    }\n",
       "\n",
       "    .dataframe tbody tr th {\n",
       "        vertical-align: top;\n",
       "    }\n",
       "\n",
       "    .dataframe thead th {\n",
       "        text-align: right;\n",
       "    }\n",
       "</style>\n",
       "<table border=\"1\" class=\"dataframe\">\n",
       "  <thead>\n",
       "    <tr style=\"text-align: right;\">\n",
       "      <th></th>\n",
       "      <th>Job_title</th>\n",
       "      <th>Job_location</th>\n",
       "      <th>company_name</th>\n",
       "      <th>experience</th>\n",
       "    </tr>\n",
       "  </thead>\n",
       "  <tbody>\n",
       "    <tr>\n",
       "      <th>0</th>\n",
       "      <td>Associate Healthcare Research and Data Analyst</td>\n",
       "      <td>Bangalore/Bengaluru</td>\n",
       "      <td>Clarivate</td>\n",
       "      <td>0-2 Yrs</td>\n",
       "    </tr>\n",
       "    <tr>\n",
       "      <th>1</th>\n",
       "      <td>Data Analyst</td>\n",
       "      <td>Bangalore/Bengaluru</td>\n",
       "      <td>Shell Pvt Ltd</td>\n",
       "      <td>2-5 Yrs</td>\n",
       "    </tr>\n",
       "    <tr>\n",
       "      <th>2</th>\n",
       "      <td>Data Analyst</td>\n",
       "      <td>Bangalore/Bengaluru</td>\n",
       "      <td>Shell Pvt Ltd</td>\n",
       "      <td>3-5 Yrs</td>\n",
       "    </tr>\n",
       "    <tr>\n",
       "      <th>3</th>\n",
       "      <td>Data Analyst</td>\n",
       "      <td>Bangalore/Bengaluru</td>\n",
       "      <td>Shell Pvt Ltd</td>\n",
       "      <td>2-5 Yrs</td>\n",
       "    </tr>\n",
       "    <tr>\n",
       "      <th>4</th>\n",
       "      <td>Sr. Data Analyst</td>\n",
       "      <td>Bangalore/Bengaluru</td>\n",
       "      <td>MM STAFFING CAREER CONSULTANTS PRIVATE LIMITED</td>\n",
       "      <td>5-8 Yrs</td>\n",
       "    </tr>\n",
       "    <tr>\n",
       "      <th>5</th>\n",
       "      <td>Senior Data Analyst II</td>\n",
       "      <td>Bangalore/Bengaluru</td>\n",
       "      <td>Flipkart</td>\n",
       "      <td>2-4 Yrs</td>\n",
       "    </tr>\n",
       "    <tr>\n",
       "      <th>6</th>\n",
       "      <td>Senior Data Management Analyst</td>\n",
       "      <td>Bangalore/Bengaluru</td>\n",
       "      <td>Wells Fargo</td>\n",
       "      <td>1-12 Yrs</td>\n",
       "    </tr>\n",
       "    <tr>\n",
       "      <th>7</th>\n",
       "      <td>Data Analyst</td>\n",
       "      <td>Bangalore/Bengaluru</td>\n",
       "      <td>MM STAFFING CAREER CONSULTANTS PRIVATE LIMITED</td>\n",
       "      <td>5-7 Yrs</td>\n",
       "    </tr>\n",
       "    <tr>\n",
       "      <th>8</th>\n",
       "      <td>Sr Data Analyst - Tableau</td>\n",
       "      <td>Bangalore/Bengaluru</td>\n",
       "      <td>S.A.W IT Services Pvt Ltd</td>\n",
       "      <td>2-5 Yrs</td>\n",
       "    </tr>\n",
       "    <tr>\n",
       "      <th>9</th>\n",
       "      <td>Project Data Analyst</td>\n",
       "      <td>Bangalore/Bengaluru</td>\n",
       "      <td>WSP</td>\n",
       "      <td>0-4 Yrs</td>\n",
       "    </tr>\n",
       "  </tbody>\n",
       "</table>\n",
       "</div>"
      ],
      "text/plain": [
       "                                        Job_title         Job_location  \\\n",
       "0  Associate Healthcare Research and Data Analyst  Bangalore/Bengaluru   \n",
       "1                                    Data Analyst  Bangalore/Bengaluru   \n",
       "2                                    Data Analyst  Bangalore/Bengaluru   \n",
       "3                                    Data Analyst  Bangalore/Bengaluru   \n",
       "4                                Sr. Data Analyst  Bangalore/Bengaluru   \n",
       "5                          Senior Data Analyst II  Bangalore/Bengaluru   \n",
       "6                  Senior Data Management Analyst  Bangalore/Bengaluru   \n",
       "7                                    Data Analyst  Bangalore/Bengaluru   \n",
       "8                       Sr Data Analyst - Tableau  Bangalore/Bengaluru   \n",
       "9                            Project Data Analyst  Bangalore/Bengaluru   \n",
       "\n",
       "                                     company_name experience  \n",
       "0                                       Clarivate    0-2 Yrs  \n",
       "1                                   Shell Pvt Ltd    2-5 Yrs  \n",
       "2                                   Shell Pvt Ltd    3-5 Yrs  \n",
       "3                                   Shell Pvt Ltd    2-5 Yrs  \n",
       "4  MM STAFFING CAREER CONSULTANTS PRIVATE LIMITED    5-8 Yrs  \n",
       "5                                        Flipkart    2-4 Yrs  \n",
       "6                                     Wells Fargo   1-12 Yrs  \n",
       "7  MM STAFFING CAREER CONSULTANTS PRIVATE LIMITED    5-7 Yrs  \n",
       "8                       S.A.W IT Services Pvt Ltd    2-5 Yrs  \n",
       "9                                             WSP    0-4 Yrs  "
      ]
     },
     "execution_count": 463,
     "metadata": {},
     "output_type": "execute_result"
    }
   ],
   "source": [
    "#crating the data frame for above data.\n",
    "df=pd.DataFrame({\"Job_title\":job_title,\"Job_location\":job_location,\"company_name\":company_name,\"experience\":experience_required})\n",
    "df\n"
   ]
  },
  {
   "cell_type": "markdown",
   "id": "b28cf039-3dec-489b-808c-5568d6cb8a5a",
   "metadata": {},
   "source": [
    "# Quiz-2"
   ]
  },
  {
   "cell_type": "code",
   "execution_count": 464,
   "id": "1e851d30-da6c-4130-a8ec-5ae5c383aa00",
   "metadata": {},
   "outputs": [],
   "source": [
    "\n",
    "driver=webdriver.Chrome(r\"D:\\OneDrive\\Documents\\Downloads\\chromedriver_win32\\chromedriver.exe\")"
   ]
  },
  {
   "cell_type": "code",
   "execution_count": 465,
   "id": "ae4312ef-4d10-415e-9eb3-3a0c059bfc9e",
   "metadata": {},
   "outputs": [],
   "source": [
    "#fetching the site\n",
    "driver.get(\"https://www.naukri.com/\")"
   ]
  },
  {
   "cell_type": "code",
   "execution_count": 466,
   "id": "44f2fcdf-7c1e-4297-8d3c-2949a2063ee3",
   "metadata": {},
   "outputs": [],
   "source": [
    "#provide input to site\n",
    "designation=driver.find_element(By.CLASS_NAME,\"suggestor-input \")\n",
    "designation.send_keys(\"Data scientist\")\n"
   ]
  },
  {
   "cell_type": "code",
   "execution_count": 467,
   "id": "a7d21ef5-0b5b-4488-9330-16a8759fd625",
   "metadata": {},
   "outputs": [],
   "source": [
    "#here also provide input\n",
    "location=driver.find_element(By.XPATH,\"/html/body/div[1]/div[6]/div/div/div[5]/div/div/div/input\")\n",
    "location.send_keys(\"Bangalore\")"
   ]
  },
  {
   "cell_type": "code",
   "execution_count": 468,
   "id": "c0df0ae2-0b49-4724-816b-0baa12f60b87",
   "metadata": {},
   "outputs": [],
   "source": [
    "#click on search button\n",
    "search=driver.find_element(By.CLASS_NAME,\"qsbSubmit\")\n",
    "search.click()"
   ]
  },
  {
   "cell_type": "code",
   "execution_count": 469,
   "id": "b5a7c0e6-6ecf-4aac-a29f-0273908ee8ba",
   "metadata": {},
   "outputs": [],
   "source": [
    "#create empty list\n",
    "job_title=[]\n",
    "job_location=[]\n",
    "company_name=[]\n",
    "experience_required=[]"
   ]
  },
  {
   "cell_type": "code",
   "execution_count": 470,
   "id": "38bfcfd7-80c8-413b-8364-e07b38d7daf8",
   "metadata": {},
   "outputs": [
    {
     "ename": "NoSuchWindowException",
     "evalue": "Message: no such window: target window already closed\nfrom unknown error: web view not found\n  (Session info: chrome=108.0.5359.99)\nStacktrace:\nBacktrace:\n\t(No symbol) [0x00C4F243]\n\t(No symbol) [0x00BD7FD1]\n\t(No symbol) [0x00ACD04D]\n\t(No symbol) [0x00AB2D7A]\n\t(No symbol) [0x00B1BE7B]\n\t(No symbol) [0x00B2C196]\n\t(No symbol) [0x00B18386]\n\t(No symbol) [0x00AF163C]\n\t(No symbol) [0x00AF269D]\n\tGetHandleVerifier [0x00EE9A22+2655074]\n\tGetHandleVerifier [0x00EDCA24+2601828]\n\tGetHandleVerifier [0x00CF8C0A+619850]\n\tGetHandleVerifier [0x00CF7830+614768]\n\t(No symbol) [0x00BE05FC]\n\t(No symbol) [0x00BE5968]\n\t(No symbol) [0x00BE5A55]\n\t(No symbol) [0x00BF051B]\n\tBaseThreadInitThunk [0x76706939+25]\n\tRtlGetFullPathName_UEx [0x771C8FD2+1218]\n\tRtlGetFullPathName_UEx [0x771C8F9D+1165]\n",
     "output_type": "error",
     "traceback": [
      "\u001b[1;31m---------------------------------------------------------------------------\u001b[0m",
      "\u001b[1;31mNoSuchWindowException\u001b[0m                     Traceback (most recent call last)",
      "\u001b[1;32m~\\AppData\\Local\\Temp/ipykernel_27324/2680288530.py\u001b[0m in \u001b[0;36m<module>\u001b[1;34m\u001b[0m\n\u001b[1;32m----> 1\u001b[1;33m \u001b[0mtitle\u001b[0m\u001b[1;33m=\u001b[0m\u001b[0mdriver\u001b[0m\u001b[1;33m.\u001b[0m\u001b[0mfind_elements\u001b[0m\u001b[1;33m(\u001b[0m\u001b[0mBy\u001b[0m\u001b[1;33m.\u001b[0m\u001b[0mXPATH\u001b[0m\u001b[1;33m,\u001b[0m\u001b[1;34m'//a[@class=\"title fw500 ellipsis\"]'\u001b[0m\u001b[1;33m)\u001b[0m\u001b[1;33m\u001b[0m\u001b[1;33m\u001b[0m\u001b[0m\n\u001b[0m\u001b[0;32m      2\u001b[0m \u001b[1;32mfor\u001b[0m \u001b[0mi\u001b[0m \u001b[1;32min\u001b[0m \u001b[0mtitle\u001b[0m\u001b[1;33m[\u001b[0m\u001b[1;36m0\u001b[0m\u001b[1;33m:\u001b[0m\u001b[1;36m10\u001b[0m\u001b[1;33m]\u001b[0m\u001b[1;33m:\u001b[0m\u001b[1;33m\u001b[0m\u001b[1;33m\u001b[0m\u001b[0m\n\u001b[0;32m      3\u001b[0m     \u001b[0mtitle\u001b[0m\u001b[1;33m=\u001b[0m\u001b[0mi\u001b[0m\u001b[1;33m.\u001b[0m\u001b[0mtext\u001b[0m\u001b[1;33m\u001b[0m\u001b[1;33m\u001b[0m\u001b[0m\n\u001b[0;32m      4\u001b[0m     \u001b[0mjob_title\u001b[0m\u001b[1;33m.\u001b[0m\u001b[0mappend\u001b[0m\u001b[1;33m(\u001b[0m\u001b[0mtitle\u001b[0m\u001b[1;33m)\u001b[0m\u001b[1;33m\u001b[0m\u001b[1;33m\u001b[0m\u001b[0m\n\u001b[0;32m      5\u001b[0m \u001b[0mjob_title\u001b[0m\u001b[1;33m\u001b[0m\u001b[1;33m\u001b[0m\u001b[0m\n",
      "\u001b[1;32mD:\\Anaconda\\lib\\site-packages\\selenium\\webdriver\\remote\\webdriver.py\u001b[0m in \u001b[0;36mfind_elements\u001b[1;34m(self, by, value)\u001b[0m\n\u001b[0;32m   1282\u001b[0m         \u001b[1;31m# Return empty list if driver returns null\u001b[0m\u001b[1;33m\u001b[0m\u001b[1;33m\u001b[0m\u001b[0m\n\u001b[0;32m   1283\u001b[0m         \u001b[1;31m# See https://github.com/SeleniumHQ/selenium/issues/4555\u001b[0m\u001b[1;33m\u001b[0m\u001b[1;33m\u001b[0m\u001b[0m\n\u001b[1;32m-> 1284\u001b[1;33m         return self.execute(Command.FIND_ELEMENTS, {\n\u001b[0m\u001b[0;32m   1285\u001b[0m             \u001b[1;34m'using'\u001b[0m\u001b[1;33m:\u001b[0m \u001b[0mby\u001b[0m\u001b[1;33m,\u001b[0m\u001b[1;33m\u001b[0m\u001b[1;33m\u001b[0m\u001b[0m\n\u001b[0;32m   1286\u001b[0m             'value': value})['value'] or []\n",
      "\u001b[1;32mD:\\Anaconda\\lib\\site-packages\\selenium\\webdriver\\remote\\webdriver.py\u001b[0m in \u001b[0;36mexecute\u001b[1;34m(self, driver_command, params)\u001b[0m\n\u001b[0;32m    428\u001b[0m         \u001b[0mresponse\u001b[0m \u001b[1;33m=\u001b[0m \u001b[0mself\u001b[0m\u001b[1;33m.\u001b[0m\u001b[0mcommand_executor\u001b[0m\u001b[1;33m.\u001b[0m\u001b[0mexecute\u001b[0m\u001b[1;33m(\u001b[0m\u001b[0mdriver_command\u001b[0m\u001b[1;33m,\u001b[0m \u001b[0mparams\u001b[0m\u001b[1;33m)\u001b[0m\u001b[1;33m\u001b[0m\u001b[1;33m\u001b[0m\u001b[0m\n\u001b[0;32m    429\u001b[0m         \u001b[1;32mif\u001b[0m \u001b[0mresponse\u001b[0m\u001b[1;33m:\u001b[0m\u001b[1;33m\u001b[0m\u001b[1;33m\u001b[0m\u001b[0m\n\u001b[1;32m--> 430\u001b[1;33m             \u001b[0mself\u001b[0m\u001b[1;33m.\u001b[0m\u001b[0merror_handler\u001b[0m\u001b[1;33m.\u001b[0m\u001b[0mcheck_response\u001b[0m\u001b[1;33m(\u001b[0m\u001b[0mresponse\u001b[0m\u001b[1;33m)\u001b[0m\u001b[1;33m\u001b[0m\u001b[1;33m\u001b[0m\u001b[0m\n\u001b[0m\u001b[0;32m    431\u001b[0m             response['value'] = self._unwrap_value(\n\u001b[0;32m    432\u001b[0m                 response.get('value', None))\n",
      "\u001b[1;32mD:\\Anaconda\\lib\\site-packages\\selenium\\webdriver\\remote\\errorhandler.py\u001b[0m in \u001b[0;36mcheck_response\u001b[1;34m(self, response)\u001b[0m\n\u001b[0;32m    245\u001b[0m                 \u001b[0malert_text\u001b[0m \u001b[1;33m=\u001b[0m \u001b[0mvalue\u001b[0m\u001b[1;33m[\u001b[0m\u001b[1;34m'alert'\u001b[0m\u001b[1;33m]\u001b[0m\u001b[1;33m.\u001b[0m\u001b[0mget\u001b[0m\u001b[1;33m(\u001b[0m\u001b[1;34m'text'\u001b[0m\u001b[1;33m)\u001b[0m\u001b[1;33m\u001b[0m\u001b[1;33m\u001b[0m\u001b[0m\n\u001b[0;32m    246\u001b[0m             \u001b[1;32mraise\u001b[0m \u001b[0mexception_class\u001b[0m\u001b[1;33m(\u001b[0m\u001b[0mmessage\u001b[0m\u001b[1;33m,\u001b[0m \u001b[0mscreen\u001b[0m\u001b[1;33m,\u001b[0m \u001b[0mstacktrace\u001b[0m\u001b[1;33m,\u001b[0m \u001b[0malert_text\u001b[0m\u001b[1;33m)\u001b[0m  \u001b[1;31m# type: ignore[call-arg]  # mypy is not smart enough here\u001b[0m\u001b[1;33m\u001b[0m\u001b[1;33m\u001b[0m\u001b[0m\n\u001b[1;32m--> 247\u001b[1;33m         \u001b[1;32mraise\u001b[0m \u001b[0mexception_class\u001b[0m\u001b[1;33m(\u001b[0m\u001b[0mmessage\u001b[0m\u001b[1;33m,\u001b[0m \u001b[0mscreen\u001b[0m\u001b[1;33m,\u001b[0m \u001b[0mstacktrace\u001b[0m\u001b[1;33m)\u001b[0m\u001b[1;33m\u001b[0m\u001b[1;33m\u001b[0m\u001b[0m\n\u001b[0m\u001b[0;32m    248\u001b[0m \u001b[1;33m\u001b[0m\u001b[0m\n\u001b[0;32m    249\u001b[0m     \u001b[1;32mdef\u001b[0m \u001b[0m_value_or_default\u001b[0m\u001b[1;33m(\u001b[0m\u001b[0mself\u001b[0m\u001b[1;33m,\u001b[0m \u001b[0mobj\u001b[0m\u001b[1;33m:\u001b[0m \u001b[0mMapping\u001b[0m\u001b[1;33m[\u001b[0m\u001b[0m_KT\u001b[0m\u001b[1;33m,\u001b[0m \u001b[0m_VT\u001b[0m\u001b[1;33m]\u001b[0m\u001b[1;33m,\u001b[0m \u001b[0mkey\u001b[0m\u001b[1;33m:\u001b[0m \u001b[0m_KT\u001b[0m\u001b[1;33m,\u001b[0m \u001b[0mdefault\u001b[0m\u001b[1;33m:\u001b[0m \u001b[0m_VT\u001b[0m\u001b[1;33m)\u001b[0m \u001b[1;33m->\u001b[0m \u001b[0m_VT\u001b[0m\u001b[1;33m:\u001b[0m\u001b[1;33m\u001b[0m\u001b[1;33m\u001b[0m\u001b[0m\n",
      "\u001b[1;31mNoSuchWindowException\u001b[0m: Message: no such window: target window already closed\nfrom unknown error: web view not found\n  (Session info: chrome=108.0.5359.99)\nStacktrace:\nBacktrace:\n\t(No symbol) [0x00C4F243]\n\t(No symbol) [0x00BD7FD1]\n\t(No symbol) [0x00ACD04D]\n\t(No symbol) [0x00AB2D7A]\n\t(No symbol) [0x00B1BE7B]\n\t(No symbol) [0x00B2C196]\n\t(No symbol) [0x00B18386]\n\t(No symbol) [0x00AF163C]\n\t(No symbol) [0x00AF269D]\n\tGetHandleVerifier [0x00EE9A22+2655074]\n\tGetHandleVerifier [0x00EDCA24+2601828]\n\tGetHandleVerifier [0x00CF8C0A+619850]\n\tGetHandleVerifier [0x00CF7830+614768]\n\t(No symbol) [0x00BE05FC]\n\t(No symbol) [0x00BE5968]\n\t(No symbol) [0x00BE5A55]\n\t(No symbol) [0x00BF051B]\n\tBaseThreadInitThunk [0x76706939+25]\n\tRtlGetFullPathName_UEx [0x771C8FD2+1218]\n\tRtlGetFullPathName_UEx [0x771C8F9D+1165]\n"
     ]
    }
   ],
   "source": [
    "#scraping the data(title)\n",
    "title=driver.find_elements(By.XPATH,'//a[@class=\"title fw500 ellipsis\"]')\n",
    "for i in title[0:10]:\n",
    "    title=i.text\n",
    "    job_title.append(title)\n",
    "job_title\n"
   ]
  },
  {
   "cell_type": "code",
   "execution_count": null,
   "id": "8982d966-a715-44f4-805d-36489290d173",
   "metadata": {},
   "outputs": [],
   "source": [
    "#scrap the data as above\n",
    "location=driver.find_elements(By.XPATH,'//li[@class=\"fleft grey-text br2 placeHolderLi location\"]')\n",
    "for i in location[0:10]:\n",
    "    location=i.text\n",
    "    job_location.append(location)\n",
    "job_location"
   ]
  },
  {
   "cell_type": "code",
   "execution_count": null,
   "id": "508ff0fa-8336-4d2e-883e-a791622d8b29",
   "metadata": {},
   "outputs": [],
   "source": [
    "#here also scraping of Company name\n",
    "company=driver.find_elements(By.XPATH,'//a[@class=\"subTitle ellipsis fleft\"]')\n",
    "for i in company[0:10]:\n",
    "    company=i.text\n",
    "    company_name.append(company)\n",
    "company_name  \n"
   ]
  },
  {
   "cell_type": "code",
   "execution_count": null,
   "id": "ae924939-e84d-4ffa-8a0a-6140a8567849",
   "metadata": {},
   "outputs": [],
   "source": [
    "#scarping experience\n",
    "exp= driver.find_elements(By.XPATH,'//li[@class=\"fleft grey-text br2 placeHolderLi experience\"]')\n",
    "for i in exp[0:10]:\n",
    "    exp=i.text\n",
    "    experience_required.append(exp)\n",
    "experience_required"
   ]
  },
  {
   "cell_type": "code",
   "execution_count": null,
   "id": "6fb38d22-b728-4223-8051-fc4b4063c470",
   "metadata": {},
   "outputs": [],
   "source": [
    "#for checking length \n",
    "print(len(job_title),len(job_location),len(company_name),len(experience_required))\n"
   ]
  },
  {
   "cell_type": "code",
   "execution_count": null,
   "id": "9059753b-2aa5-4110-8804-9c16d58d7047",
   "metadata": {},
   "outputs": [],
   "source": [
    "# to make the dataframe\n",
    "df=pd.DataFrame({\"Job_title\":job_title,\"Job_location\":job_location,\"company_name\":company_name,\"experience\":experience_required})\n",
    "df"
   ]
  },
  {
   "cell_type": "markdown",
   "id": "676cbf58-deaa-4ace-a926-d68d3764e531",
   "metadata": {},
   "source": [
    "# Quiz-3"
   ]
  },
  {
   "cell_type": "code",
   "execution_count": null,
   "id": "f23eda1d-1d4f-4dc8-944b-8e3d509c5fdc",
   "metadata": {},
   "outputs": [],
   "source": [
    "driver=webdriver.Chrome(r\"D:\\OneDrive\\Documents\\Downloads\\chromedriver_win32\\chromedriver.exe\")"
   ]
  },
  {
   "cell_type": "code",
   "execution_count": null,
   "id": "eb11db8a-e5d7-419f-ae0b-970025a3c946",
   "metadata": {},
   "outputs": [],
   "source": [
    "driver.get(\"https://www.naukri.com/\")"
   ]
  },
  {
   "cell_type": "code",
   "execution_count": null,
   "id": "ed0dd3f8-3b58-4449-b784-1c875742e0d3",
   "metadata": {},
   "outputs": [],
   "source": [
    "#providing input as  data scientist\n",
    "designation=driver.find_element(By.CLASS_NAME,\"suggestor-input \")\n",
    "designation.send_keys(\"Data scientist\")\n"
   ]
  },
  {
   "cell_type": "code",
   "execution_count": null,
   "id": "de4473dc-7801-487e-9b5a-7d3e70f779c8",
   "metadata": {},
   "outputs": [],
   "source": [
    "#click on search \n",
    "search=driver.find_element(By.CLASS_NAME,\"qsbSubmit\")\n",
    "search.click()"
   ]
  },
  {
   "cell_type": "code",
   "execution_count": null,
   "id": "228cbd51-a293-4b28-ad2e-1c0b81be90b2",
   "metadata": {},
   "outputs": [],
   "source": [
    "#click on filered delhi on site\n",
    "delhi=driver.find_element(By.XPATH,'/html/body/div[1]/div[4]/div/div/section[1]/div[2]/div[5]/div[2]/div[2]/label/p')\n",
    "delhi.click()"
   ]
  },
  {
   "cell_type": "code",
   "execution_count": null,
   "id": "e7694b34-7429-4eb6-aa3c-2ef231a8564d",
   "metadata": {},
   "outputs": [],
   "source": [
    "#click on search button\n",
    "sal=driver.find_element(By.XPATH,'/html/body/div[1]/div[4]/div/div/section[1]/div[2]/div[3]/div[2]/div[2]/label/i')\n",
    "sal.click()"
   ]
  },
  {
   "cell_type": "code",
   "execution_count": null,
   "id": "df90c3ea-2b7c-4cab-a717-8f5b8624d4b0",
   "metadata": {},
   "outputs": [],
   "source": [
    "#create blank list\n",
    "Designation=[]\n",
    "Location=[]\n",
    "Company=[]\n",
    "Experience=[]"
   ]
  },
  {
   "cell_type": "code",
   "execution_count": null,
   "id": "e916e020-62eb-4ef4-8e94-0703ac6d7c61",
   "metadata": {},
   "outputs": [],
   "source": [
    "#for scraping the designation \n",
    "designation=driver.find_elements(By.XPATH,'//a[@class=\"title fw500 ellipsis\"]')\n",
    "for i in designation[0:10]:\n",
    "    designation=i.text\n",
    "    Designation.append(designation)\n",
    "Designation"
   ]
  },
  {
   "cell_type": "code",
   "execution_count": null,
   "id": "6f88e3c7-4616-4b0b-82cb-41d82b8146e8",
   "metadata": {},
   "outputs": [],
   "source": [
    "#for scraping the location\n",
    "location=driver.find_elements(By.XPATH,'//li[@class=\"fleft grey-text br2 placeHolderLi location\"]')\n",
    "for i in location[0:10]:\n",
    "    location=i.text\n",
    "    Location.append(location)\n",
    "Location"
   ]
  },
  {
   "cell_type": "code",
   "execution_count": null,
   "id": "b63eef1c-6d8e-4d11-9224-4a407c4b936d",
   "metadata": {},
   "outputs": [],
   "source": [
    "# for scraping the company \n",
    "company=driver.find_elements(By.XPATH,'//a[@class=\"subTitle ellipsis fleft\"]')\n",
    "for i in company[0:10]:\n",
    "    company=i.text\n",
    "    Company.append(company)\n",
    "Company\n"
   ]
  },
  {
   "cell_type": "code",
   "execution_count": null,
   "id": "b541887c-6e72-4ccb-89e2-22cb9e1ced66",
   "metadata": {},
   "outputs": [],
   "source": [
    "exp=driver.find_elements(By.XPATH,'//li[@class=\"fleft grey-text br2 placeHolderLi experience\"]')\n",
    "for i in exp[0:10]:\n",
    "    exp=i.text\n",
    "    Experience.append(exp)\n",
    "Experience"
   ]
  },
  {
   "cell_type": "code",
   "execution_count": null,
   "id": "33a31258-bb3f-4b7c-a7aa-a7cb5ddaba47",
   "metadata": {},
   "outputs": [],
   "source": [
    "#checking the length\n",
    "print(len(Designation),len(Location),len(Company),len(Experience))\n",
    "\n",
    "\n"
   ]
  },
  {
   "cell_type": "code",
   "execution_count": null,
   "id": "e922c59f-71ba-4ca2-a8a9-a955f2bbed84",
   "metadata": {},
   "outputs": [],
   "source": [
    "# for making the data frame\n",
    "df=pd.DataFrame({\"Title\":Designation,\"Location\":Location,\"Company\":Company,\"Experience\":Experience})\n",
    "df"
   ]
  },
  {
   "cell_type": "markdown",
   "id": "c7a6617e-d683-4e85-a36e-707cb6e08439",
   "metadata": {},
   "source": [
    "# Quiz-4 here we find sunglassess data"
   ]
  },
  {
   "cell_type": "code",
   "execution_count": 623,
   "id": "b0f944f1-3cf2-4a21-9f74-4f3dc4c2dac1",
   "metadata": {},
   "outputs": [],
   "source": [
    "driver=webdriver.Chrome(r\"D:\\OneDrive\\Documents\\Downloads\\chromedriver_win32\\chromedriver.exe\")"
   ]
  },
  {
   "cell_type": "code",
   "execution_count": 624,
   "id": "cb8ad2a4-9b79-4346-9757-6634e651d8c7",
   "metadata": {},
   "outputs": [
    {
     "ename": "WebDriverException",
     "evalue": "Message: unknown error: net::ERR_INTERNET_DISCONNECTED\n  (Session info: chrome=108.0.5359.99)\nStacktrace:\nBacktrace:\n\t(No symbol) [0x00C4F243]\n\t(No symbol) [0x00BD7FD1]\n\t(No symbol) [0x00ACD04D]\n\t(No symbol) [0x00AC9152]\n\t(No symbol) [0x00AC044D]\n\t(No symbol) [0x00AC12EF]\n\t(No symbol) [0x00AC071D]\n\t(No symbol) [0x00ABFB0B]\n\t(No symbol) [0x00ABFA5C]\n\t(No symbol) [0x00ABE7E8]\n\t(No symbol) [0x00ABEDC2]\n\t(No symbol) [0x00ACEA5B]\n\t(No symbol) [0x00B2D187]\n\t(No symbol) [0x00B1858C]\n\t(No symbol) [0x00B2C9EB]\n\t(No symbol) [0x00B18386]\n\t(No symbol) [0x00AF163C]\n\t(No symbol) [0x00AF269D]\n\tGetHandleVerifier [0x00EE9A22+2655074]\n\tGetHandleVerifier [0x00EDCA24+2601828]\n\tGetHandleVerifier [0x00CF8C0A+619850]\n\tGetHandleVerifier [0x00CF7830+614768]\n\t(No symbol) [0x00BE05FC]\n\t(No symbol) [0x00BE5968]\n\t(No symbol) [0x00BE5A55]\n\t(No symbol) [0x00BF051B]\n\tBaseThreadInitThunk [0x76706939+25]\n\tRtlGetFullPathName_UEx [0x771C8FD2+1218]\n\tRtlGetFullPathName_UEx [0x771C8F9D+1165]\n",
     "output_type": "error",
     "traceback": [
      "\u001b[1;31m---------------------------------------------------------------------------\u001b[0m",
      "\u001b[1;31mWebDriverException\u001b[0m                        Traceback (most recent call last)",
      "\u001b[1;32m~\\AppData\\Local\\Temp/ipykernel_27324/740581890.py\u001b[0m in \u001b[0;36m<module>\u001b[1;34m\u001b[0m\n\u001b[1;32m----> 1\u001b[1;33m \u001b[0mdriver\u001b[0m\u001b[1;33m.\u001b[0m\u001b[0mget\u001b[0m\u001b[1;33m(\u001b[0m\u001b[1;34m\"https://www.flipkart.com/\"\u001b[0m\u001b[1;33m)\u001b[0m\u001b[1;33m\u001b[0m\u001b[1;33m\u001b[0m\u001b[0m\n\u001b[0m",
      "\u001b[1;32mD:\\Anaconda\\lib\\site-packages\\selenium\\webdriver\\remote\\webdriver.py\u001b[0m in \u001b[0;36mget\u001b[1;34m(self, url)\u001b[0m\n\u001b[0;32m    440\u001b[0m         \u001b[0mLoads\u001b[0m \u001b[0ma\u001b[0m \u001b[0mweb\u001b[0m \u001b[0mpage\u001b[0m \u001b[1;32min\u001b[0m \u001b[0mthe\u001b[0m \u001b[0mcurrent\u001b[0m \u001b[0mbrowser\u001b[0m \u001b[0msession\u001b[0m\u001b[1;33m.\u001b[0m\u001b[1;33m\u001b[0m\u001b[1;33m\u001b[0m\u001b[0m\n\u001b[0;32m    441\u001b[0m         \"\"\"\n\u001b[1;32m--> 442\u001b[1;33m         \u001b[0mself\u001b[0m\u001b[1;33m.\u001b[0m\u001b[0mexecute\u001b[0m\u001b[1;33m(\u001b[0m\u001b[0mCommand\u001b[0m\u001b[1;33m.\u001b[0m\u001b[0mGET\u001b[0m\u001b[1;33m,\u001b[0m \u001b[1;33m{\u001b[0m\u001b[1;34m'url'\u001b[0m\u001b[1;33m:\u001b[0m \u001b[0murl\u001b[0m\u001b[1;33m}\u001b[0m\u001b[1;33m)\u001b[0m\u001b[1;33m\u001b[0m\u001b[1;33m\u001b[0m\u001b[0m\n\u001b[0m\u001b[0;32m    443\u001b[0m \u001b[1;33m\u001b[0m\u001b[0m\n\u001b[0;32m    444\u001b[0m     \u001b[1;33m@\u001b[0m\u001b[0mproperty\u001b[0m\u001b[1;33m\u001b[0m\u001b[1;33m\u001b[0m\u001b[0m\n",
      "\u001b[1;32mD:\\Anaconda\\lib\\site-packages\\selenium\\webdriver\\remote\\webdriver.py\u001b[0m in \u001b[0;36mexecute\u001b[1;34m(self, driver_command, params)\u001b[0m\n\u001b[0;32m    428\u001b[0m         \u001b[0mresponse\u001b[0m \u001b[1;33m=\u001b[0m \u001b[0mself\u001b[0m\u001b[1;33m.\u001b[0m\u001b[0mcommand_executor\u001b[0m\u001b[1;33m.\u001b[0m\u001b[0mexecute\u001b[0m\u001b[1;33m(\u001b[0m\u001b[0mdriver_command\u001b[0m\u001b[1;33m,\u001b[0m \u001b[0mparams\u001b[0m\u001b[1;33m)\u001b[0m\u001b[1;33m\u001b[0m\u001b[1;33m\u001b[0m\u001b[0m\n\u001b[0;32m    429\u001b[0m         \u001b[1;32mif\u001b[0m \u001b[0mresponse\u001b[0m\u001b[1;33m:\u001b[0m\u001b[1;33m\u001b[0m\u001b[1;33m\u001b[0m\u001b[0m\n\u001b[1;32m--> 430\u001b[1;33m             \u001b[0mself\u001b[0m\u001b[1;33m.\u001b[0m\u001b[0merror_handler\u001b[0m\u001b[1;33m.\u001b[0m\u001b[0mcheck_response\u001b[0m\u001b[1;33m(\u001b[0m\u001b[0mresponse\u001b[0m\u001b[1;33m)\u001b[0m\u001b[1;33m\u001b[0m\u001b[1;33m\u001b[0m\u001b[0m\n\u001b[0m\u001b[0;32m    431\u001b[0m             response['value'] = self._unwrap_value(\n\u001b[0;32m    432\u001b[0m                 response.get('value', None))\n",
      "\u001b[1;32mD:\\Anaconda\\lib\\site-packages\\selenium\\webdriver\\remote\\errorhandler.py\u001b[0m in \u001b[0;36mcheck_response\u001b[1;34m(self, response)\u001b[0m\n\u001b[0;32m    245\u001b[0m                 \u001b[0malert_text\u001b[0m \u001b[1;33m=\u001b[0m \u001b[0mvalue\u001b[0m\u001b[1;33m[\u001b[0m\u001b[1;34m'alert'\u001b[0m\u001b[1;33m]\u001b[0m\u001b[1;33m.\u001b[0m\u001b[0mget\u001b[0m\u001b[1;33m(\u001b[0m\u001b[1;34m'text'\u001b[0m\u001b[1;33m)\u001b[0m\u001b[1;33m\u001b[0m\u001b[1;33m\u001b[0m\u001b[0m\n\u001b[0;32m    246\u001b[0m             \u001b[1;32mraise\u001b[0m \u001b[0mexception_class\u001b[0m\u001b[1;33m(\u001b[0m\u001b[0mmessage\u001b[0m\u001b[1;33m,\u001b[0m \u001b[0mscreen\u001b[0m\u001b[1;33m,\u001b[0m \u001b[0mstacktrace\u001b[0m\u001b[1;33m,\u001b[0m \u001b[0malert_text\u001b[0m\u001b[1;33m)\u001b[0m  \u001b[1;31m# type: ignore[call-arg]  # mypy is not smart enough here\u001b[0m\u001b[1;33m\u001b[0m\u001b[1;33m\u001b[0m\u001b[0m\n\u001b[1;32m--> 247\u001b[1;33m         \u001b[1;32mraise\u001b[0m \u001b[0mexception_class\u001b[0m\u001b[1;33m(\u001b[0m\u001b[0mmessage\u001b[0m\u001b[1;33m,\u001b[0m \u001b[0mscreen\u001b[0m\u001b[1;33m,\u001b[0m \u001b[0mstacktrace\u001b[0m\u001b[1;33m)\u001b[0m\u001b[1;33m\u001b[0m\u001b[1;33m\u001b[0m\u001b[0m\n\u001b[0m\u001b[0;32m    248\u001b[0m \u001b[1;33m\u001b[0m\u001b[0m\n\u001b[0;32m    249\u001b[0m     \u001b[1;32mdef\u001b[0m \u001b[0m_value_or_default\u001b[0m\u001b[1;33m(\u001b[0m\u001b[0mself\u001b[0m\u001b[1;33m,\u001b[0m \u001b[0mobj\u001b[0m\u001b[1;33m:\u001b[0m \u001b[0mMapping\u001b[0m\u001b[1;33m[\u001b[0m\u001b[0m_KT\u001b[0m\u001b[1;33m,\u001b[0m \u001b[0m_VT\u001b[0m\u001b[1;33m]\u001b[0m\u001b[1;33m,\u001b[0m \u001b[0mkey\u001b[0m\u001b[1;33m:\u001b[0m \u001b[0m_KT\u001b[0m\u001b[1;33m,\u001b[0m \u001b[0mdefault\u001b[0m\u001b[1;33m:\u001b[0m \u001b[0m_VT\u001b[0m\u001b[1;33m)\u001b[0m \u001b[1;33m->\u001b[0m \u001b[0m_VT\u001b[0m\u001b[1;33m:\u001b[0m\u001b[1;33m\u001b[0m\u001b[1;33m\u001b[0m\u001b[0m\n",
      "\u001b[1;31mWebDriverException\u001b[0m: Message: unknown error: net::ERR_INTERNET_DISCONNECTED\n  (Session info: chrome=108.0.5359.99)\nStacktrace:\nBacktrace:\n\t(No symbol) [0x00C4F243]\n\t(No symbol) [0x00BD7FD1]\n\t(No symbol) [0x00ACD04D]\n\t(No symbol) [0x00AC9152]\n\t(No symbol) [0x00AC044D]\n\t(No symbol) [0x00AC12EF]\n\t(No symbol) [0x00AC071D]\n\t(No symbol) [0x00ABFB0B]\n\t(No symbol) [0x00ABFA5C]\n\t(No symbol) [0x00ABE7E8]\n\t(No symbol) [0x00ABEDC2]\n\t(No symbol) [0x00ACEA5B]\n\t(No symbol) [0x00B2D187]\n\t(No symbol) [0x00B1858C]\n\t(No symbol) [0x00B2C9EB]\n\t(No symbol) [0x00B18386]\n\t(No symbol) [0x00AF163C]\n\t(No symbol) [0x00AF269D]\n\tGetHandleVerifier [0x00EE9A22+2655074]\n\tGetHandleVerifier [0x00EDCA24+2601828]\n\tGetHandleVerifier [0x00CF8C0A+619850]\n\tGetHandleVerifier [0x00CF7830+614768]\n\t(No symbol) [0x00BE05FC]\n\t(No symbol) [0x00BE5968]\n\t(No symbol) [0x00BE5A55]\n\t(No symbol) [0x00BF051B]\n\tBaseThreadInitThunk [0x76706939+25]\n\tRtlGetFullPathName_UEx [0x771C8FD2+1218]\n\tRtlGetFullPathName_UEx [0x771C8F9D+1165]\n"
     ]
    }
   ],
   "source": [
    "driver.get(\"https://www.flipkart.com/\")"
   ]
  },
  {
   "cell_type": "code",
   "execution_count": null,
   "id": "d99f15be-ee76-4a80-9e11-783483126e1f",
   "metadata": {},
   "outputs": [],
   "source": [
    "sunglass=driver.find_element(By.XPATH,'/html/body/div[1]/div/div[1]/div[1]/div[2]/div[2]/form/div/div/input')\n",
    "sunglass.send_keys(\"sungalss\")"
   ]
  },
  {
   "cell_type": "code",
   "execution_count": null,
   "id": "63c64b54-f8db-4ba6-bf33-a070582d07d3",
   "metadata": {},
   "outputs": [],
   "source": [
    "sunglass=driver.find_element(By.XPATH,'/html/body/div/div/div[1]/div[1]/div[2]/div[2]/form/div/button')\n",
    "sunglass.click()"
   ]
  },
  {
   "cell_type": "code",
   "execution_count": null,
   "id": "4f241146-a51f-452c-ad68-1f556f3361d5",
   "metadata": {},
   "outputs": [],
   "source": [
    "Brand=[]\n",
    "Production_description=[]\n",
    "Price=[]"
   ]
  },
  {
   "cell_type": "code",
   "execution_count": null,
   "id": "918dbb5f-ac03-4b36-8319-7ffb201caa9b",
   "metadata": {},
   "outputs": [],
   "source": [
    "brand=driver.find_elements(By.XPATH,'//div[@class=\"_2WkVRV\"]')\n",
    "for i in brand:\n",
    "    brand=i.text\n",
    "    Brand.append(brand)\n",
    "Brand"
   ]
  },
  {
   "cell_type": "code",
   "execution_count": null,
   "id": "d15046ae-facf-431d-b386-bfb6937e5e7d",
   "metadata": {},
   "outputs": [],
   "source": [
    "Pr=driver.find_elements(By.XPATH,'/html/body/div[1]/div/div[3]/div[1]/div[2]/div[2]/div/div[1]/div/div[2]/a[2]')\n",
    "for i in Pr[0:10]:\n",
    "    pr=i.text\n",
    "    Price.append(pr)\n",
    "Price"
   ]
  },
  {
   "cell_type": "code",
   "execution_count": null,
   "id": "00e731a0-8d6b-46b6-997a-552fe8bb062c",
   "metadata": {},
   "outputs": [],
   "source": [
    "product_des=driver.find_elements(By.XPATH,'/html/body/div[1]/div/div[3]/div[1]/div[2]/div[2]/div/div[1]/div/div/a[1]')\n",
    "for i in product_des[0:10]:\n",
    "    product_des=i.text\n",
    "    Production_description.append(product_des)\n",
    "Production_description"
   ]
  },
  {
   "cell_type": "code",
   "execution_count": null,
   "id": "9c90a112-7741-4b0e-a206-e430c52c31ff",
   "metadata": {},
   "outputs": [],
   "source": []
  },
  {
   "cell_type": "code",
   "execution_count": 621,
   "id": "11b34f77-052a-4954-83e5-ee7487475816",
   "metadata": {},
   "outputs": [
    {
     "ename": "NoSuchWindowException",
     "evalue": "Message: no such window: target window already closed\nfrom unknown error: web view not found\n  (Session info: chrome=108.0.5359.99)\nStacktrace:\nBacktrace:\n\t(No symbol) [0x00C4F243]\n\t(No symbol) [0x00BD7FD1]\n\t(No symbol) [0x00ACD04D]\n\t(No symbol) [0x00AB2D7A]\n\t(No symbol) [0x00B1BE7B]\n\t(No symbol) [0x00B2C196]\n\t(No symbol) [0x00B18386]\n\t(No symbol) [0x00AF163C]\n\t(No symbol) [0x00AF269D]\n\tGetHandleVerifier [0x00EE9A22+2655074]\n\tGetHandleVerifier [0x00EDCA24+2601828]\n\tGetHandleVerifier [0x00CF8C0A+619850]\n\tGetHandleVerifier [0x00CF7830+614768]\n\t(No symbol) [0x00BE05FC]\n\t(No symbol) [0x00BE5968]\n\t(No symbol) [0x00BE5A55]\n\t(No symbol) [0x00BF051B]\n\tBaseThreadInitThunk [0x76706939+25]\n\tRtlGetFullPathName_UEx [0x771C8FD2+1218]\n\tRtlGetFullPathName_UEx [0x771C8F9D+1165]\n",
     "output_type": "error",
     "traceback": [
      "\u001b[1;31m---------------------------------------------------------------------------\u001b[0m",
      "\u001b[1;31mNoSuchWindowException\u001b[0m                     Traceback (most recent call last)",
      "\u001b[1;32m~\\AppData\\Local\\Temp/ipykernel_27324/2874272141.py\u001b[0m in \u001b[0;36m<module>\u001b[1;34m\u001b[0m\n\u001b[0;32m      3\u001b[0m \u001b[0mend\u001b[0m\u001b[1;33m=\u001b[0m\u001b[1;36m1\u001b[0m\u001b[1;33m\u001b[0m\u001b[1;33m\u001b[0m\u001b[0m\n\u001b[0;32m      4\u001b[0m \u001b[1;32mfor\u001b[0m \u001b[0mpage\u001b[0m \u001b[1;32min\u001b[0m \u001b[0mrange\u001b[0m\u001b[1;33m(\u001b[0m\u001b[0mstart\u001b[0m\u001b[1;33m,\u001b[0m\u001b[0mend\u001b[0m\u001b[1;33m)\u001b[0m\u001b[1;33m:\u001b[0m\u001b[1;33m\u001b[0m\u001b[1;33m\u001b[0m\u001b[0m\n\u001b[1;32m----> 5\u001b[1;33m     \u001b[0mbrand\u001b[0m\u001b[1;33m=\u001b[0m\u001b[0mdriver\u001b[0m\u001b[1;33m.\u001b[0m\u001b[0mfind_elements\u001b[0m\u001b[1;33m(\u001b[0m\u001b[0mBy\u001b[0m\u001b[1;33m.\u001b[0m\u001b[0mXPATH\u001b[0m\u001b[1;33m,\u001b[0m\u001b[1;34m'//div[@class=\"_2WkVRV\"]'\u001b[0m\u001b[1;33m)\u001b[0m\u001b[1;33m\u001b[0m\u001b[1;33m\u001b[0m\u001b[0m\n\u001b[0m\u001b[0;32m      6\u001b[0m     \u001b[1;32mfor\u001b[0m \u001b[0mi\u001b[0m \u001b[1;32min\u001b[0m \u001b[0mbrand\u001b[0m\u001b[1;33m[\u001b[0m\u001b[1;36m0\u001b[0m\u001b[1;33m:\u001b[0m\u001b[1;36m100\u001b[0m\u001b[1;33m]\u001b[0m\u001b[1;33m:\u001b[0m\u001b[1;33m\u001b[0m\u001b[1;33m\u001b[0m\u001b[0m\n\u001b[0;32m      7\u001b[0m         \u001b[0mbrand\u001b[0m\u001b[1;33m=\u001b[0m\u001b[1;33m(\u001b[0m\u001b[0mi\u001b[0m\u001b[1;33m.\u001b[0m\u001b[0mtext\u001b[0m\u001b[1;33m)\u001b[0m\u001b[1;33m\u001b[0m\u001b[1;33m\u001b[0m\u001b[0m\n",
      "\u001b[1;32mD:\\Anaconda\\lib\\site-packages\\selenium\\webdriver\\remote\\webdriver.py\u001b[0m in \u001b[0;36mfind_elements\u001b[1;34m(self, by, value)\u001b[0m\n\u001b[0;32m   1282\u001b[0m         \u001b[1;31m# Return empty list if driver returns null\u001b[0m\u001b[1;33m\u001b[0m\u001b[1;33m\u001b[0m\u001b[0m\n\u001b[0;32m   1283\u001b[0m         \u001b[1;31m# See https://github.com/SeleniumHQ/selenium/issues/4555\u001b[0m\u001b[1;33m\u001b[0m\u001b[1;33m\u001b[0m\u001b[0m\n\u001b[1;32m-> 1284\u001b[1;33m         return self.execute(Command.FIND_ELEMENTS, {\n\u001b[0m\u001b[0;32m   1285\u001b[0m             \u001b[1;34m'using'\u001b[0m\u001b[1;33m:\u001b[0m \u001b[0mby\u001b[0m\u001b[1;33m,\u001b[0m\u001b[1;33m\u001b[0m\u001b[1;33m\u001b[0m\u001b[0m\n\u001b[0;32m   1286\u001b[0m             'value': value})['value'] or []\n",
      "\u001b[1;32mD:\\Anaconda\\lib\\site-packages\\selenium\\webdriver\\remote\\webdriver.py\u001b[0m in \u001b[0;36mexecute\u001b[1;34m(self, driver_command, params)\u001b[0m\n\u001b[0;32m    428\u001b[0m         \u001b[0mresponse\u001b[0m \u001b[1;33m=\u001b[0m \u001b[0mself\u001b[0m\u001b[1;33m.\u001b[0m\u001b[0mcommand_executor\u001b[0m\u001b[1;33m.\u001b[0m\u001b[0mexecute\u001b[0m\u001b[1;33m(\u001b[0m\u001b[0mdriver_command\u001b[0m\u001b[1;33m,\u001b[0m \u001b[0mparams\u001b[0m\u001b[1;33m)\u001b[0m\u001b[1;33m\u001b[0m\u001b[1;33m\u001b[0m\u001b[0m\n\u001b[0;32m    429\u001b[0m         \u001b[1;32mif\u001b[0m \u001b[0mresponse\u001b[0m\u001b[1;33m:\u001b[0m\u001b[1;33m\u001b[0m\u001b[1;33m\u001b[0m\u001b[0m\n\u001b[1;32m--> 430\u001b[1;33m             \u001b[0mself\u001b[0m\u001b[1;33m.\u001b[0m\u001b[0merror_handler\u001b[0m\u001b[1;33m.\u001b[0m\u001b[0mcheck_response\u001b[0m\u001b[1;33m(\u001b[0m\u001b[0mresponse\u001b[0m\u001b[1;33m)\u001b[0m\u001b[1;33m\u001b[0m\u001b[1;33m\u001b[0m\u001b[0m\n\u001b[0m\u001b[0;32m    431\u001b[0m             response['value'] = self._unwrap_value(\n\u001b[0;32m    432\u001b[0m                 response.get('value', None))\n",
      "\u001b[1;32mD:\\Anaconda\\lib\\site-packages\\selenium\\webdriver\\remote\\errorhandler.py\u001b[0m in \u001b[0;36mcheck_response\u001b[1;34m(self, response)\u001b[0m\n\u001b[0;32m    245\u001b[0m                 \u001b[0malert_text\u001b[0m \u001b[1;33m=\u001b[0m \u001b[0mvalue\u001b[0m\u001b[1;33m[\u001b[0m\u001b[1;34m'alert'\u001b[0m\u001b[1;33m]\u001b[0m\u001b[1;33m.\u001b[0m\u001b[0mget\u001b[0m\u001b[1;33m(\u001b[0m\u001b[1;34m'text'\u001b[0m\u001b[1;33m)\u001b[0m\u001b[1;33m\u001b[0m\u001b[1;33m\u001b[0m\u001b[0m\n\u001b[0;32m    246\u001b[0m             \u001b[1;32mraise\u001b[0m \u001b[0mexception_class\u001b[0m\u001b[1;33m(\u001b[0m\u001b[0mmessage\u001b[0m\u001b[1;33m,\u001b[0m \u001b[0mscreen\u001b[0m\u001b[1;33m,\u001b[0m \u001b[0mstacktrace\u001b[0m\u001b[1;33m,\u001b[0m \u001b[0malert_text\u001b[0m\u001b[1;33m)\u001b[0m  \u001b[1;31m# type: ignore[call-arg]  # mypy is not smart enough here\u001b[0m\u001b[1;33m\u001b[0m\u001b[1;33m\u001b[0m\u001b[0m\n\u001b[1;32m--> 247\u001b[1;33m         \u001b[1;32mraise\u001b[0m \u001b[0mexception_class\u001b[0m\u001b[1;33m(\u001b[0m\u001b[0mmessage\u001b[0m\u001b[1;33m,\u001b[0m \u001b[0mscreen\u001b[0m\u001b[1;33m,\u001b[0m \u001b[0mstacktrace\u001b[0m\u001b[1;33m)\u001b[0m\u001b[1;33m\u001b[0m\u001b[1;33m\u001b[0m\u001b[0m\n\u001b[0m\u001b[0;32m    248\u001b[0m \u001b[1;33m\u001b[0m\u001b[0m\n\u001b[0;32m    249\u001b[0m     \u001b[1;32mdef\u001b[0m \u001b[0m_value_or_default\u001b[0m\u001b[1;33m(\u001b[0m\u001b[0mself\u001b[0m\u001b[1;33m,\u001b[0m \u001b[0mobj\u001b[0m\u001b[1;33m:\u001b[0m \u001b[0mMapping\u001b[0m\u001b[1;33m[\u001b[0m\u001b[0m_KT\u001b[0m\u001b[1;33m,\u001b[0m \u001b[0m_VT\u001b[0m\u001b[1;33m]\u001b[0m\u001b[1;33m,\u001b[0m \u001b[0mkey\u001b[0m\u001b[1;33m:\u001b[0m \u001b[0m_KT\u001b[0m\u001b[1;33m,\u001b[0m \u001b[0mdefault\u001b[0m\u001b[1;33m:\u001b[0m \u001b[0m_VT\u001b[0m\u001b[1;33m)\u001b[0m \u001b[1;33m->\u001b[0m \u001b[0m_VT\u001b[0m\u001b[1;33m:\u001b[0m\u001b[1;33m\u001b[0m\u001b[1;33m\u001b[0m\u001b[0m\n",
      "\u001b[1;31mNoSuchWindowException\u001b[0m: Message: no such window: target window already closed\nfrom unknown error: web view not found\n  (Session info: chrome=108.0.5359.99)\nStacktrace:\nBacktrace:\n\t(No symbol) [0x00C4F243]\n\t(No symbol) [0x00BD7FD1]\n\t(No symbol) [0x00ACD04D]\n\t(No symbol) [0x00AB2D7A]\n\t(No symbol) [0x00B1BE7B]\n\t(No symbol) [0x00B2C196]\n\t(No symbol) [0x00B18386]\n\t(No symbol) [0x00AF163C]\n\t(No symbol) [0x00AF269D]\n\tGetHandleVerifier [0x00EE9A22+2655074]\n\tGetHandleVerifier [0x00EDCA24+2601828]\n\tGetHandleVerifier [0x00CF8C0A+619850]\n\tGetHandleVerifier [0x00CF7830+614768]\n\t(No symbol) [0x00BE05FC]\n\t(No symbol) [0x00BE5968]\n\t(No symbol) [0x00BE5A55]\n\t(No symbol) [0x00BF051B]\n\tBaseThreadInitThunk [0x76706939+25]\n\tRtlGetFullPathName_UEx [0x771C8FD2+1218]\n\tRtlGetFullPathName_UEx [0x771C8F9D+1165]\n"
     ]
    }
   ],
   "source": [
    "# here we scrap the data after clicking on next button also.\n",
    "start=0\n",
    "end=1\n",
    "for page in range(start,end):\n",
    "    brand=driver.find_elements(By.XPATH,'//div[@class=\"_2WkVRV\"]')\n",
    "    for i in brand[0:100]:\n",
    "        brand=(i.text)\n",
    "        Brand.append(brand)\n",
    "    Next_button=driver.find_element(By.XPATH,'/html/body/div[1]/div/div[3]/div[1]/div[2]/div[12]/div/div/nav/a[11]')\n",
    "    Next_button.click()\n",
    "    time.sleep(2)\n",
    "Brand"
   ]
  },
  {
   "cell_type": "code",
   "execution_count": 622,
   "id": "c4fe913c-1375-4cb4-b3f9-d1a3e20fb1b4",
   "metadata": {},
   "outputs": [
    {
     "name": "stdout",
     "output_type": "stream",
     "text": [
      "160\n"
     ]
    }
   ],
   "source": [
    "print(len(Brand))"
   ]
  },
  {
   "cell_type": "code",
   "execution_count": null,
   "id": "58764c3b-a799-408c-819a-039b732b3449",
   "metadata": {},
   "outputs": [],
   "source": []
  },
  {
   "cell_type": "code",
   "execution_count": null,
   "id": "aa86a8c5-079e-437c-a54a-c96875ca3443",
   "metadata": {},
   "outputs": [],
   "source": []
  },
  {
   "cell_type": "code",
   "execution_count": null,
   "id": "f714d826-f852-49fb-9b79-1746b0d0f719",
   "metadata": {},
   "outputs": [],
   "source": [
    "driver=webdriver.Chrome(r\"D:\\OneDrive\\Documents\\Downloads\\chromedriver_win32\\chromedriver.exe\")"
   ]
  },
  {
   "cell_type": "code",
   "execution_count": null,
   "id": "7f0c4aa9-8a35-4624-a806-c74b36dcd861",
   "metadata": {},
   "outputs": [],
   "source": [
    "driver.get(\"https://www.flipkart.com/apple-iphone-11-black-64-gb/product-reviews/itm4e5041ba101fd?pid=MOBFWQ6BXGJCEYNY&lid=LSTMOBFWQ6BXGJCEYNYZXSHRJ&market\")"
   ]
  },
  {
   "cell_type": "code",
   "execution_count": null,
   "id": "8d6ef7f5-4c37-4ddb-985a-e97452abffb5",
   "metadata": {},
   "outputs": [],
   "source": [
    "Rating=[]\n",
    "Review=[]\n",
    "Full_review=[]"
   ]
  },
  {
   "cell_type": "code",
   "execution_count": null,
   "id": "a98a58ee-2eae-444d-8097-3357d880a1dc",
   "metadata": {},
   "outputs": [],
   "source": [
    "raiting=driver.find_elements(By.XPATH,'/html/body/div/div/div[3]/div/div[1]/div[1]/div[1]/div/div/div[2]/span[1]/div')\n",
    "for i in raiting:\n",
    "    raiting=i.text\n",
    "    Rating.append(raiting)\n",
    "Rating"
   ]
  },
  {
   "cell_type": "code",
   "execution_count": null,
   "id": "bf0fab77-c8f2-4993-9440-704d914e04e3",
   "metadata": {},
   "outputs": [],
   "source": [
    "review=driver.find_elements(By.XPATH,'/html/body/div/div/div[3]/div/div[1]/div[2]/div[3]/div/div/div/div[1]/p')\n",
    "for i in review:\n",
    "    review=i.text\n",
    "    Review.append(review)\n",
    "Review\n",
    "    "
   ]
  },
  {
   "cell_type": "code",
   "execution_count": null,
   "id": "88f71005-ac5a-4567-8f4f-ccdb87c6fa48",
   "metadata": {},
   "outputs": [],
   "source": [
    "Full=driver.find_elements(By.XPATH,'//div[@class=\"t-ZTKy\"]')\n",
    "for i in Full:\n",
    "    Full=i.text\n",
    "    Full_review.append(Full)\n",
    "Full_review"
   ]
  },
  {
   "cell_type": "code",
   "execution_count": null,
   "id": "3e6705fb-9664-44f7-8bd6-2973f291accc",
   "metadata": {},
   "outputs": [],
   "source": [
    "driver=webdriver.Chrome(r\"D:\\OneDrive\\Documents\\Downloads\\chromedriver_win32\\chromedriver.exe\")"
   ]
  },
  {
   "cell_type": "code",
   "execution_count": null,
   "id": "b1b1dcf4-1980-448e-9c1e-0c6acc74878e",
   "metadata": {},
   "outputs": [],
   "source": [
    "driver.get(\"https://www.flipkart.com/\")"
   ]
  },
  {
   "cell_type": "code",
   "execution_count": null,
   "id": "02cbe845-56d9-46c2-b1a1-1823c1f4a323",
   "metadata": {},
   "outputs": [],
   "source": [
    "sneaker=driver.find_element(By.XPATH,'/html/body/div[1]/div/div[1]/div[1]/div[2]/div[2]/form/div/div/input')\n",
    "sneaker.send_keys(\"sneakers\")\n"
   ]
  },
  {
   "cell_type": "code",
   "execution_count": null,
   "id": "2ec934e5-a5ce-4958-beee-4efe7e9515a8",
   "metadata": {},
   "outputs": [],
   "source": [
    "\n",
    "sneaker=driver.find_element(By.XPATH,'/html/body/div/div/div[1]/div[1]/div[2]/div[2]/form/div/button')\n",
    "sneaker.click()\n"
   ]
  },
  {
   "cell_type": "code",
   "execution_count": null,
   "id": "2273aade-fa32-4fc8-a3fb-6f3bdca5f047",
   "metadata": {},
   "outputs": [],
   "source": [
    "Brand=[]\n",
    "Price=[]\n",
    "Pro_des=[]"
   ]
  },
  {
   "cell_type": "code",
   "execution_count": null,
   "id": "ab452c4d-c633-47e3-88f5-b699d18b4e5d",
   "metadata": {},
   "outputs": [],
   "source": [
    "name=driver.find_elements(By.XPATH,'//div[@class=\"_2WkVRV\"]')\n",
    "for i in name[0:100]:\n",
    "    name=(i.text)\n",
    "    Brand.append(name)"
   ]
  },
  {
   "cell_type": "code",
   "execution_count": null,
   "id": "c0015857-29bd-4d1a-8cb0-22075068b908",
   "metadata": {},
   "outputs": [],
   "source": [
    "price=driver.find_elements(By.XPATH,'//div[@class=\"_25b18c\"]')\n",
    "for i in price[0:100]:\n",
    "    price=i.text\n",
    "    Price.append(price)\n",
    "Price"
   ]
  },
  {
   "cell_type": "code",
   "execution_count": null,
   "id": "dd803dcc-afa8-4b2b-ac9f-4da9b7f384e5",
   "metadata": {},
   "outputs": [],
   "source": [
    "Pro=driver.find_elements(By.XPATH,'//div[@class=\"_3LWZlK _1BLPMq _3B8WaH\"]')\n",
    "for i in Pro:\n",
    "    Pro=i.text\n",
    "    Pro_des.append(Pro)\n",
    "Pro_des"
   ]
  },
  {
   "cell_type": "code",
   "execution_count": 535,
   "id": "0bcc34c2-4e82-4896-89e7-7ab3f48ee012",
   "metadata": {},
   "outputs": [],
   "source": [
    "# QUIZ-7\n",
    "driver=webdriver.Chrome(r\"D:\\OneDrive\\Documents\\Downloads\\chromedriver_win32\\chromedriver.exe\")"
   ]
  },
  {
   "cell_type": "code",
   "execution_count": 539,
   "id": "a2b82529-5942-48b3-9c77-216d43235c9c",
   "metadata": {},
   "outputs": [],
   "source": [
    "driver.get(\"https://www.amazon.com/\")"
   ]
  },
  {
   "cell_type": "code",
   "execution_count": 540,
   "id": "447ec782-3f89-4673-8847-79ed16925af8",
   "metadata": {},
   "outputs": [],
   "source": [
    "laptop=driver.find_element(By.XPATH,'/html/body/div[1]/header/div/div[1]/div[2]/div/form/div[2]/div[1]/input')\n",
    "laptop.send_keys(\"laptop\")\n"
   ]
  },
  {
   "cell_type": "code",
   "execution_count": 541,
   "id": "e19e723f-36ac-46b3-988a-727baa0a3f15",
   "metadata": {},
   "outputs": [],
   "source": [
    "click=driver.find_element(By.XPATH,'/html/body/div[1]/header/div/div[1]/div[2]/div/form/div[3]/div')\n",
    "click.click()\n"
   ]
  },
  {
   "cell_type": "code",
   "execution_count": 542,
   "id": "a34d478c-6b1d-4d62-b1b4-c54b4dfd5418",
   "metadata": {},
   "outputs": [],
   "source": [
    "Next=driver.find_element(By.XPATH,'/html/body/div[1]/div[2]/div[1]/div[2]/div/div[3]/span/div/div/div/div[6]/ul[7]/li[6]/span/div/a/span')\n",
    "Next.click()"
   ]
  },
  {
   "cell_type": "code",
   "execution_count": 543,
   "id": "06d65624-2701-4a14-bbf7-c85c1ba53306",
   "metadata": {},
   "outputs": [],
   "source": [
    "I7=driver.find_element(By.XPATH,'/html/body/div[1]/div[2]/div[1]/div[2]/div/div[3]/span/div[1]/div/div/div[6]/ul[7]/li[6]/span/div/div/ul/li[4]/span/a/div')\n",
    "I7.click()"
   ]
  },
  {
   "cell_type": "code",
   "execution_count": 550,
   "id": "86491d6e-d548-44c3-a014-ee022e376cf1",
   "metadata": {},
   "outputs": [],
   "source": [
    "Title=[]\n",
    "Rating=[]\n",
    "Price=[]"
   ]
  },
  {
   "cell_type": "code",
   "execution_count": 551,
   "id": "c0a8155e-d8a5-4fc3-8ca7-11e6035d337d",
   "metadata": {},
   "outputs": [
    {
     "data": {
      "text/plain": [
       "['Lenovo ThinkPad E15 Business Laptop, 15.6\" FHD IPS Anti-Glare Display, AMD Ryzen 7 5700U(Beat i7-1260U), HDMI, Webcam, WiFi 6, Fingerprint Reader, Windows 11 Pro (24GB RAM | 1TB PCIe SSD)',\n",
       " 'HP EliteBook 845 G8 Business Laptop, 14\" FHD IPS Display, AMD Ryzen 7 Pro 5850U, 16GB DDR4 RAM, 1TB SSD, Webcam, FP Reader, Backlit KB, HDMI, Wi-Fi 6, Windows 11 Pro, 3 Year Warranty, Silver',\n",
       " 'HP Victus 15.6\" Gaming Laptop PC, NVIDIA GeForce RTX 3050 Ti, AMD Ryzen 7 5800H, Refined 1080p IPS Display, Compact Design, All-in-One Keyboard with Enlarged Touchpad, HD Webcam (15-fb0028nr, 2022)',\n",
       " 'HP ENVY x360 Convertible 15-inch Laptop, AMD Ryzen 7 5825U processor, AMD Radeon Graphics, 8 GB RAM, 512 GB SSD, Windows 11 Home (15-eu1026nr, Nightfall black aluminum)',\n",
       " 'Acer Aspire 5 A515-46-R3CZ Slim Laptop | 15.6\" Full HD IPS | AMD Ryzen 7 3700U Quad-Core Mobile Processor | 8GB DDR4 | 256GB NVMe SSD | WiFi 6 | Backlit KB | Fingerprint Reader | Windows 11 Home',\n",
       " 'Acer Swift X SFX14-41G-R1S6 Creator Laptop | 14\" Full HD 100% sRGB | AMD Ryzen 7 5800U | NVIDIA RTX 3050Ti Laptop GPU | 16GB LPDDR4X | 512GB SSD | Wi-Fi 6 | Backlit KB | Amazon Alexa | Windows 10 Home',\n",
       " 'HP 15.6-inch Laptop, AMD Ryzen 7 5700U, 8 GB RAM, 256 GB SSD, HD Micro-Edge Display, Windows 11 Home, Thin & Portable, Long-Lasting Battery, Full-Size Keyboard, Wi-Fi 6 & Bluetooth (15-ef2025nr, 2022)',\n",
       " 'Lenovo - Legion 5 - Gaming Laptop - AMD Ryzen 7 5800H - 16GB RAM - 512GB Storage - NVIDIA GeForce RTX 3050Ti - 15.6\" FHD Display - Windows 11 Home - Phantom Blue',\n",
       " 'LG UltraPC 16U70Q Thin and Lightweight Laptop, 16” (1920 x 1200) Anti-Glare IPS Display, Ryzen 7 Processor, 16GB Memory – 512GB Solid State Drive, WiFi 6, Windows 11, Gray',\n",
       " 'HP 2022 Newest 15.6 HD Micro-Edge Laptop，8-Cores AMD Ryzen 7 5700U(up to 4.3GHz), 16GB DDR4 RAM, 1TB PCIe SSD, Full-Size KB, WiFi 6, Bluetooth 5.2, HDMI, Windows 11, Silver, w/ 3in1 Accessories']"
      ]
     },
     "execution_count": 551,
     "metadata": {},
     "output_type": "execute_result"
    }
   ],
   "source": [
    "title=driver.find_elements(By.XPATH,'//span[@class=\"a-size-medium a-color-base a-text-normal\"]')\n",
    "for i in title[0:10]:\n",
    "    title=i.text\n",
    "    Title.append(title)\n",
    "Title"
   ]
  },
  {
   "cell_type": "code",
   "execution_count": 553,
   "id": "c0a285cb-5a3a-4470-b6d2-bc2df315841c",
   "metadata": {},
   "outputs": [
    {
     "data": {
      "text/plain": [
       "['5.0', '5.0', '4.6', '4.4', '4.5', '4.4', '4.4', '4.6', '3.6', '4.6']"
      ]
     },
     "execution_count": 553,
     "metadata": {},
     "output_type": "execute_result"
    }
   ],
   "source": [
    "rating=driver.find_elements(By.XPATH,'//span[@class=\"a-size-base\"]')\n",
    "for i in rating[0:10]:\n",
    "    rating=i.text\n",
    "    Rating.append(rating)\n",
    "Rating"
   ]
  },
  {
   "cell_type": "code",
   "execution_count": 554,
   "id": "2a08558e-ecf8-4879-8983-8e26ad65b028",
   "metadata": {},
   "outputs": [
    {
     "data": {
      "text/plain": [
       "['899', '1,309', '769', '768', '492', '775', '528', '899', '699', '669']"
      ]
     },
     "execution_count": 554,
     "metadata": {},
     "output_type": "execute_result"
    }
   ],
   "source": [
    "price=driver.find_elements(By.XPATH,'//span[@class=\"a-price-whole\"]')\n",
    "for i in price[0:10]:\n",
    "    price=i.text\n",
    "    Price.append(price)\n",
    "Price"
   ]
  },
  {
   "cell_type": "code",
   "execution_count": 555,
   "id": "52890d68-e18b-4575-9e9d-c7ad1369ffd8",
   "metadata": {},
   "outputs": [
    {
     "name": "stdout",
     "output_type": "stream",
     "text": [
      "10 10 10\n"
     ]
    }
   ],
   "source": [
    "print(len(Title),len(Rating),len(Price))"
   ]
  },
  {
   "cell_type": "code",
   "execution_count": 557,
   "id": "6dd14a5c-5267-4a2d-a50f-3ff1e45d8829",
   "metadata": {},
   "outputs": [
    {
     "data": {
      "text/html": [
       "<div>\n",
       "<style scoped>\n",
       "    .dataframe tbody tr th:only-of-type {\n",
       "        vertical-align: middle;\n",
       "    }\n",
       "\n",
       "    .dataframe tbody tr th {\n",
       "        vertical-align: top;\n",
       "    }\n",
       "\n",
       "    .dataframe thead th {\n",
       "        text-align: right;\n",
       "    }\n",
       "</style>\n",
       "<table border=\"1\" class=\"dataframe\">\n",
       "  <thead>\n",
       "    <tr style=\"text-align: right;\">\n",
       "      <th></th>\n",
       "      <th>Title</th>\n",
       "      <th>Rating</th>\n",
       "      <th>Price</th>\n",
       "    </tr>\n",
       "  </thead>\n",
       "  <tbody>\n",
       "    <tr>\n",
       "      <th>0</th>\n",
       "      <td>Lenovo ThinkPad E15 Business Laptop, 15.6\" FHD...</td>\n",
       "      <td>5.0</td>\n",
       "      <td>899</td>\n",
       "    </tr>\n",
       "    <tr>\n",
       "      <th>1</th>\n",
       "      <td>HP EliteBook 845 G8 Business Laptop, 14\" FHD I...</td>\n",
       "      <td>5.0</td>\n",
       "      <td>1,309</td>\n",
       "    </tr>\n",
       "    <tr>\n",
       "      <th>2</th>\n",
       "      <td>HP Victus 15.6\" Gaming Laptop PC, NVIDIA GeFor...</td>\n",
       "      <td>4.6</td>\n",
       "      <td>769</td>\n",
       "    </tr>\n",
       "    <tr>\n",
       "      <th>3</th>\n",
       "      <td>HP ENVY x360 Convertible 15-inch Laptop, AMD R...</td>\n",
       "      <td>4.4</td>\n",
       "      <td>768</td>\n",
       "    </tr>\n",
       "    <tr>\n",
       "      <th>4</th>\n",
       "      <td>Acer Aspire 5 A515-46-R3CZ Slim Laptop | 15.6\"...</td>\n",
       "      <td>4.5</td>\n",
       "      <td>492</td>\n",
       "    </tr>\n",
       "    <tr>\n",
       "      <th>5</th>\n",
       "      <td>Acer Swift X SFX14-41G-R1S6 Creator Laptop | 1...</td>\n",
       "      <td>4.4</td>\n",
       "      <td>775</td>\n",
       "    </tr>\n",
       "    <tr>\n",
       "      <th>6</th>\n",
       "      <td>HP 15.6-inch Laptop, AMD Ryzen 7 5700U, 8 GB R...</td>\n",
       "      <td>4.4</td>\n",
       "      <td>528</td>\n",
       "    </tr>\n",
       "    <tr>\n",
       "      <th>7</th>\n",
       "      <td>Lenovo - Legion 5 - Gaming Laptop - AMD Ryzen ...</td>\n",
       "      <td>4.6</td>\n",
       "      <td>899</td>\n",
       "    </tr>\n",
       "    <tr>\n",
       "      <th>8</th>\n",
       "      <td>LG UltraPC 16U70Q Thin and Lightweight Laptop,...</td>\n",
       "      <td>3.6</td>\n",
       "      <td>699</td>\n",
       "    </tr>\n",
       "    <tr>\n",
       "      <th>9</th>\n",
       "      <td>HP 2022 Newest 15.6 HD Micro-Edge Laptop，8-Cor...</td>\n",
       "      <td>4.6</td>\n",
       "      <td>669</td>\n",
       "    </tr>\n",
       "  </tbody>\n",
       "</table>\n",
       "</div>"
      ],
      "text/plain": [
       "                                               Title Rating  Price\n",
       "0  Lenovo ThinkPad E15 Business Laptop, 15.6\" FHD...    5.0    899\n",
       "1  HP EliteBook 845 G8 Business Laptop, 14\" FHD I...    5.0  1,309\n",
       "2  HP Victus 15.6\" Gaming Laptop PC, NVIDIA GeFor...    4.6    769\n",
       "3  HP ENVY x360 Convertible 15-inch Laptop, AMD R...    4.4    768\n",
       "4  Acer Aspire 5 A515-46-R3CZ Slim Laptop | 15.6\"...    4.5    492\n",
       "5  Acer Swift X SFX14-41G-R1S6 Creator Laptop | 1...    4.4    775\n",
       "6  HP 15.6-inch Laptop, AMD Ryzen 7 5700U, 8 GB R...    4.4    528\n",
       "7  Lenovo - Legion 5 - Gaming Laptop - AMD Ryzen ...    4.6    899\n",
       "8  LG UltraPC 16U70Q Thin and Lightweight Laptop,...    3.6    699\n",
       "9  HP 2022 Newest 15.6 HD Micro-Edge Laptop，8-Cor...    4.6    669"
      ]
     },
     "execution_count": 557,
     "metadata": {},
     "output_type": "execute_result"
    }
   ],
   "source": [
    "Df=pd.DataFrame({\"Title\":Title,\"Rating\":Rating,\"Price\":Price})\n",
    "Df"
   ]
  },
  {
   "cell_type": "code",
   "execution_count": 589,
   "id": "1182d75c-c615-4905-9951-d6bce981408a",
   "metadata": {},
   "outputs": [],
   "source": [
    "# QUIZ-8\n",
    "driver=webdriver.Chrome(r\"D:\\OneDrive\\Documents\\Downloads\\chromedriver_win32\\chromedriver.exe\")\n",
    "driver.get(\"https://www.azquotes.com\")"
   ]
  },
  {
   "cell_type": "code",
   "execution_count": 593,
   "id": "c146eb92-e4af-45fe-863a-b09e70d49a4f",
   "metadata": {},
   "outputs": [],
   "source": [
    "top=driver.find_element(By.XPATH,'//a[@href=\"/top_quotes.html\"]')\n",
    "top.click()"
   ]
  },
  {
   "cell_type": "code",
   "execution_count": 598,
   "id": "d0c35856-d701-47bd-a14c-ed57351a53b4",
   "metadata": {},
   "outputs": [
    {
     "data": {
      "text/plain": [
       "['The essence of strategy is choosing what not to do.',\n",
       " 'One cannot and must not try to erase the past merely because it does not fit the present.',\n",
       " 'Patriotism means to stand by the country. It does not mean to stand by the president.',\n",
       " 'Death is something inevitable. When a man has done what he considers to be his duty to his people and his country, he can rest in peace. I believe I have made that effort and that is, therefore, why I will sleep for the eternity.',\n",
       " 'You have to love a nation that celebrates its independence every July 4, not with a parade of guns, tanks, and soldiers who file by the White House in a show of strength and muscle, but with family picnics where kids throw Frisbees, the potato salad gets iffy, and the flies die from happiness. You may think you have overeaten, but it is patriotism.',\n",
       " 'Be more concerned with your character than your reputation, because your character is what you really are, while your reputation is merely what others think you are.',\n",
       " 'Weak people revenge. Strong people forgive. Intelligent People Ignore.',\n",
       " \"A mind is like a parachute. It doesn't work if it is not open.\",\n",
       " 'Never be afraid to raise your voice for honesty and truth and compassion against injustice and lying and greed. If people all over the world...would do this, it would change the earth.',\n",
       " 'There are three kinds of men. The one that learns by reading. The few who learn by observation. The rest of them have to pee on the electric fence for themselves.']"
      ]
     },
     "execution_count": 598,
     "metadata": {},
     "output_type": "execute_result"
    }
   ],
   "source": [
    "Quo=[]\n",
    "Quotes=driver.find_elements(By.XPATH,'//a[@class=\"title\"]')\n",
    "for i in Quotes[0:10]:\n",
    "    Quotes=i.text\n",
    "    Quo.append(Quotes)\n",
    "Quo"
   ]
  },
  {
   "cell_type": "code",
   "execution_count": 599,
   "id": "282b590e-e8e6-4610-8f03-18c91d8f1751",
   "metadata": {},
   "outputs": [],
   "source": [
    "scrap_a=driver.find_element(By.XPATH,'//a[@href=\"/quotes/authors/a/\"]')\n",
    "scrap_a.click()"
   ]
  },
  {
   "cell_type": "code",
   "execution_count": null,
   "id": "cbd5468b-5480-451c-b98e-718aee543e46",
   "metadata": {},
   "outputs": [],
   "source": []
  },
  {
   "cell_type": "code",
   "execution_count": 600,
   "id": "d36a2af0-71cf-402d-8cf2-256d160d7e6f",
   "metadata": {},
   "outputs": [
    {
     "data": {
      "text/plain": [
       "['Albert Einstein',\n",
       " 'Ayn Rand',\n",
       " 'Abraham Lincoln',\n",
       " 'Antonin Scalia',\n",
       " 'Aristotle',\n",
       " 'Albert Camus',\n",
       " 'Anne Frank',\n",
       " 'Al-Ghazali',\n",
       " 'Aldous Huxley',\n",
       " 'Adolf Hitler']"
      ]
     },
     "execution_count": 600,
     "metadata": {},
     "output_type": "execute_result"
    }
   ],
   "source": [
    "Authors=[]\n",
    "Authors_a=driver.find_elements(By.XPATH,'//a[@class=\"name\"]')\n",
    "for i in Authors_a[0:10]:\n",
    "    Authors_a=i.text\n",
    "    Authors.append(Authors_a)\n",
    "Authors\n"
   ]
  },
  {
   "cell_type": "code",
   "execution_count": 577,
   "id": "c0e1ba94-61df-4964-a3f7-4f1fbddb7bbb",
   "metadata": {},
   "outputs": [],
   "source": [
    "b=driver.find_element(By.XPATH,'//a[@href=\"/quotes/authors/b/\"]')\n",
    "b.click()\n",
    "\n",
    "# Quotes=[]\n",
    "# b=driver.find_elements(By.XPATH,)\n",
    "# for i in b[0:20]:\n",
    "#     b=i.text\n",
    "#     Quotes.append(b)\n",
    "# Authors\n"
   ]
  },
  {
   "cell_type": "code",
   "execution_count": 608,
   "id": "cc6ef304-52c2-4ab5-921d-566cde13ccdf",
   "metadata": {},
   "outputs": [],
   "source": [
    "# QUIZ-9\n",
    "driver=webdriver.Chrome(r\"D:\\OneDrive\\Documents\\Downloads\\chromedriver_win32\\chromedriver.exe\")\n",
    "driver.get(\"https://www.jagranjosh.com\")"
   ]
  },
  {
   "cell_type": "code",
   "execution_count": 609,
   "id": "bd5e47b6-d2df-4b0c-b2de-a4540b9b99c4",
   "metadata": {},
   "outputs": [],
   "source": [
    "gk=driver.find_element(By.XPATH,'/html/body/div/div[1]/div/div[1]/div/div[6]/div/div[1]/header/div[3]/ul/li[9]/a')\n",
    "gk.click()"
   ]
  },
  {
   "cell_type": "code",
   "execution_count": 610,
   "id": "10eae5d0-f921-41ab-80cb-b681d30275ae",
   "metadata": {},
   "outputs": [],
   "source": [
    "\n",
    "pm_list=driver.find_element(By.XPATH,'/html/body/div[1]/div/div/div[2]/div/div[10]/div/div/ul/li[2]/a')\n",
    "pm_list.click()"
   ]
  },
  {
   "cell_type": "code",
   "execution_count": 616,
   "id": "0ee9afcc-bc30-4148-ac09-d2e3383e3d35",
   "metadata": {},
   "outputs": [
    {
     "data": {
      "text/plain": [
       "['Jawahar Lal Nehru']"
      ]
     },
     "execution_count": 616,
     "metadata": {},
     "output_type": "execute_result"
    }
   ],
   "source": [
    "Name=[]\n",
    "table=driver.find_elements(By.XPATH,'/html/body/div[1]/div[2]/div/div[2]/div/div[1]/div/div/div/div[4]/span/div[2]/table/tbody/tr[2]/td[2]/p/strong/a')\n",
    "for i in table[0:]:\n",
    "    table=i.text\n",
    "    Name.append(table)\n",
    "Name"
   ]
  },
  {
   "cell_type": "code",
   "execution_count": null,
   "id": "edde395a-c377-460a-ad84-93b8e6df6911",
   "metadata": {},
   "outputs": [],
   "source": []
  },
  {
   "cell_type": "code",
   "execution_count": null,
   "id": "db4ef981-c34f-49fb-b20b-53c915aa15b0",
   "metadata": {},
   "outputs": [],
   "source": []
  },
  {
   "cell_type": "code",
   "execution_count": 617,
   "id": "0634ba11-ef2f-4d9f-9f9b-fece639cb5f6",
   "metadata": {},
   "outputs": [],
   "source": [
    "# QUIZ-9\n",
    "driver=webdriver.Chrome(r\"D:\\OneDrive\\Documents\\Downloads\\chromedriver_win32\\chromedriver.exe\")\n",
    "driver.get(\"https://www.motor1.com/\")"
   ]
  },
  {
   "cell_type": "code",
   "execution_count": 620,
   "id": "74e3387a-87ec-4f6f-ab38-607e2f10900e",
   "metadata": {},
   "outputs": [],
   "source": [
    "list=driver.find_element(By.XPATH,'/html/body/div[3]/div[2]/div/div/div[1]')\n",
    "list.click()"
   ]
  },
  {
   "cell_type": "code",
   "execution_count": null,
   "id": "2c2a0907-7703-434d-9309-60e9ee4caeee",
   "metadata": {},
   "outputs": [],
   "source": []
  }
 ],
 "metadata": {
  "kernelspec": {
   "display_name": "Python 3 (ipykernel)",
   "language": "python",
   "name": "python3"
  },
  "language_info": {
   "codemirror_mode": {
    "name": "ipython",
    "version": 3
   },
   "file_extension": ".py",
   "mimetype": "text/x-python",
   "name": "python",
   "nbconvert_exporter": "python",
   "pygments_lexer": "ipython3",
   "version": "3.9.7"
  }
 },
 "nbformat": 4,
 "nbformat_minor": 5
}
