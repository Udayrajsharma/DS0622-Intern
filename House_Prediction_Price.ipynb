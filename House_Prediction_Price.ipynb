{
 "cells": [
  {
   "cell_type": "code",
   "execution_count": null,
   "id": "2af3917f",
   "metadata": {},
   "outputs": [],
   "source": [
    "import numpy as np\n",
    "import pandas as pd\n",
    "import matplotlib.pyplot as plt\n",
    "import seaborn as sns\n",
    "from sklearn.linear_model import LinearRegression\n",
    "from sklearn.naive_bayes import GaussianNB\n",
    "from sklearn.neighbors import KNeighborsRegressor\n",
    "from sklearn.tree import DecisionTreeRegressor\n",
    "from sklearn.preprocessing import StandardScaler, MinMaxScaler\n",
    "from sklearn.model_selection import train_test_split,GridSearchCV, cross_val_score \n",
    "from statsmodels.stats.outliers_influence import variance_inflation_factor\n",
    "from sklearn.linear_model import Ridge,Lasso\n",
    "from sklearn.metrics import classification_report,confusion_matrix,accuracy_score,roc_curve,roc_auc_score,accuracy_score,r2_score,mean_absolute_error,mean_squared_error\n",
    "import warnings\n",
    "warnings.filterwarnings('ignore')\n",
    "#for display all rows-columns\n",
    "#pd.set_option('display.max_rows',None)\n",
    "pd.pandas.set_option('display.max_columns',None)"
   ]
  },
  {
   "cell_type": "code",
   "execution_count": null,
   "id": "d163801d",
   "metadata": {},
   "outputs": [],
   "source": [
    "df=pd.read_csv(r\"D:\\OneDrive\\Documents\\Downloads\\Intern\\Project-Housing_splitted\\train.csv\")\n",
    "df"
   ]
  },
  {
   "cell_type": "code",
   "execution_count": null,
   "id": "f6ab0683",
   "metadata": {},
   "outputs": [],
   "source": [
    "pd.set_option('display.max_rows',None)"
   ]
  },
  {
   "cell_type": "code",
   "execution_count": null,
   "id": "cfd40e44",
   "metadata": {},
   "outputs": [],
   "source": [
    "df.head()"
   ]
  },
  {
   "cell_type": "code",
   "execution_count": null,
   "id": "3e1dcba2",
   "metadata": {},
   "outputs": [],
   "source": [
    "df.dtypes"
   ]
  },
  {
   "cell_type": "code",
   "execution_count": null,
   "id": "77fed04d",
   "metadata": {},
   "outputs": [],
   "source": [
    "df.info()"
   ]
  },
  {
   "cell_type": "code",
   "execution_count": null,
   "id": "da7bce9f",
   "metadata": {},
   "outputs": [],
   "source": [
    "df.isnull().sum()"
   ]
  },
  {
   "cell_type": "code",
   "execution_count": null,
   "id": "6f46c20a",
   "metadata": {},
   "outputs": [],
   "source": [
    "## here we find the percentage to nan value in each features\n",
    "# step 1- the features which has missing value\n",
    "# step 2- print the features name with the percentage\n",
    "features_with_na=[features for features in df.columns if df[features].isnull().sum()>1]  #  1 is for -- if atleast 1 na define.\n",
    "for feature in features_with_na:\n",
    "    print(feature,np.round(df[feature].isnull().mean(),2),\"Missing value\") # 2 HERE FOR DECIMAL VALUE"
   ]
  },
  {
   "cell_type": "markdown",
   "id": "ece6e397",
   "metadata": {},
   "source": [
    "# since it has missing values, we need to find relationship between  missing value and target (label)."
   ]
  },
  {
   "cell_type": "markdown",
   "id": "34647b62",
   "metadata": {},
   "source": [
    "## Let's plot the graph"
   ]
  },
  {
   "cell_type": "code",
   "execution_count": null,
   "id": "2e9180f7",
   "metadata": {},
   "outputs": [],
   "source": [
    "for feature in features_with_na:\n",
    "#let's make the variable that indicates 1 if the observation is missing\n",
    "    feature=np.where(df[feature].isnull(),1 , 0)\n",
    "#let's calculate the mean value of SalesPrice where the info is missing\n",
    "    df.groupby(feature)[\"SalePrice\"].median().plot.bar()\n",
    "    plt.title(feature)\n",
    "    plt.show()"
   ]
  },
  {
   "cell_type": "markdown",
   "id": "f98ef0b4",
   "metadata": {},
   "source": [
    "#### Here is clearly visible relationship of nan value with SalePrice(Depandent variable), so we need to replace these nan value with meaningfull meaning."
   ]
  },
  {
   "cell_type": "markdown",
   "id": "4a074b1e",
   "metadata": {},
   "source": [
    "# Numerical variable"
   ]
  },
  {
   "cell_type": "markdown",
   "id": "52950373",
   "metadata": {},
   "source": [
    " Here we seperated Numerical Features from whole dataset."
   ]
  },
  {
   "cell_type": "code",
   "execution_count": null,
   "id": "2367b201",
   "metadata": {},
   "outputs": [],
   "source": [
    "# list of numerical variable\n",
    "Numerical_feature=[feature for feature in df.columns if df[feature].dtypes!='O']  # o means object\n",
    "print('Numerical_features',len(Numerical_feature))\n",
    "df[Numerical_feature].head()"
   ]
  },
  {
   "cell_type": "markdown",
   "id": "f999c69e",
   "metadata": {},
   "source": [
    "'''After looking the dataset we found here some year data. we have exact info of data-time variable like no. of year, month of year like example when we sold the house and build the house.'''"
   ]
  },
  {
   "cell_type": "code",
   "execution_count": null,
   "id": "4cfe60ee",
   "metadata": {},
   "outputs": [],
   "source": [
    "df[Numerical_feature].isnull().sum()"
   ]
  },
  {
   "cell_type": "code",
   "execution_count": null,
   "id": "a6fddc1f",
   "metadata": {},
   "outputs": [],
   "source": [
    "year_feat=[feature for feature in Numerical_feature if 'Yr' in feature or 'Year' in feature]\n",
    "print(year_feat)"
   ]
  },
  {
   "cell_type": "code",
   "execution_count": null,
   "id": "69fb07e8",
   "metadata": {},
   "outputs": [],
   "source": [
    "## Temoral variable(date time variables)\n",
    "for feature in ['YearBuilt', 'YearRemodAdd', 'GarageYrBlt']:\n",
    "    df[feature]=df['YrSold']-df[feature]"
   ]
  },
  {
   "cell_type": "code",
   "execution_count": null,
   "id": "05f2446c",
   "metadata": {},
   "outputs": [],
   "source": [
    "df[['YearBuilt', 'YearRemodAdd', 'GarageYrBlt']].head()"
   ]
  },
  {
   "cell_type": "code",
   "execution_count": null,
   "id": "9470b5f5",
   "metadata": {},
   "outputs": [],
   "source": [
    "for feature in year_feat:\n",
    "    print(feature,df[feature].unique())"
   ]
  },
  {
   "cell_type": "markdown",
   "id": "01e90378",
   "metadata": {},
   "source": [
    "'''lets analyse the above year data'''"
   ]
  },
  {
   "cell_type": "code",
   "execution_count": null,
   "id": "d004866f",
   "metadata": {},
   "outputs": [],
   "source": [
    "df.groupby('YrSold')['SalePrice'].median().plot()\n",
    "plt.xlabel('yearsold')\n",
    "plt.ylabel(\"median house price\")\n",
    "plt.title(\"house price vs Year sold price\")"
   ]
  },
  {
   "cell_type": "markdown",
   "id": "a6e46dda",
   "metadata": {},
   "source": [
    "'''here as we see in above plot price is decresing way.'''"
   ]
  },
  {
   "cell_type": "code",
   "execution_count": null,
   "id": "273f8323",
   "metadata": {},
   "outputs": [],
   "source": [
    "df.groupby('YearBuilt')['SalePrice'].median().plot()\n",
    "plt.xlabel('YearBuilt')\n",
    "plt.ylabel(\"median house price\")\n",
    "plt.title(\"house price vs YearBuilt\")"
   ]
  },
  {
   "cell_type": "code",
   "execution_count": null,
   "id": "ea27756a",
   "metadata": {},
   "outputs": [],
   "source": [
    "# Here we will compare the difference between all years feature with SalePrice.\n",
    "for feature in year_feat:\n",
    "    if feature != 'YrSold':                                         # Repeat Again\n",
    "        df[feature]=df[\"YrSold\"]-df[feature]\n",
    "        plt.scatter(df[feature],df['SalePrice'])\n",
    "        plt.xlabel(feature)\n",
    "        plt.ylabel(\"SalePrice\")\n",
    "        plt.show()"
   ]
  },
  {
   "cell_type": "code",
   "execution_count": null,
   "id": "3ffab127",
   "metadata": {},
   "outputs": [],
   "source": [
    "# Here we checked the Relationship Year feature "
   ]
  },
  {
   "cell_type": "code",
   "execution_count": null,
   "id": "de17b15a",
   "metadata": {},
   "outputs": [],
   "source": [
    "for feature in year_feat:\n",
    "    if 0 in df[feature].unique():\n",
    "        pass\n",
    "    else:\n",
    "#         df[feature]=np.log(df[feature])\n",
    "        df.boxplot(column=feature)\n",
    "        plt.ylabel(feature)\n",
    "        plt.title(feature)\n",
    "        plt.show()"
   ]
  },
  {
   "cell_type": "markdown",
   "id": "9f4d7394",
   "metadata": {},
   "source": [
    "### Here we use box plot for checking the outliers in Year features"
   ]
  },
  {
   "cell_type": "code",
   "execution_count": null,
   "id": "6603dea0",
   "metadata": {},
   "outputs": [],
   "source": [
    "### Numerical variable are usually of 2 type\n",
    "# 1. Continous variable and Discreate variable\n",
    "Discreate_feat=[feature for feature in Numerical_feature if len(df[feature].unique())<25 and feature not in year_feat+[\"Id\"]]\n",
    "Discreate_feat"
   ]
  },
  {
   "cell_type": "code",
   "execution_count": null,
   "id": "cedb1074",
   "metadata": {},
   "outputs": [],
   "source": [
    "df[Discreate_feat]"
   ]
  },
  {
   "cell_type": "code",
   "execution_count": null,
   "id": "65302b31",
   "metadata": {},
   "outputs": [],
   "source": [
    "df[Discreate_feat].head()"
   ]
  },
  {
   "cell_type": "code",
   "execution_count": null,
   "id": "128272ad",
   "metadata": {},
   "outputs": [],
   "source": [
    "df[Discreate_feat].isnull().sum()"
   ]
  },
  {
   "cell_type": "code",
   "execution_count": null,
   "id": "d576e025",
   "metadata": {},
   "outputs": [],
   "source": [
    "for feature in Discreate_feat:\n",
    "    if 0 in df[feature].unique():\n",
    "        pass\n",
    "    else:\n",
    "#         df[feature]=np.log(df[feature])\n",
    "        df.boxplot(column=feature)\n",
    "        plt.ylabel(feature)\n",
    "        plt.title(feature)\n",
    "        plt.show()"
   ]
  },
  {
   "cell_type": "code",
   "execution_count": null,
   "id": "2b77ffeb",
   "metadata": {},
   "outputs": [],
   "source": [
    "df[Discreate_feat].head()"
   ]
  },
  {
   "cell_type": "code",
   "execution_count": null,
   "id": "4bff3ccb",
   "metadata": {},
   "outputs": [],
   "source": [
    "df[Discreate_feat].isnull().sum()"
   ]
  },
  {
   "cell_type": "code",
   "execution_count": null,
   "id": "3adac30c",
   "metadata": {},
   "outputs": [],
   "source": [
    "for feature in Discreate_feat:\n",
    "    df.groupby(feature)['SalePrice'].median().plot.bar()\n",
    "    plt.xlabel(feature)\n",
    "    plt.ylabel('SalePrice')\n",
    "    plt.title(feature)\n",
    "    plt.show()\n",
    "    "
   ]
  },
  {
   "cell_type": "markdown",
   "id": "7bdc15b7",
   "metadata": {},
   "source": [
    "## we checked with relationship with bar plot among discreate feature with target label"
   ]
  },
  {
   "cell_type": "markdown",
   "id": "4123b436",
   "metadata": {},
   "source": [
    "# Countinous Variable"
   ]
  },
  {
   "cell_type": "code",
   "execution_count": null,
   "id": "ca1c84f3",
   "metadata": {},
   "outputs": [],
   "source": [
    "conti_feat=[feature for feature in Numerical_feature if feature not in Discreate_feat+year_feat+[\"Id\"]]\n",
    "df[conti_feat]"
   ]
  },
  {
   "cell_type": "code",
   "execution_count": null,
   "id": "91b943f0",
   "metadata": {},
   "outputs": [],
   "source": [
    "len(conti_feat)"
   ]
  },
  {
   "cell_type": "code",
   "execution_count": null,
   "id": "c29066c9",
   "metadata": {},
   "outputs": [],
   "source": [
    "df[conti_feat].isnull().sum()"
   ]
  },
  {
   "cell_type": "code",
   "execution_count": null,
   "id": "b0119c6b",
   "metadata": {},
   "outputs": [],
   "source": [
    "for feature in conti_feat:\n",
    "    df[feature].hist(bins=15)\n",
    "    plt.xlabel(feature)\n",
    "    plt.ylabel('count')\n",
    "    plt.title(feature)\n",
    "    plt.show()"
   ]
  },
  {
   "cell_type": "markdown",
   "id": "a39bc90e",
   "metadata": {},
   "source": [
    "# Exploratory data analysis`"
   ]
  },
  {
   "cell_type": "code",
   "execution_count": null,
   "id": "48eb6cda",
   "metadata": {},
   "outputs": [],
   "source": [
    "# here we are using logarithmic transform\n",
    "\n",
    "for feature in conti_feat:\n",
    "    if 0 in df[feature].unique():\n",
    "        pass\n",
    "    else:\n",
    "#         df[feature]=np.log(df[feature])\n",
    "#         df['SalePrice']=np.log(df['SalePrice'])            #check this line \n",
    "        plt.scatter(df[feature],df[\"SalePrice\"])\n",
    "        plt.xlabel(feature)\n",
    "        plt.ylabel(\"SalePrice\")\n",
    "        plt.title(feature)\n",
    "        plt.show()"
   ]
  },
  {
   "cell_type": "markdown",
   "id": "ff57283c",
   "metadata": {},
   "source": [
    "## Same as above plot  correlation with scatter plot in continous data."
   ]
  },
  {
   "cell_type": "code",
   "execution_count": null,
   "id": "87a302d6",
   "metadata": {},
   "outputs": [],
   "source": [
    "df[conti_feat]"
   ]
  },
  {
   "cell_type": "code",
   "execution_count": null,
   "id": "0d386697",
   "metadata": {},
   "outputs": [],
   "source": [
    "for feature in conti_feat:\n",
    "    if 0 in df[feature].unique():\n",
    "        pass\n",
    "    else:\n",
    "#         df[feature]=np.log(df[feature])\n",
    "        df.boxplot(column=feature)\n",
    "        plt.ylabel(feature)\n",
    "        plt.title(feature)\n",
    "        plt.show()"
   ]
  },
  {
   "cell_type": "markdown",
   "id": "0244d11e",
   "metadata": {},
   "source": [
    "# Categorical Features"
   ]
  },
  {
   "cell_type": "code",
   "execution_count": null,
   "id": "fd36e60a",
   "metadata": {},
   "outputs": [],
   "source": [
    "cat_feat=[feature for feature in df.columns if df[feature].dtypes==\"O\"]\n",
    "df[cat_feat]"
   ]
  },
  {
   "cell_type": "code",
   "execution_count": null,
   "id": "711e9519",
   "metadata": {},
   "outputs": [],
   "source": [
    "for feature in cat_feat:\n",
    "    print('The feature is {} and no. of categories are {}'.format(feature,len(df[feature].unique())))\n"
   ]
  },
  {
   "cell_type": "code",
   "execution_count": null,
   "id": "c0fa5436",
   "metadata": {},
   "outputs": [],
   "source": [
    "for feature in cat_feat:\n",
    "    print('The feature is {} and no. of categories are {}'.format(feature,df[feature].unique()))"
   ]
  },
  {
   "cell_type": "code",
   "execution_count": null,
   "id": "799dfd83",
   "metadata": {},
   "outputs": [],
   "source": []
  },
  {
   "cell_type": "code",
   "execution_count": null,
   "id": "904c9fb9",
   "metadata": {},
   "outputs": [],
   "source": [
    "# for find out the relationship between categorical and target\n",
    "\n",
    "for feature in cat_feat:\n",
    "    df.groupby(feature)['SalePrice'].median().plot.bar()\n",
    "    plt.xlabel(feature)\n",
    "    plt.ylabel('SalePrice')\n",
    "    plt.title(feature)\n",
    "    plt.show()"
   ]
  },
  {
   "cell_type": "code",
   "execution_count": null,
   "id": "274163aa",
   "metadata": {},
   "outputs": [],
   "source": [
    "cat_with_na=[feature for feature in df.columns if df[feature].isnull().sum()>1 and df[feature].dtypes=='O']\n",
    "for feature in cat_with_na:\n",
    "    print('{}:{}%missing values'.format(feature,np.round(df[feature].isnull().mean(),2)))"
   ]
  },
  {
   "cell_type": "markdown",
   "id": "0e067085",
   "metadata": {},
   "source": [
    "### as above we found missing value in categorical data in percentage and below we replaced nan value with \"missing\" value/."
   ]
  },
  {
   "cell_type": "code",
   "execution_count": null,
   "id": "fa0593e6",
   "metadata": {},
   "outputs": [],
   "source": [
    "def replace_cat_nan(df,cat_with_na):\n",
    "    df[cat_with_na]=df[cat_with_na].fillna(\"Missing\")\n",
    "    return df\n",
    "df=replace_cat_nan(df,cat_with_na)\n",
    "df[cat_with_na].isnull().sum() "
   ]
  },
  {
   "cell_type": "code",
   "execution_count": null,
   "id": "95a1451c",
   "metadata": {},
   "outputs": [],
   "source": [
    "df[cat_with_na]"
   ]
  },
  {
   "cell_type": "code",
   "execution_count": null,
   "id": "a0ee07f5",
   "metadata": {},
   "outputs": [],
   "source": [
    "conti_with_nan=[features for features in df.columns if df[features].dtypes!=\"O\"]  #  1 is for -- if atleast 1 na define.\n",
    "for feature in conti_with_nan:\n",
    "    print(feature,np.round(df[feature].isnull().mean(),2),\"Missing value\") # 2 HERE FOR DECIMAL VALUE"
   ]
  },
  {
   "cell_type": "code",
   "execution_count": null,
   "id": "d7402d78",
   "metadata": {},
   "outputs": [],
   "source": [
    "df[conti_with_nan].isnull().sum()"
   ]
  },
  {
   "cell_type": "code",
   "execution_count": null,
   "id": "79f58ce9",
   "metadata": {},
   "outputs": [],
   "source": [
    "Numerical_feature=[feature for feature in df.columns if df[feature].dtypes!='O']"
   ]
  },
  {
   "cell_type": "code",
   "execution_count": null,
   "id": "dc5ca632",
   "metadata": {},
   "outputs": [],
   "source": [
    "df[Numerical_feature]"
   ]
  },
  {
   "cell_type": "code",
   "execution_count": null,
   "id": "cae455a6",
   "metadata": {},
   "outputs": [],
   "source": [
    "df[Numerical_feature].isnull().sum()"
   ]
  },
  {
   "cell_type": "code",
   "execution_count": null,
   "id": "5b7e2c31",
   "metadata": {},
   "outputs": [],
   "source": [
    "Numerical_feat=[feature for feature in df.columns if df[feature].isnull().sum()>1 and df[feature].dtypes!='O']"
   ]
  },
  {
   "cell_type": "code",
   "execution_count": null,
   "id": "e0f398d2",
   "metadata": {},
   "outputs": [],
   "source": [
    "df[Numerical_feat]"
   ]
  },
  {
   "cell_type": "code",
   "execution_count": null,
   "id": "9f0bc84c",
   "metadata": {},
   "outputs": [],
   "source": [
    "#Replacing the Numerical Missing values\n",
    "for feature in Numerical_feat:\n",
    "    median_value=df[feature].median()\n",
    "    df[feature].fillna(median_value,inplace=True)\n",
    "df[Numerical_feat].isnull().sum()"
   ]
  },
  {
   "cell_type": "code",
   "execution_count": null,
   "id": "9d576ca4",
   "metadata": {},
   "outputs": [],
   "source": [
    "# from scipy.stats import zscore\n",
    "# Numerical_feature=[feature for feature in df.columns if df[feature].dtypes!='O']\n",
    "# for feature in Numerical_feature:\n",
    "#     z=np.abs(zscore(df[Numerical_feature]))  \n",
    "#     threshold=3                                                                #testing for loop for outliers\n",
    "#     np.where(z>3)\n",
    "#     df[feature]=Numerical_feature[(z<3).all(axis=1)]\n",
    "#     df[feature]"
   ]
  },
  {
   "cell_type": "code",
   "execution_count": null,
   "id": "26dc4169",
   "metadata": {},
   "outputs": [],
   "source": [
    "df.isnull().sum()"
   ]
  },
  {
   "cell_type": "code",
   "execution_count": null,
   "id": "3e85385c",
   "metadata": {},
   "outputs": [],
   "source": [
    "df.columns"
   ]
  },
  {
   "cell_type": "code",
   "execution_count": null,
   "id": "b94bb2fc",
   "metadata": {},
   "outputs": [],
   "source": []
  },
  {
   "cell_type": "code",
   "execution_count": null,
   "id": "181b89f2",
   "metadata": {},
   "outputs": [],
   "source": [
    "plt.figure(figsize=(20,15))\n",
    "plotnumber=1\n",
    "for i in df[Numerical_feature]:\n",
    "    if plotnumber <=36:\n",
    "        ax=plt.subplot(12,3,plotnumber)\n",
    "        sns.histplot(x=i,data=df[Numerical_feature])\n",
    "        plt.title(i)\n",
    "        plt.xlabel(i)\n",
    "    plotnumber+=1\n",
    "plt.show()"
   ]
  },
  {
   "cell_type": "code",
   "execution_count": null,
   "id": "efee0f1d",
   "metadata": {},
   "outputs": [],
   "source": [
    "#from scipy.stats import zscore\n",
    "# z_score=zscore(df[['LotArea', 'LotFrontage']])\n",
    "# z_score=np.abs(z_score)                                            #It worked. for removing outliers\n",
    "# df[['LotArea', 'LotFrontage']]=z_score[(z_score<3).all(axis=1)]"
   ]
  },
  {
   "cell_type": "code",
   "execution_count": null,
   "id": "f1e9f72b",
   "metadata": {},
   "outputs": [],
   "source": [
    "# from scipy.stats import zscore\n",
    "# lecode=LabelEncoder()\n",
    "# #X=lecode.fit_transform(x)                  #testing for loop for outliers\n",
    "# #X\n",
    "# cate=cat.apply(LabelEncoder().fit_transform)\n",
    "# cate"
   ]
  },
  {
   "cell_type": "markdown",
   "id": "2bc948bf",
   "metadata": {},
   "source": [
    "# For Removing skewness through log Transform "
   ]
  },
  {
   "cell_type": "code",
   "execution_count": null,
   "id": "4c361984",
   "metadata": {},
   "outputs": [],
   "source": [
    "for feature in Numerical_feature:\n",
    "    if 0 in df[feature].unique():\n",
    "        pass\n",
    "    else:\n",
    "        df[feature]=np.log(df[feature])\n",
    "        df.boxplot(column=feature)\n",
    "        plt.ylabel(feature)\n",
    "        plt.title(feature)\n",
    "        plt.show()"
   ]
  },
  {
   "cell_type": "code",
   "execution_count": null,
   "id": "67c1496c",
   "metadata": {},
   "outputs": [],
   "source": []
  },
  {
   "cell_type": "code",
   "execution_count": null,
   "id": "95aebf85",
   "metadata": {},
   "outputs": [],
   "source": [
    "df.skew()"
   ]
  },
  {
   "cell_type": "code",
   "execution_count": null,
   "id": "0c355012",
   "metadata": {},
   "outputs": [],
   "source": [
    "cate_feature=[feature for feature in df.columns if df[feature].dtypes=='O']\n",
    "df[cate_feature]"
   ]
  },
  {
   "cell_type": "code",
   "execution_count": null,
   "id": "634dbe45",
   "metadata": {},
   "outputs": [],
   "source": [
    "for feature in cate_feature:\n",
    "    temp=df.groupby(feature)['SalePrice'].count()/len(df)\n",
    "    temp_df=temp[temp>0.01].index\n",
    "    df[feature]=np.where(df[feature].isin(temp_df),df[feature],\"Rare_var\")\n",
    "    df.reset_index()"
   ]
  },
  {
   "cell_type": "code",
   "execution_count": null,
   "id": "57981a08",
   "metadata": {},
   "outputs": [],
   "source": [
    "from sklearn.preprocessing import LabelEncoder\n",
    "# cols=['MSZoning', 'Street', 'LotShape', 'LandContour', 'Utilities',\n",
    "#        'LotConfig', 'LandSlope', 'Neighborhood', 'Condition1', 'Condition2',\n",
    "#        'BldgType', 'HouseStyle', 'RoofStyle', 'RoofMatl', 'Exterior1st',\n",
    "#        'Exterior2nd', 'MasVnrType', 'ExterQual', 'ExterCond', 'Foundation',\n",
    "#        'BsmtQual', 'BsmtCond', 'BsmtExposure', 'BsmtFinType1', 'BsmtFinType2',\n",
    "#        'Heating', 'HeatingQC', 'CentralAir', 'Electrical', 'KitchenQual',\n",
    "#        'Functional', 'GarageType', 'GarageFinish', 'GarageQual', 'GarageCond',\n",
    "#        'PavedDrive', 'SaleType', 'SaleCondition']\n",
    "\n",
    "df[cate_feature]=df[cate_feature].apply(LabelEncoder().fit_transform)"
   ]
  },
  {
   "cell_type": "code",
   "execution_count": null,
   "id": "feb897a4",
   "metadata": {},
   "outputs": [],
   "source": [
    "df[cate_feature]"
   ]
  },
  {
   "cell_type": "code",
   "execution_count": null,
   "id": "59b66051",
   "metadata": {},
   "outputs": [],
   "source": [
    "df.corr()"
   ]
  },
  {
   "cell_type": "code",
   "execution_count": null,
   "id": "54adfefe",
   "metadata": {},
   "outputs": [],
   "source": [
    "plt.figure(figsize=(20,15))\n",
    "sns.heatmap(df[Numerical_feature].corr(),annot=True,fmt='.2f')"
   ]
  },
  {
   "cell_type": "code",
   "execution_count": null,
   "id": "5d75f528",
   "metadata": {},
   "outputs": [],
   "source": [
    "# Vif=pd.DataFrame()\n",
    "# Vif['Vif']=[variance_inflation_factor(df,i) for i in range(df.shape[1])]\n",
    "# Vif['features']=df.columns\n",
    "# Vif"
   ]
  },
  {
   "cell_type": "code",
   "execution_count": null,
   "id": "035ecb70",
   "metadata": {},
   "outputs": [],
   "source": [
    "Vif=pd.DataFrame()\n",
    "Vif['Vif']=[variance_inflation_factor(df[Numerical_feature],i) for i in range(df[Numerical_feature].shape[1])]\n",
    "Vif['features']=df[Numerical_feature].columns\n",
    "Vif"
   ]
  },
  {
   "cell_type": "code",
   "execution_count": null,
   "id": "cfd03621",
   "metadata": {},
   "outputs": [],
   "source": [
    "X=df.iloc[:,1:-1]\n",
    "Y=df.iloc[:,-1]\n"
   ]
  },
  {
   "cell_type": "code",
   "execution_count": null,
   "id": "d1955bac",
   "metadata": {},
   "outputs": [],
   "source": [
    "Y=df.iloc[:,-1]\n"
   ]
  },
  {
   "cell_type": "code",
   "execution_count": null,
   "id": "35354987",
   "metadata": {},
   "outputs": [],
   "source": [
    "scaler=MinMaxScaler()\n",
    "x_scaled = scaler.fit_transform(X)\n",
    "x_scaled"
   ]
  },
  {
   "cell_type": "code",
   "execution_count": null,
   "id": "ef23356b",
   "metadata": {},
   "outputs": [],
   "source": [
    "x_train,x_test,y_train,y_test=train_test_split(x_scaled,Y,test_size=.25,random_state=15)"
   ]
  },
  {
   "cell_type": "code",
   "execution_count": null,
   "id": "83d5a0d4",
   "metadata": {},
   "outputs": [],
   "source": [
    "print(x_train.shape)\n",
    "print(y_train.shape)"
   ]
  },
  {
   "cell_type": "code",
   "execution_count": null,
   "id": "2e35f647",
   "metadata": {},
   "outputs": [],
   "source": [
    "lr = LinearRegression()\n",
    "lr.fit(x_scaled,Y)"
   ]
  },
  {
   "cell_type": "code",
   "execution_count": null,
   "id": "16f809f5",
   "metadata": {},
   "outputs": [],
   "source": [
    "pred=lr.predict(x_test)\n",
    "pred"
   ]
  },
  {
   "cell_type": "code",
   "execution_count": null,
   "id": "de244592",
   "metadata": {},
   "outputs": [],
   "source": [
    "lr.score(x_train,y_train)"
   ]
  },
  {
   "cell_type": "code",
   "execution_count": null,
   "id": "785becc4",
   "metadata": {},
   "outputs": [],
   "source": [
    "lr.score(x_test, y_test)"
   ]
  },
  {
   "cell_type": "code",
   "execution_count": null,
   "id": "9a189646",
   "metadata": {},
   "outputs": [],
   "source": [
    "print(\"MsE\",mean_squared_error(y_test,pred))"
   ]
  },
  {
   "cell_type": "code",
   "execution_count": null,
   "id": "8ca1c77a",
   "metadata": {},
   "outputs": [],
   "source": [
    "print(\"MAE\",mean_absolute_error(y_test,pred))"
   ]
  },
  {
   "cell_type": "code",
   "execution_count": null,
   "id": "a9f8ab90",
   "metadata": {},
   "outputs": [],
   "source": [
    " # Regularization with grid search CV"
   ]
  },
  {
   "cell_type": "code",
   "execution_count": null,
   "id": "cc124c5b",
   "metadata": {},
   "outputs": [],
   "source": [
    "#create and fit a ridge regression model testing each alpha\n",
    "parameters={'alpha':[0.1,0.01,0.001,0.0001,1,0],'random_state':list(range(0,10))}\n",
    "model=Ridge()\n",
    "grid=GridSearchCV(model,parameters)\n",
    "grid.fit(x_scaled,Y)\n",
    "print(grid.best_params_)"
   ]
  },
  {
   "cell_type": "code",
   "execution_count": null,
   "id": "16673116",
   "metadata": {},
   "outputs": [],
   "source": [
    "model=Ridge(alpha= 1, random_state=0)\n",
    "model.fit(x_scaled,Y)"
   ]
  },
  {
   "cell_type": "code",
   "execution_count": null,
   "id": "5b12e0ea",
   "metadata": {},
   "outputs": [],
   "source": [
    "prediction_Rid=model.predict(x_test)\n",
    "prediction_Rid"
   ]
  },
  {
   "cell_type": "code",
   "execution_count": null,
   "id": "3fbbee85",
   "metadata": {},
   "outputs": [],
   "source": [
    "score_rid=model.score(x_scaled,Y)\n",
    "score_rid"
   ]
  },
  {
   "cell_type": "code",
   "execution_count": null,
   "id": "e60629fb",
   "metadata": {},
   "outputs": [],
   "source": [
    "mod=Lasso()\n",
    "parameter={'alpha':[0.1,0.01,0.001,0.0001,1,0],'random_state':list(range(0,10))}\n",
    "grid=GridSearchCV(mod,parameter)\n",
    "grid.fit(x_scaled,Y)\n",
    "print(grid.best_params_)"
   ]
  },
  {
   "cell_type": "code",
   "execution_count": null,
   "id": "768887cc",
   "metadata": {},
   "outputs": [],
   "source": [
    "mod=Lasso(alpha= 0.001, random_state=0)\n",
    "mod.fit(x_scaled,Y)"
   ]
  },
  {
   "cell_type": "code",
   "execution_count": null,
   "id": "527b056b",
   "metadata": {},
   "outputs": [],
   "source": [
    "prediction_lasso=mod.predict(x_test)\n",
    "prediction_lasso"
   ]
  },
  {
   "cell_type": "code",
   "execution_count": null,
   "id": "9d798687",
   "metadata": {},
   "outputs": [],
   "source": [
    "score_lasso=model.score(x_scaled,Y)\n",
    "score_lasso\n"
   ]
  },
  {
   "cell_type": "code",
   "execution_count": null,
   "id": "50cca526",
   "metadata": {},
   "outputs": [],
   "source": [
    "print(grid.best_params_)"
   ]
  },
  {
   "cell_type": "code",
   "execution_count": null,
   "id": "8a4c5a89",
   "metadata": {},
   "outputs": [],
   "source": [
    "cross_val= cross_val_score(lr,x_scaled,Y,cv=5)\n",
    "print(cross_val)\n",
    "print(cross_val.mean())\n",
    "print(cross_val.std())"
   ]
  },
  {
   "cell_type": "code",
   "execution_count": null,
   "id": "22965f6e",
   "metadata": {},
   "outputs": [],
   "source": [
    "#prediction through graph\n",
    "plt.scatter(y_test,pred)\n",
    "plt.xlabel('actual')\n",
    "plt.ylabel('predicted')\n",
    "plt.title('actual vs predicted')\n",
    "plt.show()"
   ]
  },
  {
   "cell_type": "code",
   "execution_count": null,
   "id": "886f0678",
   "metadata": {},
   "outputs": [],
   "source": []
  },
  {
   "cell_type": "code",
   "execution_count": null,
   "id": "f3412d12",
   "metadata": {},
   "outputs": [],
   "source": [
    "#for saving the file\n",
    "import joblib\n",
    "joblib.dump(lr,\"House_prediction_price_Train.csv.obj\")"
   ]
  },
  {
   "cell_type": "code",
   "execution_count": null,
   "id": "53e5b6ed",
   "metadata": {},
   "outputs": [],
   "source": [
    "lr_joblib=joblib.load(\"House_prediction_price_Train.csv.obj\")\n",
    "lr_joblib"
   ]
  },
  {
   "cell_type": "code",
   "execution_count": null,
   "id": "d6153224",
   "metadata": {},
   "outputs": [],
   "source": [
    "df=pd.read_csv(r\"D:\\OneDrive\\Documents\\Downloads\\Intern\\Project-Housing_splitted\\train.csv\")\n",
    "df"
   ]
  },
  {
   "cell_type": "code",
   "execution_count": null,
   "id": "11f14a28",
   "metadata": {},
   "outputs": [],
   "source": [
    "df.head()\n"
   ]
  },
  {
   "cell_type": "code",
   "execution_count": null,
   "id": "28d81cdb",
   "metadata": {},
   "outputs": [],
   "source": [
    "df.dtypes\n"
   ]
  },
  {
   "cell_type": "code",
   "execution_count": null,
   "id": "d2644574",
   "metadata": {},
   "outputs": [],
   "source": [
    "df.info()\n"
   ]
  },
  {
   "cell_type": "code",
   "execution_count": null,
   "id": "22805518",
   "metadata": {},
   "outputs": [],
   "source": [
    "df.isnull().sum()"
   ]
  },
  {
   "cell_type": "code",
   "execution_count": null,
   "id": "ff274b4b",
   "metadata": {},
   "outputs": [],
   "source": [
    "year_feat=[feature for feature in Numerical_feature if 'Yr' in feature or 'Year' in feature]\n",
    "print(year_feat)"
   ]
  },
  {
   "cell_type": "code",
   "execution_count": null,
   "id": "47ce1ad6",
   "metadata": {},
   "outputs": [],
   "source": [
    "features_with_na=[features for features in df.columns if df[features].isnull().sum()>1]  #  1 is for -- if atleast 1 na define.\n",
    "for feature in features_with_na:\n",
    "    print(feature,np.round(df[feature].isnull().mean(),2),\"Missing value\")"
   ]
  },
  {
   "cell_type": "code",
   "execution_count": null,
   "id": "9a2c9f60",
   "metadata": {},
   "outputs": [],
   "source": [
    "for feature in features_with_na:\n",
    "#let's make the variable that indicates 1 if the observation is missing\n",
    "    feature=np.where(df[feature].isnull(),1 , 0)\n",
    "#let's calculate the mean value of SalesPrice where the info is missing\n",
    "    df.groupby(feature)[\"SalePrice\"].median().plot.bar()\n",
    "    plt.title(feature)\n",
    "    plt.show()"
   ]
  },
  {
   "cell_type": "code",
   "execution_count": null,
   "id": "4771360a",
   "metadata": {},
   "outputs": [],
   "source": [
    "# list of numerical variable\n",
    "Numerical_feature=[feature for feature in df.columns if df[feature].dtypes!='O']  # o means object\n",
    "print('Numerical_features',len(Numerical_feature))\n",
    "df[Numerical_feature].head()"
   ]
  },
  {
   "cell_type": "code",
   "execution_count": null,
   "id": "0ea36d60",
   "metadata": {},
   "outputs": [],
   "source": [
    "df[Numerical_feature].isnull().sum()\n",
    "year_feat=[feature for feature in Numerical_feature if 'Yr' in feature or 'Year' in feature]\n",
    "print(year_feat)\n"
   ]
  },
  {
   "cell_type": "code",
   "execution_count": null,
   "id": "7bbf5286",
   "metadata": {},
   "outputs": [],
   "source": [
    "## Temoral variable(date time variables)\n",
    "for feature in ['YearBuilt', 'YearRemodAdd', 'GarageYrBlt']:\n",
    "    df[feature]=df['YrSold']-df[feature]\n"
   ]
  },
  {
   "cell_type": "code",
   "execution_count": null,
   "id": "a8a7da08",
   "metadata": {},
   "outputs": [],
   "source": [
    "df[['YearBuilt', 'YearRemodAdd', 'GarageYrBlt']].head()\n",
    "for feature in year_feat:\n",
    "    print(feature,df[feature].unique())\n"
   ]
  },
  {
   "cell_type": "code",
   "execution_count": null,
   "id": "3a8b5954",
   "metadata": {},
   "outputs": [],
   "source": [
    "df.groupby('YrSold')['SalePrice'].median().plot()\n",
    "plt.xlabel('yearsold')\n",
    "plt.ylabel(\"median house price\")\n",
    "plt.title(\"house price vs Year sold price\")"
   ]
  },
  {
   "cell_type": "code",
   "execution_count": null,
   "id": "b46ea801",
   "metadata": {},
   "outputs": [],
   "source": [
    "df.groupby('YearBuilt')['SalePrice'].median().plot()\n",
    "plt.xlabel('YearBuilt')\n",
    "plt.ylabel(\"median house price\")\n",
    "plt.title(\"house price vs YearBuilt\")"
   ]
  },
  {
   "cell_type": "code",
   "execution_count": null,
   "id": "b8eac07b",
   "metadata": {},
   "outputs": [],
   "source": [
    "# Here we will compare the difference between all years feature with SalePrice.\n",
    "for feature in year_feat:\n",
    "    if feature != 'YrSold':                                         # Repeat Again\n",
    "        df[feature]=df[\"YrSold\"]-df[feature]\n",
    "        plt.scatter(df[feature],df['SalePrice'])\n",
    "        plt.xlabel(feature)\n",
    "        plt.ylabel(\"SalePrice\")\n",
    "        plt.show()"
   ]
  },
  {
   "cell_type": "code",
   "execution_count": null,
   "id": "a82a4af5",
   "metadata": {},
   "outputs": [],
   "source": [
    "for feature in year_feat:\n",
    "    if 0 in df[feature].unique():\n",
    "        pass\n",
    "    else:\n",
    "#         df[feature]=np.log(df[feature])\n",
    "        df.boxplot(column=feature)\n",
    "        plt.ylabel(feature)\n",
    "        plt.title(feature)\n",
    "        plt.show()"
   ]
  },
  {
   "cell_type": "code",
   "execution_count": null,
   "id": "cc117c45",
   "metadata": {},
   "outputs": [],
   "source": [
    "### Numerical variable are usually of 2 type\n",
    "# 1. Continous variable and Discreate variable\n",
    "Discreate_feat=[feature for feature in Numerical_feature if len(df[feature].unique())<25 and feature not in year_feat+[\"Id\"]]\n",
    "Discreate_feat"
   ]
  },
  {
   "cell_type": "code",
   "execution_count": null,
   "id": "aeb4fdb9",
   "metadata": {},
   "outputs": [],
   "source": [
    "df[Discreate_feat].isnull().sum()"
   ]
  },
  {
   "cell_type": "code",
   "execution_count": null,
   "id": "74bb4b47",
   "metadata": {},
   "outputs": [],
   "source": [
    "for feature in Discreate_feat:\n",
    "    if 0 in df[feature].unique():\n",
    "        pass\n",
    "    else:\n",
    "#         df[feature]=np.log(df[feature])\n",
    "        df.boxplot(column=feature)\n",
    "        plt.ylabel(feature)\n",
    "        plt.title(feature)\n",
    "        plt.show()"
   ]
  },
  {
   "cell_type": "code",
   "execution_count": null,
   "id": "f1949777",
   "metadata": {},
   "outputs": [],
   "source": [
    "conti_feat=[feature for feature in Numerical_feature if feature not in Discreate_feat+year_feat+[\"Id\"]]\n",
    "df[conti_feat]"
   ]
  },
  {
   "cell_type": "code",
   "execution_count": null,
   "id": "66f2f3a3",
   "metadata": {},
   "outputs": [],
   "source": [
    "df[conti_feat].isnull().sum()"
   ]
  },
  {
   "cell_type": "code",
   "execution_count": null,
   "id": "478aa158",
   "metadata": {},
   "outputs": [],
   "source": [
    "for feature in conti_feat:\n",
    "    df[feature].hist(bins=15)\n",
    "    plt.xlabel(feature)\n",
    "    plt.ylabel('count')\n",
    "    plt.title(feature)\n",
    "    plt.show()"
   ]
  },
  {
   "cell_type": "code",
   "execution_count": null,
   "id": "2fa1e650",
   "metadata": {},
   "outputs": [],
   "source": [
    "# here we are using logarithmic transform\n",
    "\n",
    "for feature in conti_feat:\n",
    "    if 0 in df[feature].unique():\n",
    "        pass\n",
    "    else:\n",
    "#         df[feature]=np.log(df[feature])\n",
    "#         df['SalePrice']=np.log(df['SalePrice'])            #check this line \n",
    "        plt.scatter(df[feature],df[\"SalePrice\"])\n",
    "        plt.xlabel(feature)\n",
    "        plt.ylabel(\"SalePrice\")\n",
    "        plt.title(feature)\n",
    "        plt.show()"
   ]
  },
  {
   "cell_type": "code",
   "execution_count": null,
   "id": "b1ac07b2",
   "metadata": {},
   "outputs": [],
   "source": [
    "for feature in conti_feat:\n",
    "    if 0 in df[feature].unique():\n",
    "        pass\n",
    "    else:\n",
    "#         df[feature]=np.log(df[feature])\n",
    "        df.boxplot(column=feature)\n",
    "        plt.ylabel(feature)\n",
    "        plt.title(feature)\n",
    "        plt.show()"
   ]
  },
  {
   "cell_type": "code",
   "execution_count": null,
   "id": "b23d37f3",
   "metadata": {},
   "outputs": [],
   "source": [
    "for feature in cat_feat:\n",
    "    print('The feature is {} and no. of categories are {}'.format(feature,len(df[feature].unique())))\n"
   ]
  },
  {
   "cell_type": "code",
   "execution_count": null,
   "id": "08d8a487",
   "metadata": {},
   "outputs": [],
   "source": [
    "cat_feat=[feature for feature in df.columns if df[feature].dtypes==\"O\"]\n",
    "df[cat_feat]"
   ]
  },
  {
   "cell_type": "code",
   "execution_count": null,
   "id": "bdc52d29",
   "metadata": {},
   "outputs": [],
   "source": [
    "cat_with_na=[feature for feature in df.columns if df[feature].isnull().sum()>1 and df[feature].dtypes=='O']\n",
    "for feature in cat_with_na:\n",
    "    print('{}:{}%missing values'.format(feature,np.round(df[feature].isnull().mean(),2)))"
   ]
  },
  {
   "cell_type": "code",
   "execution_count": null,
   "id": "415d7f56",
   "metadata": {},
   "outputs": [],
   "source": [
    "def replace_cat_nan(df,cat_with_na):\n",
    "    df[cat_with_na]=df[cat_with_na].fillna(\"Missing\")\n",
    "    return df\n",
    "df=replace_cat_nan(df,cat_with_na)\n",
    "df[cat_with_na].isnull().sum() "
   ]
  },
  {
   "cell_type": "code",
   "execution_count": null,
   "id": "9f8adfc9",
   "metadata": {},
   "outputs": [],
   "source": [
    "conti_with_nan=[features for features in df.columns if df[features].dtypes!=\"O\"]  #  1 is for -- if atleast 1 na define.\n",
    "for feature in conti_with_nan:\n",
    "    print(feature,np.round(df[feature].isnull().mean(),2),\"Missing value\") # 2 HERE FOR DECIMAL VALUE"
   ]
  },
  {
   "cell_type": "code",
   "execution_count": null,
   "id": "888800f6",
   "metadata": {},
   "outputs": [],
   "source": [
    "Numerical_feature=[feature for feature in df.columns if df[feature].dtypes!='O']"
   ]
  },
  {
   "cell_type": "code",
   "execution_count": null,
   "id": "4e4ccf38",
   "metadata": {},
   "outputs": [],
   "source": [
    "#Replacing the Numerical Missing values\n",
    "for feature in Numerical_feat:\n",
    "    median_value=df[feature].median()\n",
    "    df[feature].fillna(median_value,inplace=True)\n",
    "df[Numerical_feat].isnull().sum()"
   ]
  },
  {
   "cell_type": "code",
   "execution_count": null,
   "id": "2b278f67",
   "metadata": {},
   "outputs": [],
   "source": [
    "for feature in Numerical_feature:\n",
    "    if 0 in df[feature].unique():\n",
    "        pass\n",
    "    else:\n",
    "        df[feature]=np.log(df[feature])\n",
    "        df.boxplot(column=feature)\n",
    "        plt.ylabel(feature)\n",
    "        plt.title(feature)\n",
    "        plt.show()"
   ]
  },
  {
   "cell_type": "code",
   "execution_count": null,
   "id": "019678d1",
   "metadata": {},
   "outputs": [],
   "source": [
    "df.skew()"
   ]
  },
  {
   "cell_type": "code",
   "execution_count": null,
   "id": "bf7ac599",
   "metadata": {},
   "outputs": [],
   "source": [
    "from sklearn.preprocessing import LabelEncoder\n",
    "df[cate_feature]=df[cate_feature].apply(LabelEncoder().fit_transform)"
   ]
  },
  {
   "cell_type": "code",
   "execution_count": null,
   "id": "b9c92adc",
   "metadata": {},
   "outputs": [],
   "source": [
    "Vif=pd.DataFrame()\n",
    "Vif['Vif']=[variance_inflation_factor(df[Numerical_feature],i) for i in range(df[Numerical_feature].shape[1])]\n",
    "Vif['features']=df[Numerical_feature].columns\n",
    "Vif"
   ]
  },
  {
   "cell_type": "code",
   "execution_count": null,
   "id": "9dced102",
   "metadata": {},
   "outputs": [],
   "source": []
  },
  {
   "cell_type": "code",
   "execution_count": null,
   "id": "f4b3f3bb",
   "metadata": {},
   "outputs": [],
   "source": [
    "X=df.iloc[:,1:-1]"
   ]
  },
  {
   "cell_type": "code",
   "execution_count": null,
   "id": "a3ffb44a",
   "metadata": {},
   "outputs": [],
   "source": [
    "scaler=MinMaxScaler()\n",
    "x_scaled = scaler.fit_transform(X)\n",
    "x_scaled"
   ]
  },
  {
   "cell_type": "code",
   "execution_count": null,
   "id": "07c85d65",
   "metadata": {},
   "outputs": [],
   "source": [
    "#for saving the file\n",
    "import joblib\n",
    "joblib.dump(lr,\"House_prediction_price_test.csv.obj\")"
   ]
  },
  {
   "cell_type": "code",
   "execution_count": null,
   "id": "b25b4715",
   "metadata": {},
   "outputs": [],
   "source": [
    "x_test = pd.DataFrame(x_scaled)\n",
    "x_test"
   ]
  },
  {
   "cell_type": "code",
   "execution_count": null,
   "id": "ab174ed5",
   "metadata": {},
   "outputs": [],
   "source": [
    "Test=lr_joblib.predict(x_test)"
   ]
  },
  {
   "cell_type": "code",
   "execution_count": null,
   "id": "947d5bde",
   "metadata": {},
   "outputs": [],
   "source": [
    "Test"
   ]
  },
  {
   "cell_type": "code",
   "execution_count": null,
   "id": "1b98b7ee",
   "metadata": {},
   "outputs": [],
   "source": [
    "df=pd.DataFrame(Test)\n",
    "df"
   ]
  },
  {
   "cell_type": "code",
   "execution_count": null,
   "id": "29e99815",
   "metadata": {},
   "outputs": [],
   "source": [
    "#for saving the file\n",
    "import joblib\n",
    "joblib.dump(lg,\"Test.csv.obj\")"
   ]
  },
  {
   "cell_type": "code",
   "execution_count": null,
   "id": "2debce10",
   "metadata": {},
   "outputs": [],
   "source": []
  },
  {
   "cell_type": "code",
   "execution_count": null,
   "id": "42523492",
   "metadata": {},
   "outputs": [],
   "source": []
  }
 ],
 "metadata": {
  "kernelspec": {
   "display_name": "Python 3 (ipykernel)",
   "language": "python",
   "name": "python3"
  },
  "language_info": {
   "codemirror_mode": {
    "name": "ipython",
    "version": 3
   },
   "file_extension": ".py",
   "mimetype": "text/x-python",
   "name": "python",
   "nbconvert_exporter": "python",
   "pygments_lexer": "ipython3",
   "version": "3.9.15"
  }
 },
 "nbformat": 4,
 "nbformat_minor": 5
}
